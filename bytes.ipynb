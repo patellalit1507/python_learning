{
 "cells": [
  {
   "cell_type": "markdown",
   "id": "cc26edd3-2d69-4e3d-be19-ee9f2d998230",
   "metadata": {},
   "source": [
    "bytes is an immutable sequence of integers in the range 0-255.\n",
    "It represents binary data (raw data).\n",
    "Used for file handling, networking, encryption, and data compression."
   ]
  },
  {
   "cell_type": "code",
   "execution_count": 1,
   "id": "786babb7-0de1-4014-bf4f-5867b46bab20",
   "metadata": {},
   "outputs": [],
   "source": [
    "v_name = b'lalit'"
   ]
  },
  {
   "cell_type": "code",
   "execution_count": 4,
   "id": "574befc1-de88-4072-9eae-812991a45b76",
   "metadata": {},
   "outputs": [
    {
     "name": "stdout",
     "output_type": "stream",
     "text": [
      "[108, 97, 108, 105, 116]\n"
     ]
    }
   ],
   "source": [
    "print(list(v_name))"
   ]
  },
  {
   "cell_type": "code",
   "execution_count": 5,
   "id": "ab8895c7-062d-49e3-b95c-a8c3e4ab0ccb",
   "metadata": {},
   "outputs": [
    {
     "name": "stdout",
     "output_type": "stream",
     "text": [
      "b'lalit'\n"
     ]
    }
   ],
   "source": [
    "print(v_name)"
   ]
  },
  {
   "cell_type": "code",
   "execution_count": 11,
   "id": "d0f9ce78-f963-41d6-aeae-d650d9df26ab",
   "metadata": {},
   "outputs": [
    {
     "name": "stderr",
     "output_type": "stream",
     "text": [
      "IOPub data rate exceeded.\n",
      "The Jupyter server will temporarily stop sending output\n",
      "to the client in order to avoid crashing it.\n",
      "To change this limit, set the config variable\n",
      "`--ServerApp.iopub_data_rate_limit`.\n",
      "\n",
      "Current values:\n",
      "ServerApp.iopub_data_rate_limit=1000000.0 (bytes/sec)\n",
      "ServerApp.rate_limit_window=3.0 (secs)\n",
      "\n"
     ]
    }
   ],
   "source": [
    "with  open('image.jpg' , 'rb') as f:\n",
    "    image_data = f.read()\n",
    "\n",
    "print(list(image_data))"
   ]
  },
  {
   "cell_type": "markdown",
   "id": "02dfa003-e0d1-4225-b6fe-5297c9ab611e",
   "metadata": {},
   "source": [
    "Various ways to declare bytes"
   ]
  },
  {
   "cell_type": "code",
   "execution_count": 14,
   "id": "fc1ef937-6f81-4563-b518-b2b5f3f96d61",
   "metadata": {},
   "outputs": [],
   "source": [
    "b1 = b'Hello'\n",
    "b2 = bytes([72, 101, 108, 108, 111])  # ASCII values\n",
    "b3 = \"Hello\".encode('utf-8')"
   ]
  },
  {
   "cell_type": "code",
   "execution_count": null,
   "id": "87773a95-0348-4d13-a230-964de4e0dc99",
   "metadata": {},
   "outputs": [],
   "source": []
  }
 ],
 "metadata": {
  "kernelspec": {
   "display_name": "Python 3 (ipykernel)",
   "language": "python",
   "name": "python3"
  },
  "language_info": {
   "codemirror_mode": {
    "name": "ipython",
    "version": 3
   },
   "file_extension": ".py",
   "mimetype": "text/x-python",
   "name": "python",
   "nbconvert_exporter": "python",
   "pygments_lexer": "ipython3",
   "version": "3.12.4"
  }
 },
 "nbformat": 4,
 "nbformat_minor": 5
}
