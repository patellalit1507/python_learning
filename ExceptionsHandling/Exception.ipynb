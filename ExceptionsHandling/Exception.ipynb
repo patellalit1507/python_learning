{
 "cells": [
  {
   "cell_type": "markdown",
   "id": "08658e61-73b6-4030-a8cb-423bcf042c8d",
   "metadata": {},
   "source": [
    "### Built-in Exception Types:\n",
    "|Exception Type     | When Occurs                |\n",
    "|-------------------|----------------------------|\n",
    "|ZeroDivisionError\t|Dividing by Zero|\n",
    "|ValueError\t        |Invalid value|\n",
    "|TypeError\t        |Wrong data type|\n",
    "|FileNotFoundError\t|File not present|\n",
    "|IndexError     \t|List index out of range|\n",
    "|KeyError\t        |Dictionary key not found|\n",
    "|AttributeError \t|Invalid method/object usage|"
   ]
  },
  {
   "cell_type": "code",
   "execution_count": 1,
   "id": "7a4ae9dc-0ffb-4139-9298-133ee864de6f",
   "metadata": {},
   "outputs": [
    {
     "name": "stdin",
     "output_type": "stream",
     "text": [
      "Enter number:  \n"
     ]
    },
    {
     "name": "stdout",
     "output_type": "stream",
     "text": [
      "Invalid Input!\n",
      "Execution Completed!\n"
     ]
    }
   ],
   "source": [
    "try:\n",
    "    x = int(input(\"Enter number: \"))\n",
    "    print(10 / x)\n",
    "\n",
    "except ZeroDivisionError:\n",
    "    print(\"Cannot divide by Zero!\")\n",
    "\n",
    "except ValueError:\n",
    "    print(\"Invalid Input!\")\n",
    "\n",
    "finally:\n",
    "    print(\"Execution Completed!\")"
   ]
  },
  {
   "cell_type": "code",
   "execution_count": 4,
   "id": "f5352712-6fa8-419a-b051-00934f5a252b",
   "metadata": {},
   "outputs": [
    {
     "name": "stdout",
     "output_type": "stream",
     "text": [
      "The amount should be greate than 0\n"
     ]
    }
   ],
   "source": [
    "def withdraw(x):\n",
    "    if x<0:\n",
    "        raise ValueError(\"The amount should be greate than 0\")\n",
    "        \n",
    "\n",
    "try:\n",
    "    withdraw(-100)\n",
    "\n",
    "except ValueError as e:\n",
    "    print(e)"
   ]
  },
  {
   "cell_type": "markdown",
   "id": "3420c410-f597-45a1-90a0-8b58a17db265",
   "metadata": {},
   "source": [
    "### Important concept\n",
    "Python checks except blocks from top to bottom. It will catch the first matching exception class or its parent class.\n",
    "|Exception|\n",
    "|--------|\n",
    "|  ↑|\n",
    "|  B|\n",
    "|  ↑|\n",
    "|  C|\n",
    "|  ↑|\n",
    "|  D|"
   ]
  },
  {
   "cell_type": "code",
   "execution_count": 7,
   "id": "6692ca74-1ae3-4797-b75d-c26d40c42b70",
   "metadata": {},
   "outputs": [
    {
     "name": "stdout",
     "output_type": "stream",
     "text": [
      "B\n",
      "B\n",
      "B\n"
     ]
    }
   ],
   "source": [
    "class B(Exception):\n",
    "    pass\n",
    "\n",
    "class C(B):\n",
    "    pass\n",
    "\n",
    "class D(C):\n",
    "    pass\n",
    "\n",
    "for cls in [B, C, D]:\n",
    "    try:\n",
    "        raise cls()\n",
    "    except B:\n",
    "        print(\"B\")\n",
    "    except C:\n",
    "        print(\"C\")\n",
    "    except D:\n",
    "        print(\"B\")"
   ]
  },
  {
   "cell_type": "code",
   "execution_count": 8,
   "id": "3907e494-63a2-4e5e-8c62-803af428b640",
   "metadata": {},
   "outputs": [
    {
     "name": "stdout",
     "output_type": "stream",
     "text": [
      "True\n"
     ]
    }
   ],
   "source": [
    "def func():\n",
    "    try:\n",
    "        raise ValueError(\"Value is not correct\")\n",
    "    finally:\n",
    "        return True\n",
    "\n",
    "print(func())"
   ]
  },
  {
   "cell_type": "code",
   "execution_count": 10,
   "id": "2038866c-566a-4783-9319-b7e9733c00b3",
   "metadata": {},
   "outputs": [
    {
     "name": "stdout",
     "output_type": "stream",
     "text": [
      "11\n"
     ]
    }
   ],
   "source": [
    "count = 10\n",
    "\n",
    "def additions():\n",
    "    global count\n",
    "    count = count +1\n",
    "\n",
    "additions()\n",
    "print(count)"
   ]
  },
  {
   "cell_type": "code",
   "execution_count": 11,
   "id": "ad5637c9-cb11-46ab-b55c-3f8c86b74572",
   "metadata": {},
   "outputs": [
    {
     "name": "stdout",
     "output_type": "stream",
     "text": [
      "{'env': 'dev', 'region': 'asia-east1'}\n"
     ]
    }
   ],
   "source": [
    "config = {\n",
    "    \"env\": \"prod\",\n",
    "    \"region\": \"asia-east1\"\n",
    "}\n",
    "\n",
    "def update_config():\n",
    "    global config\n",
    "    config[\"env\"] = \"dev\"\n",
    "\n",
    "update_config()\n",
    "print(config)"
   ]
  },
  {
   "cell_type": "code",
   "execution_count": null,
   "id": "8924de2a-dec8-4e38-8f2f-2e7ad6dc6ab6",
   "metadata": {},
   "outputs": [],
   "source": []
  }
 ],
 "metadata": {
  "kernelspec": {
   "display_name": "Python 3 (ipykernel)",
   "language": "python",
   "name": "python3"
  },
  "language_info": {
   "codemirror_mode": {
    "name": "ipython",
    "version": 3
   },
   "file_extension": ".py",
   "mimetype": "text/x-python",
   "name": "python",
   "nbconvert_exporter": "python",
   "pygments_lexer": "ipython3",
   "version": "3.12.4"
  }
 },
 "nbformat": 4,
 "nbformat_minor": 5
}
