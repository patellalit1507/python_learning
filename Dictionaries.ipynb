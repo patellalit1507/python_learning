{
 "cells": [
  {
   "cell_type": "markdown",
   "id": "09c55317-be74-4641-8a84-bf4f51a819bc",
   "metadata": {},
   "source": [
    "# Dictionaries"
   ]
  },
  {
   "cell_type": "markdown",
   "id": "5b8acca3-4b80-4a75-93e5-4cc583222538",
   "metadata": {},
   "source": [
    "#### Another useful data type built into Python is the dictionary (see Mapping Types — dict). Dictionaries are sometimes found in other languages as “associative memories” or “associative arrays”. Unlike sequences, which are indexed by a range of numbers, dictionaries are indexed by keys, which can be any immutable type; strings and numbers can always be keys. Tuples can be used as keys if they contain only strings, numbers, or tuples; if a tuple contains any mutable object either directly or indirectly, it cannot be used as a key. You can’t use lists as keys, since lists can be modified in place using index assignments, slice assignments, or methods like append() and extend()."
   ]
  },
  {
   "cell_type": "code",
   "execution_count": 1,
   "id": "2c17d9a6-7c8c-458c-98a0-87aad5fb7cf5",
   "metadata": {},
   "outputs": [],
   "source": [
    "dict1 = {'lalit': 12, 'aayush':25, 'nachi':30}"
   ]
  },
  {
   "cell_type": "code",
   "execution_count": 4,
   "id": "08248ea4-2319-4a65-99fa-dbc8e9847210",
   "metadata": {},
   "outputs": [
    {
     "name": "stdout",
     "output_type": "stream",
     "text": [
      "{'lalit': 12, 'aayush': 25, 'nachi': 30, 'aakash': 34}\n"
     ]
    }
   ],
   "source": [
    "print(dict1)"
   ]
  },
  {
   "cell_type": "code",
   "execution_count": 3,
   "id": "2f6e1515-1a09-4712-9831-7fb0b08a4454",
   "metadata": {},
   "outputs": [],
   "source": [
    "dict1['aakash'] = 34"
   ]
  },
  {
   "cell_type": "code",
   "execution_count": 5,
   "id": "d5f6a9b7-9fa4-4f31-b4fc-637ddf730d93",
   "metadata": {},
   "outputs": [
    {
     "name": "stdout",
     "output_type": "stream",
     "text": [
      "['lalit', 'aayush', 'nachi', 'aakash']\n"
     ]
    }
   ],
   "source": [
    "print(list(dict1))"
   ]
  },
  {
   "cell_type": "code",
   "execution_count": 8,
   "id": "c69ce126-91fc-4fa5-a2d1-939920eaca9f",
   "metadata": {},
   "outputs": [
    {
     "name": "stdout",
     "output_type": "stream",
     "text": [
      "['aakash', 'aayush', 'lalit', 'nachi']\n"
     ]
    }
   ],
   "source": [
    "print(sorted(dict1))"
   ]
  },
  {
   "cell_type": "code",
   "execution_count": 9,
   "id": "43ed7608-9188-4ce6-bf47-bb086e1261a6",
   "metadata": {},
   "outputs": [
    {
     "name": "stdout",
     "output_type": "stream",
     "text": [
      "False\n"
     ]
    }
   ],
   "source": [
    "print('aakash' not in dict1)"
   ]
  },
  {
   "cell_type": "markdown",
   "id": "8b9176b8-0516-45e3-8647-f4d7fbbf18da",
   "metadata": {},
   "source": [
    "Another way to create dictionary using dict() construcutor"
   ]
  },
  {
   "cell_type": "code",
   "execution_count": 18,
   "id": "29577f83-cab8-4b73-9e7a-f09a13c4297b",
   "metadata": {},
   "outputs": [],
   "source": [
    "dict2 = dict([('lalit',12),('ashish',34),(('lalit',13),14)])"
   ]
  },
  {
   "cell_type": "code",
   "execution_count": 19,
   "id": "50fb7dcd-c74f-4167-b5f0-ac734c76342f",
   "metadata": {},
   "outputs": [
    {
     "name": "stdout",
     "output_type": "stream",
     "text": [
      "{'lalit': 12, 'ashish': 34, ('lalit', 13): 14}\n"
     ]
    }
   ],
   "source": [
    "print(dict2)"
   ]
  },
  {
   "cell_type": "code",
   "execution_count": 20,
   "id": "6c12281b-1183-4aa3-9b8f-51732494bca1",
   "metadata": {},
   "outputs": [
    {
     "name": "stdout",
     "output_type": "stream",
     "text": [
      "['lalit', 'ashish', ('lalit', 13)]\n"
     ]
    }
   ],
   "source": [
    "print(list(dict2))"
   ]
  },
  {
   "cell_type": "code",
   "execution_count": 21,
   "id": "036f65eb-db0d-4b40-a398-f6d19442c152",
   "metadata": {},
   "outputs": [],
   "source": [
    "a = 3,4,'lalit'"
   ]
  },
  {
   "cell_type": "code",
   "execution_count": 22,
   "id": "6715542c-bf48-48e8-bd27-a093f86974bb",
   "metadata": {},
   "outputs": [],
   "source": [
    "dict2[a] = 'tuple type'"
   ]
  },
  {
   "cell_type": "code",
   "execution_count": 23,
   "id": "c99241e5-068e-44aa-ab5a-ca3619c012f6",
   "metadata": {},
   "outputs": [
    {
     "name": "stdout",
     "output_type": "stream",
     "text": [
      "{'lalit': 12, 'ashish': 34, ('lalit', 13): 14, (3, 4, 'lalit'): 'tuple type'}\n"
     ]
    }
   ],
   "source": [
    "print(dict2)"
   ]
  },
  {
   "cell_type": "code",
   "execution_count": 25,
   "id": "3065e3ce-e3bc-4807-80c7-c14478b88703",
   "metadata": {},
   "outputs": [],
   "source": [
    "b = 'xyz'\n",
    "dict2[b] = 'variable'"
   ]
  },
  {
   "cell_type": "code",
   "execution_count": 26,
   "id": "5e88e804-5ef7-4465-804d-5a50533ea749",
   "metadata": {},
   "outputs": [
    {
     "name": "stdout",
     "output_type": "stream",
     "text": [
      "{'lalit': 12, 'ashish': 34, ('lalit', 13): 14, (3, 4, 'lalit'): 'tuple type', 'xyz': 'variable'}\n"
     ]
    }
   ],
   "source": [
    "print(dict2)"
   ]
  },
  {
   "cell_type": "code",
   "execution_count": 27,
   "id": "62a2c642-35c1-4aed-9e77-631cccbe9b0e",
   "metadata": {},
   "outputs": [],
   "source": [
    "b = 'newXYZ'"
   ]
  },
  {
   "cell_type": "code",
   "execution_count": 28,
   "id": "c7bbf490-4307-4026-a2a2-f8d8fb637c22",
   "metadata": {},
   "outputs": [
    {
     "name": "stdout",
     "output_type": "stream",
     "text": [
      "{'lalit': 12, 'ashish': 34, ('lalit', 13): 14, (3, 4, 'lalit'): 'tuple type', 'xyz': 'variable'}\n"
     ]
    }
   ],
   "source": [
    "print(dict2)"
   ]
  },
  {
   "cell_type": "markdown",
   "id": "f88b44a6-2d2e-434e-8195-55130434499d",
   "metadata": {},
   "source": [
    "##### Reason: Internally, Python copies the value of b (which is \"newXYZ\") as the key — Not the variable reference."
   ]
  },
  {
   "cell_type": "markdown",
   "id": "b19e21cb-ffe8-434b-ab5d-d6867cfd96b3",
   "metadata": {},
   "source": [
    "## List comprehesnions"
   ]
  },
  {
   "cell_type": "code",
   "execution_count": 30,
   "id": "c3113203-e976-4054-8d03-77b3e146d9fd",
   "metadata": {},
   "outputs": [
    {
     "name": "stdout",
     "output_type": "stream",
     "text": [
      "{2: 4, 4: 16, 6: 36}\n"
     ]
    }
   ],
   "source": [
    "dict3 = {x: x**2 for x in (2, 4, 6)}\n",
    "print(dict3)"
   ]
  },
  {
   "cell_type": "code",
   "execution_count": 39,
   "id": "3c0f84d9-3796-42fb-8eda-3d6d35110490",
   "metadata": {},
   "outputs": [],
   "source": [
    "dict4 = {x : {i:i*x for i in range(1,10)} for x in range(1,6)}"
   ]
  },
  {
   "cell_type": "code",
   "execution_count": 40,
   "id": "c0fc080d-e288-4b1d-8924-96904bea7869",
   "metadata": {},
   "outputs": [
    {
     "name": "stdout",
     "output_type": "stream",
     "text": [
      "{1: {1: 1, 2: 2, 3: 3, 4: 4, 5: 5, 6: 6, 7: 7, 8: 8, 9: 9}, 2: {1: 2, 2: 4, 3: 6, 4: 8, 5: 10, 6: 12, 7: 14, 8: 16, 9: 18}, 3: {1: 3, 2: 6, 3: 9, 4: 12, 5: 15, 6: 18, 7: 21, 8: 24, 9: 27}, 4: {1: 4, 2: 8, 3: 12, 4: 16, 5: 20, 6: 24, 7: 28, 8: 32, 9: 36}, 5: {1: 5, 2: 10, 3: 15, 4: 20, 5: 25, 6: 30, 7: 35, 8: 40, 9: 45}}\n"
     ]
    }
   ],
   "source": [
    "print(dict4)"
   ]
  },
  {
   "cell_type": "code",
   "execution_count": 41,
   "id": "da8e3a7b-4714-4573-8770-1c38283f8d38",
   "metadata": {},
   "outputs": [
    {
     "ename": "NameError",
     "evalue": "name 'count' is not defined",
     "output_type": "error",
     "traceback": [
      "\u001b[1;31m---------------------------------------------------------------------------\u001b[0m",
      "\u001b[1;31mNameError\u001b[0m                                 Traceback (most recent call last)",
      "Cell \u001b[1;32mIn[41], line 2\u001b[0m\n\u001b[0;32m      1\u001b[0m text \u001b[38;5;241m=\u001b[39m \u001b[38;5;124m'\u001b[39m\u001b[38;5;124mbannana\u001b[39m\u001b[38;5;124m'\u001b[39m\n\u001b[1;32m----> 2\u001b[0m freq \u001b[38;5;241m=\u001b[39m {char: \u001b[43mcount\u001b[49m(char) \u001b[38;5;28;01mfor\u001b[39;00m char \u001b[38;5;129;01min\u001b[39;00m \u001b[38;5;28mset\u001b[39m(text)}\n",
      "\u001b[1;31mNameError\u001b[0m: name 'count' is not defined"
     ]
    }
   ],
   "source": [
    "text = 'bannana'\n",
    "freq = {char: countchar) for char in set(text)}"
   ]
  },
  {
   "cell_type": "code",
   "execution_count": null,
   "id": "6c092b44-4fe9-457b-a002-4a05d0fca5b3",
   "metadata": {},
   "outputs": [],
   "source": []
  }
 ],
 "metadata": {
  "kernelspec": {
   "display_name": "Python 3 (ipykernel)",
   "language": "python",
   "name": "python3"
  },
  "language_info": {
   "codemirror_mode": {
    "name": "ipython",
    "version": 3
   },
   "file_extension": ".py",
   "mimetype": "text/x-python",
   "name": "python",
   "nbconvert_exporter": "python",
   "pygments_lexer": "ipython3",
   "version": "3.12.4"
  }
 },
 "nbformat": 4,
 "nbformat_minor": 5
}
