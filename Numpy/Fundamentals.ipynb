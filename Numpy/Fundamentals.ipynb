{
 "cells": [
  {
   "cell_type": "code",
   "execution_count": 1,
   "id": "e20194f0-eca5-435c-98c8-05ee49ee560b",
   "metadata": {},
   "outputs": [],
   "source": [
    "import numpy as np"
   ]
  },
  {
   "cell_type": "code",
   "execution_count": 2,
   "id": "1f3f680f-4020-4c57-94ac-22f77f445e5f",
   "metadata": {},
   "outputs": [
    {
     "name": "stdout",
     "output_type": "stream",
     "text": [
      "[1 2 3 4 5 6]\n"
     ]
    }
   ],
   "source": [
    "a = np.array([1,2,3,4,5,6])\n",
    "print(a)"
   ]
  },
  {
   "cell_type": "markdown",
   "id": "2dd6ad19-616e-42e9-a483-481aba3373e8",
   "metadata": {},
   "source": [
    "##### basic methods"
   ]
  },
  {
   "cell_type": "code",
   "execution_count": 6,
   "id": "3f593bed-3f48-4a17-958d-361820ba35e6",
   "metadata": {},
   "outputs": [
    {
     "name": "stdout",
     "output_type": "stream",
     "text": [
      "6\n"
     ]
    }
   ],
   "source": [
    "print(a.size)  #### to print the number of elements in array"
   ]
  },
  {
   "cell_type": "code",
   "execution_count": 8,
   "id": "ef8d6227-e8c3-4cc9-a8b3-b18e92f56b80",
   "metadata": {},
   "outputs": [
    {
     "name": "stdout",
     "output_type": "stream",
     "text": [
      "1\n"
     ]
    }
   ],
   "source": [
    "print(a.ndim)  #### to print the dimension of the aaray"
   ]
  },
  {
   "cell_type": "code",
   "execution_count": 11,
   "id": "3005b0b4-b8d9-4d97-9b7b-73114678351d",
   "metadata": {},
   "outputs": [
    {
     "name": "stdout",
     "output_type": "stream",
     "text": [
      "(6,)\n"
     ]
    }
   ],
   "source": [
    "print(a.shape) ### to print the shape of the array the number of elements along each dimension."
   ]
  },
  {
   "cell_type": "code",
   "execution_count": 13,
   "id": "ddc19486-20ff-4b6a-a6e8-91815b9ad41d",
   "metadata": {},
   "outputs": [
    {
     "name": "stdout",
     "output_type": "stream",
     "text": [
      "int64\n"
     ]
    }
   ],
   "source": [
    "print(a.dtype)  ### print the data type of the elements of the array"
   ]
  },
  {
   "cell_type": "markdown",
   "id": "57fb5aef-0210-42ec-a937-6e180eac2e3c",
   "metadata": {},
   "source": [
    "## How to create a basic array"
   ]
  },
  {
   "cell_type": "code",
   "execution_count": 14,
   "id": "33e33628-610d-403b-8e8b-4a1b44c75e0d",
   "metadata": {},
   "outputs": [
    {
     "name": "stdout",
     "output_type": "stream",
     "text": [
      "[0. 0. 0. 0. 0.]\n"
     ]
    }
   ],
   "source": [
    "print(np.zeros(5))"
   ]
  },
  {
   "cell_type": "code",
   "execution_count": 15,
   "id": "335fd008-3870-4e08-8c57-140ee49ee6a7",
   "metadata": {},
   "outputs": [
    {
     "name": "stdout",
     "output_type": "stream",
     "text": [
      "[1. 1. 1. 1. 1.]\n"
     ]
    }
   ],
   "source": [
    "print(np.ones(5))"
   ]
  },
  {
   "cell_type": "code",
   "execution_count": 16,
   "id": "3ff95cdb-a365-4b2a-81e9-e2ad5677486f",
   "metadata": {},
   "outputs": [
    {
     "name": "stdout",
     "output_type": "stream",
     "text": [
      "[6.23042070e-307 4.67296746e-307 1.69121096e-306 1.24610723e-306\n",
      " 1.89146896e-307 7.56571288e-307]\n"
     ]
    }
   ],
   "source": [
    "print(np.empty(6))"
   ]
  },
  {
   "cell_type": "code",
   "execution_count": 17,
   "id": "214c3681-f61c-4efc-a8ef-2c17dff39de6",
   "metadata": {},
   "outputs": [
    {
     "name": "stdout",
     "output_type": "stream",
     "text": [
      "[0 1 2 3 4 5 6 7 8 9]\n"
     ]
    }
   ],
   "source": [
    "print(np.arange(10))"
   ]
  },
  {
   "cell_type": "code",
   "execution_count": 24,
   "id": "a4d64fcd-6cbf-4627-8736-0daae306303f",
   "metadata": {},
   "outputs": [
    {
     "name": "stdout",
     "output_type": "stream",
     "text": [
      "[  0.   5.  10.  15.  20.  25.  30.  35.  40.  45.  50.  55.  60.  65.\n",
      "  70.  75.  80.  85.  90.  95. 100.]\n"
     ]
    }
   ],
   "source": [
    "print(np.linspace(0,100,21))"
   ]
  },
  {
   "cell_type": "code",
   "execution_count": 26,
   "id": "e470869a-1674-402b-bb1f-b3215b6898a5",
   "metadata": {},
   "outputs": [
    {
     "data": {
      "text/plain": [
       "array([1, 1])"
      ]
     },
     "execution_count": 26,
     "metadata": {},
     "output_type": "execute_result"
    }
   ],
   "source": [
    "x = np.ones(2, dtype=np.int64)  ## specifying data type\n",
    "x"
   ]
  },
  {
   "cell_type": "code",
   "execution_count": 31,
   "id": "202c5816-05f2-41f3-985c-b266b58cebd1",
   "metadata": {},
   "outputs": [
    {
     "name": "stdout",
     "output_type": "stream",
     "text": [
      "[[2 0]\n",
      " [0 4]]\n",
      "[[5 4]\n",
      " [3 4]]\n"
     ]
    },
    {
     "data": {
      "text/plain": [
       "array([[5, 4],\n",
       "       [3, 4]])"
      ]
     },
     "execution_count": 31,
     "metadata": {},
     "output_type": "execute_result"
    }
   ],
   "source": [
    "A = np.array([[1,1],\n",
    "             [0,1]])\n",
    "B = np.array([[2,0],\n",
    "             [3,4]])\n",
    "\n",
    "print(A*B)\n",
    "print(A@B)\n",
    "A.dot(B)"
   ]
  },
  {
   "cell_type": "code",
   "execution_count": 40,
   "id": "9aba4130-df8a-45e2-9678-7dee6e864cfa",
   "metadata": {},
   "outputs": [
    {
     "name": "stdout",
     "output_type": "stream",
     "text": [
      "Generator(PCG64)\n",
      "[[1 1 1]\n",
      " [1 1 1]]\n"
     ]
    }
   ],
   "source": [
    "rg = np.random.default_rng(1)\n",
    "print(rg)\n",
    "a = np.ones((2,3),dtype = int)\n",
    "print(a)"
   ]
  },
  {
   "cell_type": "code",
   "execution_count": 43,
   "id": "0b0ac732-41c9-4bd7-b4d9-1adce8ef1ed7",
   "metadata": {},
   "outputs": [
    {
     "name": "stdout",
     "output_type": "stream",
     "text": [
      "[[1.32973172 1.7884287  1.30319483]\n",
      " [1.45349789 1.1340417  1.40311299]]\n"
     ]
    }
   ],
   "source": [
    "b = rg.random((2,3))\n",
    "b += a\n",
    "print(b)\n"
   ]
  },
  {
   "cell_type": "markdown",
   "id": "3ef925b0-6803-4f7d-846d-680728c2fdd4",
   "metadata": {},
   "source": [
    "## slicing"
   ]
  },
  {
   "cell_type": "code",
   "execution_count": 44,
   "id": "64f65592-76c3-45ff-ab81-c1f4812b3ecb",
   "metadata": {},
   "outputs": [
    {
     "data": {
      "text/plain": [
       "array([1, 2, 4, 4, 5, 7])"
      ]
     },
     "execution_count": 44,
     "metadata": {},
     "output_type": "execute_result"
    }
   ],
   "source": [
    "A = np.array([1,2,4,4,5,7])\n",
    "A"
   ]
  },
  {
   "cell_type": "code",
   "execution_count": 45,
   "id": "126f89ce-8ccc-494a-b52a-4fbc10e5b114",
   "metadata": {},
   "outputs": [
    {
     "name": "stdout",
     "output_type": "stream",
     "text": [
      "[7 5 4 4 2 1]\n"
     ]
    }
   ],
   "source": [
    "print(A[::-1])"
   ]
  },
  {
   "cell_type": "code",
   "execution_count": 48,
   "id": "a45348c0-1756-420e-a049-5b7ec99a4f80",
   "metadata": {},
   "outputs": [
    {
     "name": "stdout",
     "output_type": "stream",
     "text": [
      "[2 4 4 5 7]\n"
     ]
    }
   ],
   "source": [
    "print(A[1:])"
   ]
  },
  {
   "cell_type": "markdown",
   "id": "49a92393-b3bc-48c6-80ac-4844523d0c02",
   "metadata": {},
   "source": [
    "## Multidimensional Array"
   ]
  },
  {
   "cell_type": "code",
   "execution_count": 51,
   "id": "a797e514-3446-4f31-98a8-ccec891b7c29",
   "metadata": {},
   "outputs": [],
   "source": [
    "def f(x,y):\n",
    "    return 10*x+y\n",
    "\n",
    "arr = np.fromfunction(f,(5,4),dtype = int)"
   ]
  },
  {
   "cell_type": "code",
   "execution_count": 52,
   "id": "1f4d7f25-f326-42f1-8197-7f6018802172",
   "metadata": {},
   "outputs": [
    {
     "name": "stdout",
     "output_type": "stream",
     "text": [
      "[[ 0  1  2  3]\n",
      " [10 11 12 13]\n",
      " [20 21 22 23]\n",
      " [30 31 32 33]\n",
      " [40 41 42 43]]\n"
     ]
    }
   ],
   "source": [
    "print(arr)"
   ]
  },
  {
   "cell_type": "code",
   "execution_count": 56,
   "id": "f5369ec1-8d35-48e2-a7d3-f0e96661c8d6",
   "metadata": {},
   "outputs": [],
   "source": [
    "a=np.array([3., 7., 3., 4., 1., 4., 2., 2., 7., 2., 4., 9.])"
   ]
  },
  {
   "cell_type": "code",
   "execution_count": 57,
   "id": "28365d7d-1921-45ae-90f0-fd92592b8c92",
   "metadata": {},
   "outputs": [
    {
     "data": {
      "text/plain": [
       "array([3., 7., 3., 4., 1., 4., 2., 2., 7., 2., 4., 9.])"
      ]
     },
     "execution_count": 57,
     "metadata": {},
     "output_type": "execute_result"
    }
   ],
   "source": [
    "a.ravel()  # returns the array, flattened\n",
    "a"
   ]
  },
  {
   "cell_type": "code",
   "execution_count": 58,
   "id": "d6656947-825c-4844-9cc4-be756f61c88c",
   "metadata": {},
   "outputs": [
    {
     "data": {
      "text/plain": [
       "array([[3., 7.],\n",
       "       [3., 4.],\n",
       "       [1., 4.],\n",
       "       [2., 2.],\n",
       "       [7., 2.],\n",
       "       [4., 9.]])"
      ]
     },
     "execution_count": 58,
     "metadata": {},
     "output_type": "execute_result"
    }
   ],
   "source": [
    "a.reshape(6, 2)  # returns the array with a modified shape"
   ]
  },
  {
   "cell_type": "code",
   "execution_count": 59,
   "id": "7a9c20e0-df6d-4e98-8580-46dbba9d0f65",
   "metadata": {},
   "outputs": [
    {
     "data": {
      "text/plain": [
       "array([3., 7., 3., 4., 1., 4., 2., 2., 7., 2., 4., 9.])"
      ]
     },
     "execution_count": 59,
     "metadata": {},
     "output_type": "execute_result"
    }
   ],
   "source": [
    "a.T  # returns the array, transposed"
   ]
  },
  {
   "cell_type": "code",
   "execution_count": 60,
   "id": "79ec319f-1f3c-43c6-8130-d54b55454845",
   "metadata": {},
   "outputs": [
    {
     "data": {
      "text/plain": [
       "(12,)"
      ]
     },
     "execution_count": 60,
     "metadata": {},
     "output_type": "execute_result"
    }
   ],
   "source": [
    "a.T.shape\n",
    "a.shape"
   ]
  },
  {
   "cell_type": "markdown",
   "id": "d5642047-8219-44cc-b2cc-a2846cbf7510",
   "metadata": {},
   "source": [
    "### No copy at all"
   ]
  },
  {
   "cell_type": "code",
   "execution_count": 62,
   "id": "94f697f4-7cd2-4526-a758-840cacecde62",
   "metadata": {},
   "outputs": [
    {
     "data": {
      "text/plain": [
       "True"
      ]
     },
     "execution_count": 62,
     "metadata": {},
     "output_type": "execute_result"
    }
   ],
   "source": [
    "a = np.array([[ 0,  1,  2,  3],\n",
    "              [ 4,  5,  6,  7],\n",
    "              [ 8,  9, 10, 11]])\n",
    "b = a            # no new object is created\n",
    "b is a           # a and b are two names for the same ndarray object"
   ]
  },
  {
   "cell_type": "code",
   "execution_count": 64,
   "id": "83e73aa0-18de-45de-b2be-7e6d98c69cf3",
   "metadata": {},
   "outputs": [
    {
     "name": "stdout",
     "output_type": "stream",
     "text": [
      "2023523203088\n",
      "2023523203088\n"
     ]
    }
   ],
   "source": [
    "def f(x):\n",
    "    print(id(x))\n",
    "\n",
    "print(id(a))\n",
    "f(a)"
   ]
  },
  {
   "cell_type": "code",
   "execution_count": 65,
   "id": "9dfaaa33-ddd5-4699-a2b2-d110a420add6",
   "metadata": {},
   "outputs": [
    {
     "name": "stdout",
     "output_type": "stream",
     "text": [
      "2023522644032\n",
      "2023522644032\n"
     ]
    }
   ],
   "source": [
    "def f(x):\n",
    "    print(id(x))\n",
    "a = (2,4)\n",
    "print(id(a))\n",
    "f(a)"
   ]
  },
  {
   "cell_type": "code",
   "execution_count": 66,
   "id": "d9d9828a-e85a-4593-a2d9-5105dc99a983",
   "metadata": {},
   "outputs": [
    {
     "name": "stdout",
     "output_type": "stream",
     "text": [
      "Original ID: 2023522853952\n",
      "Before: 2023522853952\n",
      "After: 2023522853952\n",
      "After Call: [1, 2, 5]\n"
     ]
    }
   ],
   "source": [
    "def f(x):\n",
    "    print(\"Before:\", id(x))\n",
    "    x.append(5)\n",
    "    print(\"After:\", id(x))\n",
    "\n",
    "a = [1, 2]\n",
    "print(\"Original ID:\", id(a))\n",
    "f(a)\n",
    "print(\"After Call:\", a)"
   ]
  },
  {
   "cell_type": "code",
   "execution_count": 67,
   "id": "4ad46f96-66cf-4960-9a33-f08a67b58add",
   "metadata": {},
   "outputs": [
    {
     "name": "stdout",
     "output_type": "stream",
     "text": [
      "Original ID: 2023522730176\n",
      "Before: 2023522730176\n",
      "After: 2023522639616\n",
      "After Call: (1, 2)\n"
     ]
    }
   ],
   "source": [
    "def f(x):\n",
    "    print(\"Before:\", id(x))\n",
    "    x = x + (6,)  # Creates a new tuple!\n",
    "    print(\"After:\", id(x))\n",
    "\n",
    "a = (1, 2)\n",
    "print(\"Original ID:\", id(a))\n",
    "f(a)\n",
    "print(\"After Call:\", a)"
   ]
  },
  {
   "cell_type": "code",
   "execution_count": null,
   "id": "fc0f2125-0943-4ceb-8e3a-3dec3c67c49a",
   "metadata": {},
   "outputs": [],
   "source": [
    "a"
   ]
  }
 ],
 "metadata": {
  "kernelspec": {
   "display_name": "Python 3 (ipykernel)",
   "language": "python",
   "name": "python3"
  },
  "language_info": {
   "codemirror_mode": {
    "name": "ipython",
    "version": 3
   },
   "file_extension": ".py",
   "mimetype": "text/x-python",
   "name": "python",
   "nbconvert_exporter": "python",
   "pygments_lexer": "ipython3",
   "version": "3.12.4"
  },
  "widgets": {
   "application/vnd.jupyter.widget-state+json": {
    "state": {},
    "version_major": 2,
    "version_minor": 0
   }
  }
 },
 "nbformat": 4,
 "nbformat_minor": 5
}
