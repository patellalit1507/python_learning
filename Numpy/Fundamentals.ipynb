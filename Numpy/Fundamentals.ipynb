{
 "cells": [
  {
   "cell_type": "code",
   "execution_count": 1,
   "id": "e20194f0-eca5-435c-98c8-05ee49ee560b",
   "metadata": {},
   "outputs": [],
   "source": [
    "import numpy as np"
   ]
  },
  {
   "cell_type": "code",
   "execution_count": 2,
   "id": "1f3f680f-4020-4c57-94ac-22f77f445e5f",
   "metadata": {},
   "outputs": [
    {
     "name": "stdout",
     "output_type": "stream",
     "text": [
      "[1 2 3 4 5 6]\n"
     ]
    }
   ],
   "source": [
    "a = np.array([1,2,3,4,5,6])\n",
    "print(a)"
   ]
  },
  {
   "cell_type": "markdown",
   "id": "2dd6ad19-616e-42e9-a483-481aba3373e8",
   "metadata": {},
   "source": [
    "##### basic methods"
   ]
  },
  {
   "cell_type": "code",
   "execution_count": 6,
   "id": "3f593bed-3f48-4a17-958d-361820ba35e6",
   "metadata": {},
   "outputs": [
    {
     "name": "stdout",
     "output_type": "stream",
     "text": [
      "6\n"
     ]
    }
   ],
   "source": [
    "print(a.size)  #### to print the number of elements in array"
   ]
  },
  {
   "cell_type": "code",
   "execution_count": 8,
   "id": "ef8d6227-e8c3-4cc9-a8b3-b18e92f56b80",
   "metadata": {},
   "outputs": [
    {
     "name": "stdout",
     "output_type": "stream",
     "text": [
      "1\n"
     ]
    }
   ],
   "source": [
    "print(a.ndim)  #### to print the dimension of the aaray"
   ]
  },
  {
   "cell_type": "code",
   "execution_count": 11,
   "id": "3005b0b4-b8d9-4d97-9b7b-73114678351d",
   "metadata": {},
   "outputs": [
    {
     "name": "stdout",
     "output_type": "stream",
     "text": [
      "(6,)\n"
     ]
    }
   ],
   "source": [
    "print(a.shape) ### to print the shape of the array the number of elements along each dimension."
   ]
  },
  {
   "cell_type": "code",
   "execution_count": 13,
   "id": "ddc19486-20ff-4b6a-a6e8-91815b9ad41d",
   "metadata": {},
   "outputs": [
    {
     "name": "stdout",
     "output_type": "stream",
     "text": [
      "int64\n"
     ]
    }
   ],
   "source": [
    "print(a.dtype)  ### print the data type of the elements of the array"
   ]
  },
  {
   "cell_type": "markdown",
   "id": "57fb5aef-0210-42ec-a937-6e180eac2e3c",
   "metadata": {},
   "source": [
    "## How to create a basic array"
   ]
  },
  {
   "cell_type": "code",
   "execution_count": 14,
   "id": "33e33628-610d-403b-8e8b-4a1b44c75e0d",
   "metadata": {},
   "outputs": [
    {
     "name": "stdout",
     "output_type": "stream",
     "text": [
      "[0. 0. 0. 0. 0.]\n"
     ]
    }
   ],
   "source": [
    "print(np.zeros(5))"
   ]
  },
  {
   "cell_type": "code",
   "execution_count": 15,
   "id": "335fd008-3870-4e08-8c57-140ee49ee6a7",
   "metadata": {},
   "outputs": [
    {
     "name": "stdout",
     "output_type": "stream",
     "text": [
      "[1. 1. 1. 1. 1.]\n"
     ]
    }
   ],
   "source": [
    "print(np.ones(5))"
   ]
  },
  {
   "cell_type": "code",
   "execution_count": 16,
   "id": "3ff95cdb-a365-4b2a-81e9-e2ad5677486f",
   "metadata": {},
   "outputs": [
    {
     "name": "stdout",
     "output_type": "stream",
     "text": [
      "[6.23042070e-307 4.67296746e-307 1.69121096e-306 1.24610723e-306\n",
      " 1.89146896e-307 7.56571288e-307]\n"
     ]
    }
   ],
   "source": [
    "print(np.empty(6))"
   ]
  },
  {
   "cell_type": "code",
   "execution_count": 17,
   "id": "214c3681-f61c-4efc-a8ef-2c17dff39de6",
   "metadata": {},
   "outputs": [
    {
     "name": "stdout",
     "output_type": "stream",
     "text": [
      "[0 1 2 3 4 5 6 7 8 9]\n"
     ]
    }
   ],
   "source": [
    "print(np.arange(10))"
   ]
  },
  {
   "cell_type": "code",
   "execution_count": 24,
   "id": "a4d64fcd-6cbf-4627-8736-0daae306303f",
   "metadata": {},
   "outputs": [
    {
     "name": "stdout",
     "output_type": "stream",
     "text": [
      "[  0.   5.  10.  15.  20.  25.  30.  35.  40.  45.  50.  55.  60.  65.\n",
      "  70.  75.  80.  85.  90.  95. 100.]\n"
     ]
    }
   ],
   "source": [
    "print(np.linspace(0,100,21))"
   ]
  },
  {
   "cell_type": "code",
   "execution_count": null,
   "id": "e470869a-1674-402b-bb1f-b3215b6898a5",
   "metadata": {},
   "outputs": [],
   "source": []
  }
 ],
 "metadata": {
  "kernelspec": {
   "display_name": "Python 3 (ipykernel)",
   "language": "python",
   "name": "python3"
  },
  "language_info": {
   "codemirror_mode": {
    "name": "ipython",
    "version": 3
   },
   "file_extension": ".py",
   "mimetype": "text/x-python",
   "name": "python",
   "nbconvert_exporter": "python",
   "pygments_lexer": "ipython3",
   "version": "3.12.4"
  },
  "widgets": {
   "application/vnd.jupyter.widget-state+json": {
    "state": {},
    "version_major": 2,
    "version_minor": 0
   }
  }
 },
 "nbformat": 4,
 "nbformat_minor": 5
}
