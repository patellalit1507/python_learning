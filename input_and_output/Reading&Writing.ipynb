{
 "cells": [
  {
   "cell_type": "markdown",
   "id": "a55182c0-56fd-42fc-b078-d7082d38828a",
   "metadata": {},
   "source": [
    "## Reading and Writing Files"
   ]
  },
  {
   "cell_type": "markdown",
   "id": "bd005711-85bc-459a-9839-f2ada8c6724b",
   "metadata": {},
   "source": [
    "#### open() returns a file object, and is most commonly used with two positional arguments and one keyword argument:\n",
    "open(filename, mode, encoding=None)"
   ]
  },
  {
   "cell_type": "code",
   "execution_count": 13,
   "id": "f1bf408e-00ae-4273-9b95-f18f9432c56f",
   "metadata": {},
   "outputs": [],
   "source": [
    "value = ('the answer', 42)\n",
    "s = str(value)  # convert the tuple to string\n"
   ]
  },
  {
   "cell_type": "code",
   "execution_count": 19,
   "id": "4ca6a600-6660-4717-a815-6b1ab361d759",
   "metadata": {},
   "outputs": [
    {
     "name": "stdout",
     "output_type": "stream",
     "text": [
      "Python is awesome!\n",
      "Learning File Handling.\n"
     ]
    }
   ],
   "source": [
    "with open('text.txt', 'w+', encoding = 'utf-8') as f:\n",
    "    f.write(\"Python is awesome!\\nLearning File Handling.\")\n",
    "    \n",
    "    f.seek(0)   # Move cursor to start\n",
    "    \n",
    "    print(f.read())\n",
    "    "
   ]
  },
  {
   "cell_type": "markdown",
   "id": "171d4bbe-d1fc-4d8f-b2d7-98392d6eb439",
   "metadata": {},
   "source": [
    "## File Modes and Cursor Position in Python\n",
    "\n",
    "| Mode  | File Cursor Position After Opening       |\n",
    "|-------|------------------------------------------|\n",
    "| 'r'   | Start of file                           |\n",
    "| 'w'   | Start but file is empty (truncate file) |\n",
    "| 'a'   | End of file                             |\n",
    "| 'r+'  | Start of file                           |\n",
    "| 'w+'  | Start but file is empty (truncate file) |\n",
    "| 'a+'  | End of file                             |"
   ]
  },
  {
   "cell_type": "code",
   "execution_count": null,
   "id": "9e04ae63-3564-4332-9207-260ce924fcf5",
   "metadata": {},
   "outputs": [],
   "source": []
  }
 ],
 "metadata": {
  "kernelspec": {
   "display_name": "Python 3 (ipykernel)",
   "language": "python",
   "name": "python3"
  },
  "language_info": {
   "codemirror_mode": {
    "name": "ipython",
    "version": 3
   },
   "file_extension": ".py",
   "mimetype": "text/x-python",
   "name": "python",
   "nbconvert_exporter": "python",
   "pygments_lexer": "ipython3",
   "version": "3.12.4"
  }
 },
 "nbformat": 4,
 "nbformat_minor": 5
}
