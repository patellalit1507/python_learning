{
 "cells": [
  {
   "cell_type": "markdown",
   "metadata": {},
   "source": [
    "# Python File Handling with JSON\n",
    "\n",
    "## Why JSON?\n",
    "- To save complex data like lists, dictionaries into files.\n",
    "- Universal data format for APIs, Cloud, Web, Databases.\n",
    "\n",
    "---\n",
    "\n",
    "## Serialization vs Deserialization\n",
    "\n",
    "| Term            | Meaning                                           | Python Function |\n",
    "|-----------------|--------------------------------------------------|-----------------|\n",
    "| Serialization   | Python Object → String (JSON Format)             | `json.dumps()`  |\n",
    "| Deserialization | JSON String → Python Object                      | `json.loads()`  |\n",
    "\n",
    "---\n",
    "\n",
    "## Writing JSON to File (Serialization)\n",
    "```python\n",
    "import json\n",
    "\n",
    "x = [1, 'simple', 'list']\n",
    "\n",
    "with open('data.json', 'w', encoding='utf-8') as f:\n",
    "    json.dump(x, f)\n",
    "```\n",
    "\n",
    "---\n",
    "\n",
    "## Reading JSON from File (Deserialization)\n",
    "```python\n",
    "import json\n",
    "\n",
    "with open('data.json', 'r', encoding='utf-8') as f:\n",
    "    data = json.load(f)\n",
    "\n",
    "print(data)\n",
    "```\n",
    "\n",
    "---\n",
    "\n",
    "## Notes\n",
    "- `dumps()` → Converts to String\n",
    "- `dump()` → Writes to File\n",
    "- `loads()` → Converts String to Python Object\n",
    "- `load()` → Reads from File\n",
    "\n",
    "---\n",
    "\n",
    "## Real-World Usage:\n",
    "| Scenario                | Usage       |\n",
    "|------------------------|-------------|\n",
    "| Save API Response       | `json.dump()` |\n",
    "| Read Config Files       | `json.load()` |\n",
    "| Send Data Over Network  | `json.dumps()` |\n",
    "| Receive Data from API   | `json.loads()` |"
   ]
  }
 ],
 "metadata": {
  "kernelspec": {
   "display_name": "Python 3 (ipykernel)",
   "language": "python",
   "name": "python3"
  },
  "language_info": {
   "codemirror_mode": {
    "name": "ipython",
    "version": 3
   },
   "file_extension": ".py",
   "mimetype": "text/x-python",
   "name": "python",
   "nbconvert_exporter": "python",
   "pygments_lexer": "ipython3",
   "version": "3.12.4"
  }
 },
 "nbformat": 4,
 "nbformat_minor": 4
}
