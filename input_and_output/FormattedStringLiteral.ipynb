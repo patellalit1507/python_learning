{
 "cells": [
  {
   "cell_type": "markdown",
   "id": "ef0f8e35-6492-4c40-a4ca-a5de0d1d2148",
   "metadata": {},
   "source": [
    "d → Decimal integer format\n",
    "\n",
    "Without d → It treats phone as a string (but we want numbers formatted nicely).\n",
    "\n",
    "Passing an integer after the ':' will cause that field to be a minimum number of characters wide."
   ]
  },
  {
   "cell_type": "code",
   "execution_count": 8,
   "id": "3eced63f-1b50-46f5-b1a7-7a15b47dd9b2",
   "metadata": {},
   "outputs": [
    {
     "name": "stdout",
     "output_type": "stream",
     "text": [
      "Sjoerd   ==>     4127\n",
      "Jack     ==>     4098\n",
      "Dcab     ==>     7678\n"
     ]
    }
   ],
   "source": [
    "table = {'Sjoerd': 4127, 'Jack': 4098, 'Dcab': 7678}\n",
    "for name, phone in table.items():\n",
    "    print(f'{name:8} ==> {phone:8d}')"
   ]
  },
  {
   "cell_type": "markdown",
   "id": "8d114a2c-d073-4574-a4cf-8630bb8f2206",
   "metadata": {},
   "source": [
    "\".2f\" means value upto 2 decimal point"
   ]
  },
  {
   "cell_type": "code",
   "execution_count": 11,
   "id": "85d7fbb8-a497-4dc8-8975-549a9805c134",
   "metadata": {},
   "outputs": [
    {
     "name": "stdout",
     "output_type": "stream",
     "text": [
      "The value of pi is approximately 3.14.\n"
     ]
    }
   ],
   "source": [
    "import math\n",
    "print(f'The value of pi is approximately {math.pi:.2f}.')\n"
   ]
  },
  {
   "cell_type": "markdown",
   "id": "b9767256-fb59-4cf5-b8b1-27a5fb1fa314",
   "metadata": {},
   "source": [
    "## The string format method"
   ]
  },
  {
   "cell_type": "code",
   "execution_count": 14,
   "id": "ff66c425-38fd-4773-aeac-b7b25d891408",
   "metadata": {},
   "outputs": [
    {
     "name": "stdout",
     "output_type": "stream",
     "text": [
      "We are the knights who say \"Ni!\"\n"
     ]
    }
   ],
   "source": [
    "print('We are the {} who say \"{}!\"'.format('knights', 'Ni'))\n"
   ]
  },
  {
   "cell_type": "code",
   "execution_count": 15,
   "id": "a4f2e73e-e5b4-4afc-a61b-e21995f97c80",
   "metadata": {},
   "outputs": [
    {
     "name": "stdout",
     "output_type": "stream",
     "text": [
      "Jack: 4098; Sjoerd: 4127; Dcab: 8637678\n"
     ]
    }
   ],
   "source": [
    "table = {'Sjoerd': 4127, 'Jack': 4098, 'Dcab': 8637678}\n",
    "print('Jack: {Jack:d}; Sjoerd: {Sjoerd:d}; Dcab: {Dcab:d}'.format(**table))"
   ]
  },
  {
   "cell_type": "code",
   "execution_count": null,
   "id": "815905e4-c1d4-418b-9432-51caadb717a3",
   "metadata": {},
   "outputs": [],
   "source": []
  }
 ],
 "metadata": {
  "kernelspec": {
   "display_name": "Python 3 (ipykernel)",
   "language": "python",
   "name": "python3"
  },
  "language_info": {
   "codemirror_mode": {
    "name": "ipython",
    "version": 3
   },
   "file_extension": ".py",
   "mimetype": "text/x-python",
   "name": "python",
   "nbconvert_exporter": "python",
   "pygments_lexer": "ipython3",
   "version": "3.12.4"
  }
 },
 "nbformat": 4,
 "nbformat_minor": 5
}
