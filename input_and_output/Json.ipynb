{
 "cells": [
  {
   "cell_type": "markdown",
   "id": "5429ea58-8719-4a81-80cb-c4a539a3c313",
   "metadata": {},
   "source": [
    "## What is Serialization & Deserialization?\n",
    "|Term\t         |Meaning\t                             | Python Function |\n",
    "|--------------- |---------------------------------------|-----------------|\n",
    "|Serialization\t |Python Object → String (JSON Format)\t | json.dumps()    |\n",
    "|Deserialization |JSON String → Python Object\t         | json.loads()    |"
   ]
  },
  {
   "cell_type": "markdown",
   "id": "a722100e-1248-4390-91c5-26cc1ac4b8e8",
   "metadata": {},
   "source": [
    "### Why JSON is Important?\n",
    "read() → Always gives string\n",
    "\n",
    "To store Numbers / Lists / Dictionaries → Use json module\n",
    "\n",
    "JSON is universal — works in APIs, Web, Mobile, Cloud\n",
    "\n"
   ]
  },
  {
   "cell_type": "code",
   "execution_count": 5,
   "id": "ddd3c813-ecf6-4da6-82ee-55e00c42b0ff",
   "metadata": {},
   "outputs": [
    {
     "name": "stdout",
     "output_type": "stream",
     "text": [
      "[1, '2', 'lalit']\n"
     ]
    }
   ],
   "source": [
    "import json \n",
    "\n",
    "ls = [1,'2','lalit']\n",
    "\n",
    "with open('data.json', 'w+', encoding = 'utf-8') as f:\n",
    "    # f.write(json.dumps(ls))\n",
    "    json.dump(ls,f)\n",
    "    f.seek(0)\n",
    "    print(json.load(f))"
   ]
  },
  {
   "cell_type": "code",
   "execution_count": 13,
   "id": "f19c9e59-7a6b-4c4e-82f5-3c8f74c2ca2f",
   "metadata": {},
   "outputs": [],
   "source": [
    "employee = [\n",
    "    {\"name\": \"Lalit\", \"role\": \"Data Engineer\"},\n",
    "    {\"name\": \"Aditya\", \"role\": \"Data Scientist\"},\n",
    "    {\"name\": \"Tushar\", \"role\": \"Backend Developer\"}\n",
    "]"
   ]
  },
  {
   "cell_type": "code",
   "execution_count": 14,
   "id": "5ed7e998-7a9c-459e-98d1-f0f35a2fb8ff",
   "metadata": {},
   "outputs": [],
   "source": [
    "with open('config.json', 'w', encoding = 'utf-8') as f:\n",
    "    json.dump(employee,f,indent = 4)"
   ]
  },
  {
   "cell_type": "code",
   "execution_count": 15,
   "id": "0fb36469-a4ab-4103-9ce8-90f796c1d308",
   "metadata": {},
   "outputs": [
    {
     "name": "stdout",
     "output_type": "stream",
     "text": [
      "Lalit\n",
      "Aditya\n",
      "Tushar\n"
     ]
    }
   ],
   "source": [
    "with open('config.json', 'r',encoding = 'utf-8') as f:\n",
    "    data = json.load(f)\n",
    "\n",
    "for row in data:\n",
    "    print(row['name'])"
   ]
  },
  {
   "cell_type": "code",
   "execution_count": 19,
   "id": "eee9e7d3-df05-4ef9-856d-08936dea7218",
   "metadata": {},
   "outputs": [],
   "source": [
    "import requests\n",
    "\n",
    "data = requests.get(\"https://jsonplaceholder.typicode.com/users\").json()"
   ]
  },
  {
   "cell_type": "code",
   "execution_count": 24,
   "id": "8b442ceb-e632-4ce8-bdcd-39463361f44f",
   "metadata": {},
   "outputs": [
    {
     "name": "stdout",
     "output_type": "stream",
     "text": [
      "[['Leanne Graham', 'Sincere@april.biz'], ['Ervin Howell', 'Shanna@melissa.tv'], ['Clementine Bauch', 'Nathan@yesenia.net'], ['Patricia Lebsack', 'Julianne.OConner@kory.org'], ['Chelsey Dietrich', 'Lucio_Hettinger@annie.ca'], ['Mrs. Dennis Schulist', 'Karley_Dach@jasper.info'], ['Kurtis Weissnat', 'Telly.Hoeger@billy.biz'], ['Nicholas Runolfsdottir V', 'Sherwood@rosamond.me'], ['Glenna Reichert', 'Chaim_McDermott@dana.io'], ['Clementina DuBuque', 'Rey.Padberg@karina.biz']]\n"
     ]
    }
   ],
   "source": [
    "print([[x['name'],x['email']] for x in data])"
   ]
  },
  {
   "cell_type": "markdown",
   "id": "f26c3f87-238c-4d01-a3f8-32d180bb479b",
   "metadata": {},
   "source": [
    "### Hardest — Flatten Nested JSON Data"
   ]
  },
  {
   "cell_type": "code",
   "execution_count": 69,
   "id": "54aee7c5-2789-47d8-8341-2467b7cace78",
   "metadata": {},
   "outputs": [],
   "source": [
    "data = {\n",
    "    \"program \":\"software_development\",\n",
    "    \"user\": {\n",
    "        \"name\": \"Lalit\",\n",
    "        \"address\": {\n",
    "            \"city\": \"Indore\",\n",
    "            \"state\": \"MP\"\n",
    "        }\n",
    "    }\n",
    "}"
   ]
  },
  {
   "cell_type": "code",
   "execution_count": 72,
   "id": "eb3afd0d-1fd3-4113-8a74-358757161b07",
   "metadata": {},
   "outputs": [
    {
     "name": "stdout",
     "output_type": "stream",
     "text": [
      "[('program ', 'software_development')]\n",
      "[('user_name', 'Lalit')]\n",
      "[('user_address_city', 'Indore')]\n",
      "[('user_address_city', 'Indore'), ('user_address_state', 'MP')]\n"
     ]
    }
   ],
   "source": [
    "def flatten_nested_json(d, parent_key = '',sep= \"_\"):\n",
    "    item = []\n",
    "    for k,v in d.items():\n",
    "        new_key  = parent_key +sep + k if parent_key else k\n",
    "        \n",
    "        if isinstance(v,dict):\n",
    "            item.extend(flatten_nested_json(v,new_key,sep = sep).items())\n",
    "        else:  \n",
    "            item.append((new_key,v))\n",
    "            print(item)\n",
    "            # some code\n",
    "    return dict(item)\n",
    "\n",
    "flatten_data = flatten_nested_json(data)\n",
    "        "
   ]
  },
  {
   "cell_type": "code",
   "execution_count": 73,
   "id": "96dbabd4-bca5-479c-b1b5-1af90e8f548a",
   "metadata": {},
   "outputs": [
    {
     "name": "stdout",
     "output_type": "stream",
     "text": [
      "{'program ': 'software_development', 'user_name': 'Lalit', 'user_address_city': 'Indore', 'user_address_state': 'MP'}\n"
     ]
    }
   ],
   "source": [
    "print(flatten_data)"
   ]
  },
  {
   "cell_type": "code",
   "execution_count": null,
   "id": "8fd6b8b3-3dec-48d6-a908-cb1026acd825",
   "metadata": {},
   "outputs": [],
   "source": []
  }
 ],
 "metadata": {
  "kernelspec": {
   "display_name": "Python 3 (ipykernel)",
   "language": "python",
   "name": "python3"
  },
  "language_info": {
   "codemirror_mode": {
    "name": "ipython",
    "version": 3
   },
   "file_extension": ".py",
   "mimetype": "text/x-python",
   "name": "python",
   "nbconvert_exporter": "python",
   "pygments_lexer": "ipython3",
   "version": "3.12.4"
  }
 },
 "nbformat": 4,
 "nbformat_minor": 5
}
