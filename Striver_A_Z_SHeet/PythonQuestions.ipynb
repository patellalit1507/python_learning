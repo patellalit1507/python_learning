{
 "cells": [
  {
   "cell_type": "markdown",
   "id": "b05ba5a5-a9ee-4eaf-964b-701f779a6b92",
   "metadata": {},
   "source": [
    "### Q1. What is difference between == and is in python?"
   ]
  },
  {
   "cell_type": "raw",
   "id": "7d6ec86c-11db-44c9-9595-993b97cc7a97",
   "metadata": {},
   "source": [
    "== (Equality Operator): Checks for value equality. It compares whether the values of two objects are the same, regardless of whether they are the same object in memory.\n",
    "\n",
    "is (Identity Operator): Checks for object identity. It compares whether two variables point to the same object in memory (i.e., same memory address)."
   ]
  },
  {
   "cell_type": "code",
   "execution_count": 10,
   "id": "28d4c04d-387a-4358-b36e-0fb71406a911",
   "metadata": {},
   "outputs": [
    {
     "name": "stdout",
     "output_type": "stream",
     "text": [
      "True\n",
      "False\n",
      "True\n"
     ]
    }
   ],
   "source": [
    "a = [1,2,3]\n",
    "b = [1,2,3]\n",
    "c= a\n",
    "\n",
    "print(a == b) #true as they have same values\n",
    "print(a is b) #False as they are not pointing to same object\n",
    "print(a is c) # True as they are same object"
   ]
  },
  {
   "cell_type": "markdown",
   "id": "75770a4c-a8f3-42d2-a8de-b4f51ee87bb0",
   "metadata": {},
   "source": [
    "### Q.2 Why is float('nan') != float('nan') in Python?"
   ]
  },
  {
   "cell_type": "raw",
   "id": "65e75dab-c8fb-40c2-a10a-d187834a0f63",
   "metadata": {},
   "source": [
    "float('nan') != float('nan') is True because the IEEE 754 standard defines NaN as not equal to itself. This ensures NaN behaves consistently as an indeterminate value. Use math.isnan() to check for NaN explicitly."
   ]
  },
  {
   "cell_type": "code",
   "execution_count": 12,
   "id": "b0485419-4b8a-45d7-a913-98d2c065e4f3",
   "metadata": {},
   "outputs": [
    {
     "name": "stdout",
     "output_type": "stream",
     "text": [
      "True\n"
     ]
    }
   ],
   "source": [
    "# a = 0/0\n",
    "# b = sqrt(-1)\n",
    "print(float('nan') != float('nan'))"
   ]
  },
  {
   "cell_type": "markdown",
   "id": "6c6d18cd-7acc-4a4a-ba5d-9c9e0ea3f1ad",
   "metadata": {},
   "source": [
    "### Q3 Interning of small integers"
   ]
  },
  {
   "cell_type": "raw",
   "id": "b679bf04-d688-46ba-9d97-649f2ded5d10",
   "metadata": {},
   "source": [
    "Small integer interning in Python (typically for -5 to 256 in CPython) is an optimization that reuses the same objects for these values to save memory and improve performance."
   ]
  },
  {
   "cell_type": "code",
   "execution_count": 16,
   "id": "c4a62e21-167f-434a-9943-1ebf91919373",
   "metadata": {},
   "outputs": [
    {
     "name": "stdout",
     "output_type": "stream",
     "text": [
      "True\n",
      "True\n"
     ]
    }
   ],
   "source": [
    "a = 234\n",
    "b = 234\n",
    "print(a is b)\n",
    "print(a == b)"
   ]
  },
  {
   "cell_type": "markdown",
   "id": "cb9673fd-5050-4707-82f6-366480275adc",
   "metadata": {},
   "source": [
    "### Q4 What is the type of result here"
   ]
  },
  {
   "cell_type": "raw",
   "id": "c4eef28e-2cbe-4144-b8c1-65399343f09e",
   "metadata": {},
   "source": [
    "3 // 2 (Floor Division):\n",
    "The // operator performs floor division, which returns the largest integer less than or equal to the division result. The result is always an integer (int).\n",
    "3 // 2 evaluates to 1, which is an int.\n",
    "Therefore, type(3 // 2) returns <class 'int'>."
   ]
  },
  {
   "cell_type": "code",
   "execution_count": 17,
   "id": "001b26cd-94cf-43cb-bb58-411c30c99059",
   "metadata": {},
   "outputs": [
    {
     "name": "stdout",
     "output_type": "stream",
     "text": [
      "<class 'float'>\n",
      "<class 'int'>\n"
     ]
    }
   ],
   "source": [
    "print(type(3 / 2))    # ?\n",
    "print(type(3 // 2))   # ?"
   ]
  },
  {
   "cell_type": "markdown",
   "id": "e782e712-1405-4d7e-9301-9bbc2c5c1e44",
   "metadata": {},
   "source": [
    "### Q5.why is this valid?"
   ]
  },
  {
   "cell_type": "raw",
   "id": "5b02bb1e-9804-4e2a-841f-4b8282109d4c",
   "metadata": {},
   "source": [
    "Evaluation\n",
    "a is 10.\n",
    "True is treated as 1.\n",
    "10 + 1 equals 11."
   ]
  },
  {
   "cell_type": "code",
   "execution_count": 18,
   "id": "34966a9d-7caf-4c71-95c6-044915749cbb",
   "metadata": {},
   "outputs": [
    {
     "name": "stdout",
     "output_type": "stream",
     "text": [
      "11\n"
     ]
    }
   ],
   "source": [
    "a = 10\n",
    "print(a + True)"
   ]
  },
  {
   "cell_type": "markdown",
   "id": "b6ea8271-dc2c-48d1-81bb-d393904745b3",
   "metadata": {},
   "source": [
    "### Q6. how to print address of any object in python?"
   ]
  },
  {
   "cell_type": "raw",
   "id": "518a8f64-54e4-41bb-92ac-1f9ca74ea636",
   "metadata": {},
   "source": [
    "In Python, you can print the memory address of any object using the built-in id() function."
   ]
  },
  {
   "cell_type": "code",
   "execution_count": 19,
   "id": "365b59e7-a655-46ed-8f65-9da3e02f7d9f",
   "metadata": {},
   "outputs": [
    {
     "name": "stdout",
     "output_type": "stream",
     "text": [
      "1901743185808\n"
     ]
    }
   ],
   "source": [
    "a = 1.4\n",
    "print(id(a))"
   ]
  },
  {
   "cell_type": "markdown",
   "id": "0917f148-4826-44c8-9bf0-d2ef898796fd",
   "metadata": {},
   "source": [
    "### Q7. Are tuples always immutable or mutable sometimes? Why does this work if they are immuatable?"
   ]
  },
  {
   "cell_type": "raw",
   "id": "a892b4ad-bdbf-46eb-9fed-552d53abc342",
   "metadata": {},
   "source": [
    "Tuple Immutability: A tuple is always immutable in terms of its structure and the references it holds. You cannot reassign elements or change the tuple’s length.\n",
    "\n",
    "The tuple x is immutable, meaning the references it holds (to 1, 2, and the list [3, 4]) are fixed. These references are stored at specific memory addresses, and the tuple’s own memory address (returned by id(x)) remains constant.\n",
    "\n",
    "Mutable Contents: If a tuple contains mutable objects (like lists or dictionaries), those objects can be modified in place, which does not violate the tuple’s immutability because the reference to the object remains the same."
   ]
  },
  {
   "cell_type": "code",
   "execution_count": 32,
   "id": "f65b08ba-13aa-413d-a59a-0fcba71a90aa",
   "metadata": {},
   "outputs": [
    {
     "name": "stdout",
     "output_type": "stream",
     "text": [
      "id of element in array inside tuple 1901749599680\n",
      "id of tupel 1901749669568\n",
      "id of element in array inside tuple 1901749599680\n",
      "id of tupel 1901749669568\n"
     ]
    }
   ],
   "source": [
    "a = (2,4,[2,0])\n",
    "print(\"id of element in array inside tuple\",id(a[2]))\n",
    "print(\"id of tupel\",id(a))\n",
    "\n",
    "a[2][0] = 100\n",
    "\n",
    "print(\"id of element in array inside tuple\",id(a[2]))\n",
    "print(\"id of tupel\",id(a))"
   ]
  },
  {
   "cell_type": "code",
   "execution_count": null,
   "id": "57bfbfbc-8a06-4c15-a759-4511387fb7d5",
   "metadata": {},
   "outputs": [],
   "source": []
  }
 ],
 "metadata": {
  "kernelspec": {
   "display_name": "Python 3 (ipykernel)",
   "language": "python",
   "name": "python3"
  },
  "language_info": {
   "codemirror_mode": {
    "name": "ipython",
    "version": 3
   },
   "file_extension": ".py",
   "mimetype": "text/x-python",
   "name": "python",
   "nbconvert_exporter": "python",
   "pygments_lexer": "ipython3",
   "version": "3.12.4"
  },
  "widgets": {
   "application/vnd.jupyter.widget-state+json": {
    "state": {},
    "version_major": 2,
    "version_minor": 0
   }
  }
 },
 "nbformat": 4,
 "nbformat_minor": 5
}
