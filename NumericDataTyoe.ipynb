{
 "cells": [
  {
   "cell_type": "code",
   "execution_count": 8,
   "id": "54379212-37cb-41df-9b0e-744dedf6c4ac",
   "metadata": {},
   "outputs": [],
   "source": [
    "import sys"
   ]
  },
  {
   "cell_type": "code",
   "execution_count": 9,
   "id": "27b9dea1-2651-4dd3-b113-354322e5da08",
   "metadata": {},
   "outputs": [],
   "source": [
    "a = 5\n",
    "b = -5\n",
    "c = 23233435456788976543567890\n",
    "d = 2.3233\n",
    "e = 2e5"
   ]
  },
  {
   "cell_type": "code",
   "execution_count": 10,
   "id": "11cf5de6-cbd6-4a50-9fe0-ce3412a2a076",
   "metadata": {},
   "outputs": [
    {
     "name": "stdout",
     "output_type": "stream",
     "text": [
      "<class 'int'>\n",
      "<class 'int'>\n",
      "<class 'int'>\n",
      "<class 'float'>\n",
      "<class 'float'>\n"
     ]
    }
   ],
   "source": [
    "print(type(a))\n",
    "print(type(b))\n",
    "print(type(c))\n",
    "print(type(d))\n",
    "print(type(e))\n"
   ]
  },
  {
   "cell_type": "code",
   "execution_count": 16,
   "id": "b59094a5-72dc-4a00-b9e6-5a64474aafe9",
   "metadata": {},
   "outputs": [
    {
     "name": "stdin",
     "output_type": "stream",
     "text": [
      "Give me a string dgf feff\n"
     ]
    }
   ],
   "source": [
    "string1 = input(\"Give me a string\")"
   ]
  },
  {
   "cell_type": "code",
   "execution_count": 17,
   "id": "99cbdd76-8e72-47ab-85c4-bf261dcb406a",
   "metadata": {},
   "outputs": [
    {
     "name": "stdout",
     "output_type": "stream",
     "text": [
      "dgf feff\n"
     ]
    }
   ],
   "source": [
    "print(string1)"
   ]
  },
  {
   "cell_type": "code",
   "execution_count": null,
   "id": "193ddb7b-5d9a-4c54-94b2-175bfc6dc4de",
   "metadata": {},
   "outputs": [],
   "source": []
  }
 ],
 "metadata": {
  "kernelspec": {
   "display_name": "Python 3 (ipykernel)",
   "language": "python",
   "name": "python3"
  },
  "language_info": {
   "codemirror_mode": {
    "name": "ipython",
    "version": 3
   },
   "file_extension": ".py",
   "mimetype": "text/x-python",
   "name": "python",
   "nbconvert_exporter": "python",
   "pygments_lexer": "ipython3",
   "version": "3.12.4"
  },
  "widgets": {
   "application/vnd.jupyter.widget-state+json": {
    "state": {},
    "version_major": 2,
    "version_minor": 0
   }
  }
 },
 "nbformat": 4,
 "nbformat_minor": 5
}
