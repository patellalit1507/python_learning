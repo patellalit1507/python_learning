{
 "cells": [
  {
   "cell_type": "code",
   "execution_count": 17,
   "id": "4de9cb2d-4a79-4c1f-94fd-b8876ec2fa6b",
   "metadata": {},
   "outputs": [],
   "source": [
    "ls = 'abcdefghaaaddfdfsdsddfdwewrwerwe'"
   ]
  },
  {
   "cell_type": "code",
   "execution_count": 18,
   "id": "38183b9f-3311-469c-907a-96a4e8519e4e",
   "metadata": {},
   "outputs": [
    {
     "name": "stdout",
     "output_type": "stream",
     "text": [
      "32\n"
     ]
    }
   ],
   "source": [
    "print(len(ls))"
   ]
  },
  {
   "cell_type": "code",
   "execution_count": 19,
   "id": "d1089074-2c9d-4103-be45-38bf466d0e60",
   "metadata": {},
   "outputs": [],
   "source": [
    "w_dict = {}\n",
    "for i in ls:\n",
    "   if i in  w_dict:\n",
    "      w_dict[i] += 1\n",
    "   else:\n",
    "      w_dict[i] = 1"
   ]
  },
  {
   "cell_type": "code",
   "execution_count": 20,
   "id": "98479cf9-dcb8-4f5e-aac7-3a05e24a044d",
   "metadata": {},
   "outputs": [
    {
     "name": "stdout",
     "output_type": "stream",
     "text": [
      "{'a': 4, 'b': 1, 'c': 1, 'd': 8, 'e': 4, 'f': 4, 'g': 1, 'h': 1, 's': 2, 'w': 4, 'r': 2}\n"
     ]
    }
   ],
   "source": [
    "print(w_dict)"
   ]
  },
  {
   "cell_type": "code",
   "execution_count": 21,
   "id": "10684a11-3310-47a3-9206-51456f8457fc",
   "metadata": {},
   "outputs": [],
   "source": [
    "w_dict = {}\n",
    "for i in ls:\n",
    "    w_dict[i] = w_dict.get(i,0)+1"
   ]
  },
  {
   "cell_type": "code",
   "execution_count": 22,
   "id": "045b2919-961d-4111-813e-decac659378e",
   "metadata": {},
   "outputs": [
    {
     "name": "stdout",
     "output_type": "stream",
     "text": [
      "{'a': 4, 'b': 1, 'c': 1, 'd': 8, 'e': 4, 'f': 4, 'g': 1, 'h': 1, 's': 2, 'w': 4, 'r': 2}\n"
     ]
    }
   ],
   "source": [
    "print(w_dict)"
   ]
  },
  {
   "cell_type": "code",
   "execution_count": 23,
   "id": "56e5e661-4915-473c-8206-2bf5503d1fe1",
   "metadata": {},
   "outputs": [],
   "source": [
    "from collections import Counter"
   ]
  },
  {
   "cell_type": "code",
   "execution_count": 24,
   "id": "bf390d45-bf5a-4913-8afc-a74e1ae637db",
   "metadata": {},
   "outputs": [],
   "source": [
    "new_dict = Counter(ls)"
   ]
  },
  {
   "cell_type": "code",
   "execution_count": 25,
   "id": "c0766a2b-daaf-4974-8fd3-3ee11b93f760",
   "metadata": {},
   "outputs": [
    {
     "name": "stdout",
     "output_type": "stream",
     "text": [
      "Counter({'d': 8, 'a': 4, 'e': 4, 'f': 4, 'w': 4, 's': 2, 'r': 2, 'b': 1, 'c': 1, 'g': 1, 'h': 1})\n"
     ]
    }
   ],
   "source": [
    "print(new_dict)"
   ]
  },
  {
   "cell_type": "code",
   "execution_count": null,
   "id": "8bca4ca1-9b42-4b53-b64c-fafa2780ce34",
   "metadata": {},
   "outputs": [],
   "source": []
  }
 ],
 "metadata": {
  "kernelspec": {
   "display_name": "Python 3 (ipykernel)",
   "language": "python",
   "name": "python3"
  },
  "language_info": {
   "codemirror_mode": {
    "name": "ipython",
    "version": 3
   },
   "file_extension": ".py",
   "mimetype": "text/x-python",
   "name": "python",
   "nbconvert_exporter": "python",
   "pygments_lexer": "ipython3",
   "version": "3.12.4"
  },
  "widgets": {
   "application/vnd.jupyter.widget-state+json": {
    "state": {},
    "version_major": 2,
    "version_minor": 0
   }
  }
 },
 "nbformat": 4,
 "nbformat_minor": 5
}
