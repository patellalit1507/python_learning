{
 "cells": [
  {
   "cell_type": "code",
   "execution_count": 20,
   "id": "9d6b2f90-7d49-4275-923c-3d03e3d8f2fb",
   "metadata": {},
   "outputs": [],
   "source": [
    "from fibo import fib"
   ]
  },
  {
   "cell_type": "code",
   "execution_count": 21,
   "id": "f3161f83-951c-4af3-857b-efa016880690",
   "metadata": {},
   "outputs": [
    {
     "name": "stdout",
     "output_type": "stream",
     "text": [
      "now in test class\n"
     ]
    }
   ],
   "source": [
    "print(\"now in test class\")"
   ]
  },
  {
   "cell_type": "code",
   "execution_count": null,
   "id": "d91156f2-51f3-4002-a6f2-2c98d29b5857",
   "metadata": {},
   "outputs": [],
   "source": []
  }
 ],
 "metadata": {
  "kernelspec": {
   "display_name": "Python 3 (ipykernel)",
   "language": "python",
   "name": "python3"
  },
  "language_info": {
   "codemirror_mode": {
    "name": "ipython",
    "version": 3
   },
   "file_extension": ".py",
   "mimetype": "text/x-python",
   "name": "python",
   "nbconvert_exporter": "python",
   "pygments_lexer": "ipython3",
   "version": "3.12.4"
  }
 },
 "nbformat": 4,
 "nbformat_minor": 5
}
