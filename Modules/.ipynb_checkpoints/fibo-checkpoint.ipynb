{
 "cells": [
  {
   "cell_type": "code",
   "execution_count": 2,
   "id": "0bad7c7d-a8df-40b0-a4bb-3d4b1084963a",
   "metadata": {},
   "outputs": [
    {
     "name": "stdout",
     "output_type": "stream",
     "text": [
      "I am in fibo.py file\n",
      "My __name__ is: __main__\n"
     ]
    }
   ],
   "source": [
    "def fib(n):\n",
    "    a, b = 0, 1\n",
    "    while a < n:\n",
    "        print(a, end=' ')\n",
    "        a, b = b, a + b\n",
    "    print()\n",
    "\n",
    "print(\"I am in fibo.py file\")\n",
    "\n",
    "print(\"My __name__ is:\", __name__)"
   ]
  },
  {
   "cell_type": "code",
   "execution_count": null,
   "id": "507af238-bf49-4371-abb5-927d0d427ba5",
   "metadata": {},
   "outputs": [],
   "source": []
  }
 ],
 "metadata": {
  "kernelspec": {
   "display_name": "Python 3 (ipykernel)",
   "language": "python",
   "name": "python3"
  },
  "language_info": {
   "codemirror_mode": {
    "name": "ipython",
    "version": 3
   },
   "file_extension": ".py",
   "mimetype": "text/x-python",
   "name": "python",
   "nbconvert_exporter": "python",
   "pygments_lexer": "ipython3",
   "version": "3.12.4"
  }
 },
 "nbformat": 4,
 "nbformat_minor": 5
}
