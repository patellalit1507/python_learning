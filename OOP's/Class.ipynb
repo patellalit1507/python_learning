{
 "cells": [
  {
   "cell_type": "markdown",
   "id": "c1fda943-9de4-449e-8e6a-bfcb00555b91",
   "metadata": {},
   "source": [
    "#### Class objects support two kinds of operations: attribute references and instantiation."
   ]
  },
  {
   "cell_type": "markdown",
   "id": "9e29e5fd-2340-4412-aefd-a00698e4a774",
   "metadata": {},
   "source": [
    "##### Attribute reference "
   ]
  },
  {
   "cell_type": "code",
   "execution_count": 5,
   "id": "8f598074-5459-416e-8661-3fcd8edd6f35",
   "metadata": {},
   "outputs": [],
   "source": [
    "class MyClass:\n",
    "    \"\"\"A simple example class\"\"\"\n",
    "    i = 12345\n",
    "\n",
    "    def f():\n",
    "        return 'hello world'"
   ]
  },
  {
   "cell_type": "code",
   "execution_count": 6,
   "id": "6a641393-26f4-4ce1-8157-7858981a31f0",
   "metadata": {},
   "outputs": [
    {
     "name": "stdout",
     "output_type": "stream",
     "text": [
      "12345\n"
     ]
    }
   ],
   "source": [
    "print(MyClass.i)"
   ]
  },
  {
   "cell_type": "code",
   "execution_count": 7,
   "id": "c8320b9d-42b5-4fe5-90c5-31f360081389",
   "metadata": {},
   "outputs": [
    {
     "name": "stdout",
     "output_type": "stream",
     "text": [
      "hello world\n"
     ]
    }
   ],
   "source": [
    "print(MyClass.f())"
   ]
  },
  {
   "cell_type": "code",
   "execution_count": 10,
   "id": "f6ae75df-204b-4150-9544-05d700701044",
   "metadata": {},
   "outputs": [
    {
     "name": "stdout",
     "output_type": "stream",
     "text": [
      "A simple example class\n"
     ]
    }
   ],
   "source": [
    "print(MyClass.__doc__)"
   ]
  },
  {
   "cell_type": "code",
   "execution_count": 15,
   "id": "8699a08f-73d4-4122-8965-af9af1f79202",
   "metadata": {},
   "outputs": [
    {
     "name": "stdout",
     "output_type": "stream",
     "text": [
      "12345\n",
      "678\n",
      "12345\n"
     ]
    }
   ],
   "source": [
    "obj1 = MyClass()\n",
    "obj2 = MyClass()\n",
    "obj1.i = 678\n",
    "print(MyClass.i)\n",
    "print(obj1.i)\n",
    "print(obj2.i)"
   ]
  },
  {
   "cell_type": "markdown",
   "id": "188ad53e-acf2-4763-a3b9-590c7bd5c813",
   "metadata": {},
   "source": [
    "## Instance varibales\n",
    "create at the runtime dynamically"
   ]
  },
  {
   "cell_type": "code",
   "execution_count": 18,
   "id": "7db5dc9b-d879-4498-add0-8c36b5c871a8",
   "metadata": {},
   "outputs": [
    {
     "name": "stdout",
     "output_type": "stream",
     "text": [
      "16\n"
     ]
    }
   ],
   "source": [
    "class MyClass:\n",
    "    def f(self):\n",
    "        return \"Hello World\"\n",
    "\n",
    "x = MyClass()\n",
    "\n",
    "x.counter = 1  # Created during runtime dynamically\n",
    "\n",
    "while x.counter < 10:\n",
    "    x.counter = x.counter * 2\n",
    "\n",
    "print(x.counter)  # Output: 16"
   ]
  },
  {
   "cell_type": "code",
   "execution_count": 19,
   "id": "68753cfa-b683-4fdc-9d33-d05d8f5976d6",
   "metadata": {},
   "outputs": [
    {
     "name": "stdout",
     "output_type": "stream",
     "text": [
      "<class 'function'>\n",
      "<class 'method'>\n"
     ]
    }
   ],
   "source": [
    "print(type(MyClass.f))\n",
    "print(type(x.f))"
   ]
  },
  {
   "cell_type": "code",
   "execution_count": 41,
   "id": "98c58b0d-73c2-42d6-8bb5-e2b206724633",
   "metadata": {},
   "outputs": [
    {
     "name": "stdout",
     "output_type": "stream",
     "text": [
      "Account holder lalit has balance of : 800\n"
     ]
    }
   ],
   "source": [
    "class InsufficientBalance(Exception):\n",
    "    def __init__(self,message):\n",
    "        self.message = message\n",
    "        super().__init__(self.message)\n",
    "\n",
    "class InvalidAmountException(Exception):\n",
    "    def __init__(self,message):\n",
    "        self.message = message\n",
    "        super().__init__(self.message)\n",
    "\n",
    "class BankAccount:\n",
    "\n",
    "    def __init__(self,account_holder,balance):\n",
    "        self.account_holder = account_holder\n",
    "        self.balance = balance\n",
    "    \n",
    "    def deposite(self,amount):\n",
    "        self.balance += amount\n",
    "        \n",
    "    def withdraw(self, amount):\n",
    "        if (amount > self.balance):\n",
    "            raise InsufficientBalance(\"Insufficient balance\")\n",
    "            \n",
    "        elif(amount <= 0):\n",
    "            raise InvalidAmountException(\"Please enter valid amount\")\n",
    "            \n",
    "            \n",
    "        self.balance -=amount\n",
    "            \n",
    "    def display(self):\n",
    "        print(f'Account holder {self.account_holder} has balance of : {self.balance}')\n",
    "\n",
    "\n",
    "\n",
    "\n",
    "try:\n",
    "    myAccount = BankAccount(\"lalit\",1000)\n",
    "    myAccount.deposite(300)\n",
    "    myAccount.withdraw(500)\n",
    "    myAccount.display()\n",
    "    \n",
    "except (InvalidAmountException , InsufficientBalance)  as e:\n",
    "       print(\"Error: \",e)\n",
    "    \n"
   ]
  },
  {
   "cell_type": "code",
   "execution_count": 35,
   "id": "161b38f0-8d75-45a5-9edf-1166b4a52e67",
   "metadata": {},
   "outputs": [
    {
     "name": "stdout",
     "output_type": "stream",
     "text": [
      "Account holder lalit has balance of : 0\n",
      "Please enter the valid amount\n"
     ]
    }
   ],
   "source": [
    "\n",
    "\n"
   ]
  },
  {
   "cell_type": "code",
   "execution_count": 36,
   "id": "1ea9d9af-2785-4fe4-ad7a-2f4b89b01d71",
   "metadata": {},
   "outputs": [],
   "source": [
    "myAccount.deposite(1000)"
   ]
  },
  {
   "cell_type": "code",
   "execution_count": 37,
   "id": "94cb704f-8778-4490-9932-aa938b960646",
   "metadata": {},
   "outputs": [],
   "source": [
    "try:\n",
    "   myAccount.withdraw(1)\n",
    "except InvalidAmountException as e:\n",
    "    print(\"Please enter the valid amount\")\n",
    "\n",
    "except InsufficientBalance as e:\n",
    "    print(\"InsufficientBalance in your account\")"
   ]
  },
  {
   "cell_type": "code",
   "execution_count": 38,
   "id": "05ede854-6e27-4fce-b2cb-074bc184761c",
   "metadata": {},
   "outputs": [
    {
     "name": "stdout",
     "output_type": "stream",
     "text": [
      "Account holder lalit has balance of : 999\n"
     ]
    }
   ],
   "source": [
    "myAccount.display()"
   ]
  },
  {
   "cell_type": "code",
   "execution_count": null,
   "id": "3694ffb1-c40f-4232-839b-3b99b5f10a83",
   "metadata": {},
   "outputs": [],
   "source": []
  }
 ],
 "metadata": {
  "kernelspec": {
   "display_name": "Python 3 (ipykernel)",
   "language": "python",
   "name": "python3"
  },
  "language_info": {
   "codemirror_mode": {
    "name": "ipython",
    "version": 3
   },
   "file_extension": ".py",
   "mimetype": "text/x-python",
   "name": "python",
   "nbconvert_exporter": "python",
   "pygments_lexer": "ipython3",
   "version": "3.12.4"
  },
  "widgets": {
   "application/vnd.jupyter.widget-state+json": {
    "state": {},
    "version_major": 2,
    "version_minor": 0
   }
  }
 },
 "nbformat": 4,
 "nbformat_minor": 5
}
