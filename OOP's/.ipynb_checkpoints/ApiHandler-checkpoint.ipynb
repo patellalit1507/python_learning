{
 "cells": [
  {
   "cell_type": "code",
   "execution_count": 4,
   "id": "3d6d4b63-3c21-4406-acdc-922abee0490d",
   "metadata": {},
   "outputs": [],
   "source": [
    "import requests\n",
    "import json\n",
    "from jsonschema import validate, ValidationError"
   ]
  },
  {
   "cell_type": "code",
   "execution_count": 34,
   "id": "2d7e0167-560c-473a-8b26-68aac6eb21bf",
   "metadata": {},
   "outputs": [],
   "source": [
    "schema = {\n",
    "    \"$schema\": \"http://json-schema.org/draft-07/schema#\",\n",
    "    \"type\" : \"object\",\n",
    "    \"properties\" : {\n",
    "        \"id\" : {\"type\":\"integer\"},\n",
    "        \"name\" :{\"type\": \"string\"},\n",
    "        \"username\" :{\"type\":\"string\"},\n",
    "        \"email\" : {\"type\":\"string\"},\n",
    "        \"address\": {\n",
    "            \"type\" : \"object\",\n",
    "            \"properties\":{\n",
    "                \"street\":{\"type\":\"string\"},\n",
    "                \"suit\" :{\"type\":\"string\"},\n",
    "                \"city\" :{\"type\":\"string\"},\n",
    "                \"zipcode\" : {\"type\":\"string\"},\n",
    "                \"geo\" : {\n",
    "                    \"type\" :\"object\",\n",
    "                    \"properties\":{\n",
    "                       \"lat\" : {\"type\":\"string\"},\n",
    "                       \"lng\" : {\"type\":\"string\"}\n",
    "                    } ,\n",
    "            }\n",
    "        }},\n",
    "        \"phone\":{\"type\",\"string\"},\n",
    "        \"website\" : {\"type\":\"string\"},\n",
    "        \"company\":{\n",
    "            \"type\" : \"object\",\n",
    "            \"properties\":{\n",
    "                \"name\":{\"type\":\"string\"},\n",
    "                \"catchPhrase\" : {\"type\": \"string\"},\n",
    "                \"bs\" : {\"type\":\"string\"}\n",
    "                 }  \n",
    "            }\n",
    "    },\n",
    "\n",
    "    \"required\" : [\"id\",\"name\",\"email\"]\n",
    "}"
   ]
  },
  {
   "cell_type": "code",
   "execution_count": 20,
   "id": "5e5fca06-d51b-4a21-a6bc-80bbd99a4897",
   "metadata": {},
   "outputs": [],
   "source": [
    "# schema = {\n",
    "#     \"id\" : \"integer\",\n",
    "#     \"name\" : \"string\",\n",
    "#     \"username\" : \"string\",\n",
    "#     \"email\" : \"string\",\n",
    "#     \"address\": {\n",
    "#         \"street\":\"string\",\n",
    "#         \"suit\" : \"string\",\n",
    "#         \"city\" : \"string\",\n",
    "#         \"zipcode\" : \"integer\",\n",
    "#         \"geo\" : {\n",
    "#             \"lat\" : \"string\",\n",
    "#             \"lng\" : \"string\" \n",
    "#         }  \n",
    "#     },\n",
    "#     \"phone\":\"string\",\n",
    "#     \"website\" : \"string\",\n",
    "#     \"company\":{\n",
    "#         \"name\":\"string\",\n",
    "#         \"catchPhrase\" : \"string\",\n",
    "#         \"bs\" : \"string\"\n",
    "#     }\n",
    "    \n",
    "# }"
   ]
  },
  {
   "cell_type": "markdown",
   "id": "058e9d49-1650-48d0-8f00-204ee84b3d28",
   "metadata": {},
   "source": [
    "### Exception Handling"
   ]
  },
  {
   "cell_type": "code",
   "execution_count": 35,
   "id": "889859d5-dff5-481c-baaa-40f4d9cb4e95",
   "metadata": {},
   "outputs": [],
   "source": [
    "class UrlNotFound(Exception):\n",
    "    def __init__(self,message):\n",
    "        self.message = message\n",
    "        super().__init__(self.message)\n"
   ]
  },
  {
   "cell_type": "code",
   "execution_count": 5,
   "id": "b02d74a6-6390-4571-b8f4-fdc923500947",
   "metadata": {},
   "outputs": [],
   "source": [
    "class ApiHandler:\n",
    "    def __init__(self,url):\n",
    "        if(!url):\n",
    "            raise UrlNotFound(\"Url not found please check and enter valid url\")\n",
    "            \n",
    "        self.url = url\n",
    "        self.data = {}\n",
    "\n",
    "    def fetch_data(self):\n",
    "        response = requests.get(\"https://jsonplaceholder.typicode.com/users\")\n",
    "        self.data = response.json()\n",
    "        validate_data()\n",
    "        \n",
    "    def validate_data(self):\n",
    "        \n",
    "    def save_to_file():\n",
    "        pass"
   ]
  },
  {
   "cell_type": "code",
   "execution_count": 16,
   "id": "a3c10928-6a2e-4df6-b503-9e1698a1888c",
   "metadata": {},
   "outputs": [],
   "source": []
  },
  {
   "cell_type": "code",
   "execution_count": 18,
   "id": "c4c2e700-ab54-46b7-9f74-59a470cf6007",
   "metadata": {},
   "outputs": [
    {
     "name": "stdout",
     "output_type": "stream",
     "text": [
      "{'id': 2, 'name': 'Ervin Howell', 'username': 'Antonette', 'email': 'Shanna@melissa.tv', 'address': {'street': 'Victor Plains', 'suite': 'Suite 879', 'city': 'Wisokyburgh', 'zipcode': '90566-7771', 'geo': {'lat': '-43.9509', 'lng': '-34.4618'}}, 'phone': '010-692-6593 x09125', 'website': 'anastasia.net', 'company': {'name': 'Deckow-Crist', 'catchPhrase': 'Proactive didactic contingency', 'bs': 'synergize scalable supply-chains'}}\n"
     ]
    }
   ],
   "source": [
    "print(data[1])"
   ]
  },
  {
   "cell_type": "code",
   "execution_count": null,
   "id": "4f4f5af5-4234-4201-b074-1029e9c490bf",
   "metadata": {},
   "outputs": [],
   "source": []
  }
 ],
 "metadata": {
  "kernelspec": {
   "display_name": "Python 3 (ipykernel)",
   "language": "python",
   "name": "python3"
  },
  "language_info": {
   "codemirror_mode": {
    "name": "ipython",
    "version": 3
   },
   "file_extension": ".py",
   "mimetype": "text/x-python",
   "name": "python",
   "nbconvert_exporter": "python",
   "pygments_lexer": "ipython3",
   "version": "3.12.4"
  },
  "widgets": {
   "application/vnd.jupyter.widget-state+json": {
    "state": {},
    "version_major": 2,
    "version_minor": 0
   }
  }
 },
 "nbformat": 4,
 "nbformat_minor": 5
}
