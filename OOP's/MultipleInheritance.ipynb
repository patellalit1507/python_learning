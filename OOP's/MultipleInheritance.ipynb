{
 "cells": [
  {
   "cell_type": "markdown",
   "id": "86b6b4bb-7c70-4608-a8f5-17e16835a6ba",
   "metadata": {},
   "source": [
    "#### Why Python Supports Multiple Inheritance but Java Doesn't?\n",
    "Root Reason — \"Diamond Problem\"\n",
    "\n",
    "Python allows Multiple Inheritance because:\n",
    "\n",
    "It has a solution for this problem.\n",
    "\n",
    "It's called — MRO\n",
    "(Method Resolution Order)\n",
    "###### Left to Right → Depth First → Then Parent Class."
   ]
  },
  {
   "cell_type": "code",
   "execution_count": 5,
   "id": "a658a262-0d50-4d45-ad36-68b7c39a1cb3",
   "metadata": {},
   "outputs": [
    {
     "name": "stdout",
     "output_type": "stream",
     "text": [
      "class A\n"
     ]
    }
   ],
   "source": [
    "class A:\n",
    "    def show(self):\n",
    "        print(\"class A\")\n",
    "\n",
    "class B:\n",
    "    def show(self):\n",
    "        print(\"class B\")\n",
    "\n",
    "class C(A,B):\n",
    "    pass\n",
    "\n",
    "obj = C()\n",
    "obj.show()"
   ]
  },
  {
   "cell_type": "code",
   "execution_count": null,
   "id": "eab79905-5e38-4655-9201-fb71698c5ee4",
   "metadata": {},
   "outputs": [],
   "source": [
    "\n"
   ]
  }
 ],
 "metadata": {
  "kernelspec": {
   "display_name": "Python 3 (ipykernel)",
   "language": "python",
   "name": "python3"
  },
  "language_info": {
   "codemirror_mode": {
    "name": "ipython",
    "version": 3
   },
   "file_extension": ".py",
   "mimetype": "text/x-python",
   "name": "python",
   "nbconvert_exporter": "python",
   "pygments_lexer": "ipython3",
   "version": "3.12.4"
  }
 },
 "nbformat": 4,
 "nbformat_minor": 5
}
