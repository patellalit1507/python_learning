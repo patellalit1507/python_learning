{
 "cells": [
  {
   "cell_type": "code",
   "execution_count": 36,
   "id": "3d6d4b63-3c21-4406-acdc-922abee0490d",
   "metadata": {},
   "outputs": [],
   "source": [
    "import requests\n",
    "import json\n",
    "from jsonschema import validate, ValidationError"
   ]
  },
  {
   "cell_type": "code",
   "execution_count": 75,
   "id": "2d7e0167-560c-473a-8b26-68aac6eb21bf",
   "metadata": {},
   "outputs": [],
   "source": [
    "schema = {\n",
    "    \"$schema\": \"http://json-schema.org/draft-07/schema#\",\n",
    "    \"type\" : \"object\",\n",
    "    \"properties\" : {\n",
    "        \"id\" : {\"type\":\"integer\"},\n",
    "        \"name\" :{\"type\": \"string\"},\n",
    "        \"username\" :{\"type\":\"string\"},\n",
    "        \"email\" : {\"type\":\"string\"},\n",
    "        \"address\": {\n",
    "            \"type\" : \"object\",\n",
    "            \"properties\":{\n",
    "                \"street\":{\"type\":\"string\"},\n",
    "                \"suite\" :{\"type\":\"string\"},\n",
    "                \"city\" :{\"type\":\"string\"},\n",
    "                \"zipcode\" : {\"type\":\"string\"},\n",
    "                \"geo\" : {\n",
    "                    \"type\" :\"object\",\n",
    "                    \"properties\":{\n",
    "                       \"lat\" : {\"type\":\"string\"},\n",
    "                       \"lng\" : {\"type\":\"string\"}\n",
    "                    } \n",
    "            }\n",
    "        }},\n",
    "        \"phone\": {\"type\":\"string\"\n",
    "                 },\n",
    "        \"website\" : {\"type\":\"string\"},\n",
    "        \"company\":{\n",
    "            \"type\" : \"object\",\n",
    "            \"properties\":{\n",
    "                \"name\":{\"type\":\"string\"},\n",
    "                \"catchPhrase\" : {\"type\": \"string\"},\n",
    "                \"bs\" : {\"type\":\"string\"}\n",
    "                 }  \n",
    "            }\n",
    "    },\n",
    "\n",
    "    \"required\" : [\"id\",\"name\",\"email\"]\n",
    "}"
   ]
  },
  {
   "cell_type": "markdown",
   "id": "058e9d49-1650-48d0-8f00-204ee84b3d28",
   "metadata": {},
   "source": [
    "### Exception Handling"
   ]
  },
  {
   "cell_type": "code",
   "execution_count": 76,
   "id": "889859d5-dff5-481c-baaa-40f4d9cb4e95",
   "metadata": {},
   "outputs": [],
   "source": [
    "class UrlNotFound(Exception):\n",
    "    def __init__(self,message):\n",
    "        self.message = message\n",
    "        super().__init__(self.message)\n",
    "\n",
    "class InvalidRequest(Exception):\n",
    "    def __init__(self,message):\n",
    "        self.message = message\n",
    "        super().__init__(self.message)\n"
   ]
  },
  {
   "cell_type": "code",
   "execution_count": 83,
   "id": "b02d74a6-6390-4571-b8f4-fdc923500947",
   "metadata": {},
   "outputs": [],
   "source": [
    "class ApiHandler:\n",
    "    def __init__(self,url):    \n",
    "        self.url = url\n",
    "        self.data = {}\n",
    "    \n",
    "    def fetch_data(self):\n",
    "        try:\n",
    "          response = requests.get(self.url)\n",
    "        except exception as e: \n",
    "          print(e.message())\n",
    "        \n",
    "        self.data = response.json()\n",
    "        self.validate_data()\n",
    "        \n",
    "    def validate_data(self):\n",
    "        valid_data = []\n",
    "        for i in self.data:\n",
    "            print(i)\n",
    "            try:\n",
    "               validate(instance=i, schema=schema)\n",
    "               valid_data.append(i)\n",
    "               print(\"Data is Valid!\")\n",
    "                \n",
    "            except ValidationError as e:\n",
    "               print(\"Validation Error:\", e)\n",
    "        self.save_to_file(valid_data)       \n",
    "\n",
    "        \n",
    "        \n",
    "    def save_to_file(self,record):\n",
    "        with open(\"jsondata.json\",\"w\",encoding = \"utf-8\") as f:\n",
    "            json.dump(record,f,indent = 4)"
   ]
  },
  {
   "cell_type": "code",
   "execution_count": 84,
   "id": "a3c10928-6a2e-4df6-b503-9e1698a1888c",
   "metadata": {},
   "outputs": [
    {
     "name": "stdout",
     "output_type": "stream",
     "text": [
      "{'id': 1, 'name': 'Leanne Graham', 'username': 'Bret', 'email': 'Sincere@april.biz', 'address': {'street': 'Kulas Light', 'suite': 'Apt. 556', 'city': 'Gwenborough', 'zipcode': '92998-3874', 'geo': {'lat': '-37.3159', 'lng': '81.1496'}}, 'phone': '1-770-736-8031 x56442', 'website': 'hildegard.org', 'company': {'name': 'Romaguera-Crona', 'catchPhrase': 'Multi-layered client-server neural-net', 'bs': 'harness real-time e-markets'}}\n",
      "Data is Valid!\n",
      "{'id': 2, 'name': 'Ervin Howell', 'username': 'Antonette', 'email': 'Shanna@melissa.tv', 'address': {'street': 'Victor Plains', 'suite': 'Suite 879', 'city': 'Wisokyburgh', 'zipcode': '90566-7771', 'geo': {'lat': '-43.9509', 'lng': '-34.4618'}}, 'phone': '010-692-6593 x09125', 'website': 'anastasia.net', 'company': {'name': 'Deckow-Crist', 'catchPhrase': 'Proactive didactic contingency', 'bs': 'synergize scalable supply-chains'}}\n",
      "Data is Valid!\n",
      "{'id': 3, 'name': 'Clementine Bauch', 'username': 'Samantha', 'email': 'Nathan@yesenia.net', 'address': {'street': 'Douglas Extension', 'suite': 'Suite 847', 'city': 'McKenziehaven', 'zipcode': '59590-4157', 'geo': {'lat': '-68.6102', 'lng': '-47.0653'}}, 'phone': '1-463-123-4447', 'website': 'ramiro.info', 'company': {'name': 'Romaguera-Jacobson', 'catchPhrase': 'Face to face bifurcated interface', 'bs': 'e-enable strategic applications'}}\n",
      "Data is Valid!\n",
      "{'id': 4, 'name': 'Patricia Lebsack', 'username': 'Karianne', 'email': 'Julianne.OConner@kory.org', 'address': {'street': 'Hoeger Mall', 'suite': 'Apt. 692', 'city': 'South Elvis', 'zipcode': '53919-4257', 'geo': {'lat': '29.4572', 'lng': '-164.2990'}}, 'phone': '493-170-9623 x156', 'website': 'kale.biz', 'company': {'name': 'Robel-Corkery', 'catchPhrase': 'Multi-tiered zero tolerance productivity', 'bs': 'transition cutting-edge web services'}}\n",
      "Data is Valid!\n",
      "{'id': 5, 'name': 'Chelsey Dietrich', 'username': 'Kamren', 'email': 'Lucio_Hettinger@annie.ca', 'address': {'street': 'Skiles Walks', 'suite': 'Suite 351', 'city': 'Roscoeview', 'zipcode': '33263', 'geo': {'lat': '-31.8129', 'lng': '62.5342'}}, 'phone': '(254)954-1289', 'website': 'demarco.info', 'company': {'name': 'Keebler LLC', 'catchPhrase': 'User-centric fault-tolerant solution', 'bs': 'revolutionize end-to-end systems'}}\n",
      "Data is Valid!\n",
      "{'id': 6, 'name': 'Mrs. Dennis Schulist', 'username': 'Leopoldo_Corkery', 'email': 'Karley_Dach@jasper.info', 'address': {'street': 'Norberto Crossing', 'suite': 'Apt. 950', 'city': 'South Christy', 'zipcode': '23505-1337', 'geo': {'lat': '-71.4197', 'lng': '71.7478'}}, 'phone': '1-477-935-8478 x6430', 'website': 'ola.org', 'company': {'name': 'Considine-Lockman', 'catchPhrase': 'Synchronised bottom-line interface', 'bs': 'e-enable innovative applications'}}\n",
      "Data is Valid!\n",
      "{'id': 7, 'name': 'Kurtis Weissnat', 'username': 'Elwyn.Skiles', 'email': 'Telly.Hoeger@billy.biz', 'address': {'street': 'Rex Trail', 'suite': 'Suite 280', 'city': 'Howemouth', 'zipcode': '58804-1099', 'geo': {'lat': '24.8918', 'lng': '21.8984'}}, 'phone': '210.067.6132', 'website': 'elvis.io', 'company': {'name': 'Johns Group', 'catchPhrase': 'Configurable multimedia task-force', 'bs': 'generate enterprise e-tailers'}}\n",
      "Data is Valid!\n",
      "{'id': 8, 'name': 'Nicholas Runolfsdottir V', 'username': 'Maxime_Nienow', 'email': 'Sherwood@rosamond.me', 'address': {'street': 'Ellsworth Summit', 'suite': 'Suite 729', 'city': 'Aliyaview', 'zipcode': '45169', 'geo': {'lat': '-14.3990', 'lng': '-120.7677'}}, 'phone': '586.493.6943 x140', 'website': 'jacynthe.com', 'company': {'name': 'Abernathy Group', 'catchPhrase': 'Implemented secondary concept', 'bs': 'e-enable extensible e-tailers'}}\n",
      "Data is Valid!\n",
      "{'id': 9, 'name': 'Glenna Reichert', 'username': 'Delphine', 'email': 'Chaim_McDermott@dana.io', 'address': {'street': 'Dayna Park', 'suite': 'Suite 449', 'city': 'Bartholomebury', 'zipcode': '76495-3109', 'geo': {'lat': '24.6463', 'lng': '-168.8889'}}, 'phone': '(775)976-6794 x41206', 'website': 'conrad.com', 'company': {'name': 'Yost and Sons', 'catchPhrase': 'Switchable contextually-based project', 'bs': 'aggregate real-time technologies'}}\n",
      "Data is Valid!\n",
      "{'id': 10, 'name': 'Clementina DuBuque', 'username': 'Moriah.Stanton', 'email': 'Rey.Padberg@karina.biz', 'address': {'street': 'Kattie Turnpike', 'suite': 'Suite 198', 'city': 'Lebsackbury', 'zipcode': '31428-2261', 'geo': {'lat': '-38.2386', 'lng': '57.2232'}}, 'phone': '024-648-3804', 'website': 'ambrose.net', 'company': {'name': 'Hoeger LLC', 'catchPhrase': 'Centralized empowering task-force', 'bs': 'target end-to-end models'}}\n",
      "Data is Valid!\n"
     ]
    }
   ],
   "source": [
    "api1 = ApiHandler(\"https://jsonplaceholder.typicode.com/users\")\n",
    "api1.fetch_data()\n",
    "\n"
   ]
  },
  {
   "cell_type": "code",
   "execution_count": 67,
   "id": "c4c2e700-ab54-46b7-9f74-59a470cf6007",
   "metadata": {},
   "outputs": [
    {
     "name": "stdout",
     "output_type": "stream",
     "text": [
      "{'id': 2, 'name': 'Ervin Howell', 'username': 'Antonette', 'email': 'Shanna@melissa.tv', 'address': {'street': 'Victor Plains', 'suite': 'Suite 879', 'city': 'Wisokyburgh', 'zipcode': '90566-7771', 'geo': {'lat': '-43.9509', 'lng': '-34.4618'}}, 'phone': '010-692-6593 x09125', 'website': 'anastasia.net', 'company': {'name': 'Deckow-Crist', 'catchPhrase': 'Proactive didactic contingency', 'bs': 'synergize scalable supply-chains'}}\n"
     ]
    }
   ],
   "source": [
    "print(data[1])"
   ]
  },
  {
   "cell_type": "code",
   "execution_count": null,
   "id": "4f4f5af5-4234-4201-b074-1029e9c490bf",
   "metadata": {},
   "outputs": [],
   "source": []
  }
 ],
 "metadata": {
  "kernelspec": {
   "display_name": "Python 3 (ipykernel)",
   "language": "python",
   "name": "python3"
  },
  "language_info": {
   "codemirror_mode": {
    "name": "ipython",
    "version": 3
   },
   "file_extension": ".py",
   "mimetype": "text/x-python",
   "name": "python",
   "nbconvert_exporter": "python",
   "pygments_lexer": "ipython3",
   "version": "3.12.4"
  },
  "widgets": {
   "application/vnd.jupyter.widget-state+json": {
    "state": {},
    "version_major": 2,
    "version_minor": 0
   }
  }
 },
 "nbformat": 4,
 "nbformat_minor": 5
}
