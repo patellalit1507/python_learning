{
 "cells": [
  {
   "cell_type": "code",
   "execution_count": 1,
   "id": "d6c12b3d-2300-4b62-bb96-6ab2177c222d",
   "metadata": {},
   "outputs": [],
   "source": [
    "import json\n",
    "import pandas as pd\n",
    "import re\n",
    "import time\n",
    "import requests"
   ]
  },
  {
   "cell_type": "code",
   "execution_count": null,
   "id": "f415d250-3cdd-400c-b41e-09d647229985",
   "metadata": {},
   "outputs": [],
   "source": [
    "# Base URL without the dynamic timestamp part\n",
    "base_batsman_url = \"https://ipl-stats-sports-mechanic.s3.ap-south-1.amazonaws.com/ipl/feeds/stats/203-toprunsscorers.js\"\n",
    "base_bowler_url = \"https://ipl-stats-sports-mechanic.s3.ap-south-1.amazonaws.com/ipl/feeds/stats/203-mostwickets.js\"\n",
    "callback_param = \"ontoprunsscorers\"\n",
    "\n",
    "# Generate current timestamp in milliseconds\n",
    "timestamp_ms = int(time.time() * 1000)\n",
    "\n",
    "# Construct the full URL with dynamic timestamp\n",
    "full_batsman_url = f\"{base_batsman_url}?callback={callback_param}&_={timestamp_ms}\"\n",
    "full_bowler_url = f\"{base_bowler_url}?callback={callback_param}&_={timestamp_ms}\"\n",
    "\n",
    "print(full_batsman_url)\n",
    "print(full_bowler_url)"
   ]
  },
  {
   "cell_type": "code",
   "execution_count": 408,
   "id": "bbf548f9-82a5-4513-b74b-9ce37ef0acd3",
   "metadata": {},
   "outputs": [
    {
     "name": "stdout",
     "output_type": "stream",
     "text": [
      "(143, 42) (92, 44)\n",
      "(64, 42) (36, 44)\n"
     ]
    }
   ],
   "source": [
    "# Load the CSV files\n",
    "role_df = pd.read_csv(\"Batsman.csv\")\n",
    "bat_performance_df = pd.read_csv(\"batsman_performance.csv\")\n",
    "bowl_performance_df = pd.read_csv(\"bawler_performance.csv\")\n",
    "print(bat_performance_df.shape, bowl_performance_df.shape)\n",
    "bowl_performance_df = bowl_performance_df[bowl_performance_df.TeamCode.isin(['MI', 'DC', 'RR', 'CSK'])]\n",
    "bat_performance_df = bat_performance_df[bat_performance_df.TeamCode.isin(['MI', 'DC', 'RR', 'CSK'])]\n",
    "print(bat_performance_df.shape, bowl_performance_df.shape)"
   ]
  },
  {
   "cell_type": "code",
   "execution_count": 421,
   "id": "873eb2b5-03b4-40c5-8ae6-1599bbe76f2a",
   "metadata": {},
   "outputs": [
    {
     "data": {
      "text/plain": [
       "Index(['StrikerName', 'PlayerId', 'Matches', 'PlayerDOB', 'RightHandedBat',\n",
       "       'Nationality', 'TCompetitionID', 'TStrikerID', 'TTeamID', 'TeamCode',\n",
       "       'TeamName', 'CompetitionID', 'TeamID', 'StrikerID', 'Innings_Bat',\n",
       "       'Extras', 'TotalRuns', 'Balls', 'Dotballs', 'StrikeRate_Bat',\n",
       "       'DBPercent', 'DBFreq', 'BdryFreq', 'BdryPercent', 'RPSS',\n",
       "       'ScoringBalls', 'Ones_Bat', 'Twos_Bat', 'Threes_Bat', 'Fours_Bat',\n",
       "       'Sixes_Bat', 'Outs', 'NotOuts', 'BattingAveragesss', 'FiftyPlusRuns',\n",
       "       'Centuries', 'DoubleCenturies', 'HighestScore', 'BattingAverage',\n",
       "       'Catches', 'Stumpings', 'ClientPlayerID', 'PlayerKey'],\n",
       "      dtype='object')"
      ]
     },
     "execution_count": 421,
     "metadata": {},
     "output_type": "execute_result"
    }
   ],
   "source": [
    "bat_performance_df.columns"
   ]
  },
  {
   "cell_type": "code",
   "execution_count": 409,
   "id": "1a5360de-a1e3-4c49-8965-29f10b732c05",
   "metadata": {},
   "outputs": [],
   "source": [
    "# Remove spaces from player names in both DataFrames\n",
    "role_df[\"PlayerKey\"] = role_df[\"Player_Name\"].str.replace(\" \", \"\").str.lower()\n",
    "bat_performance_df[\"PlayerKey\"] = bat_performance_df[\"StrikerName\"].str.replace(\" \", \"\").str.lower()\n",
    "bowl_performance_df[\"PlayerKey\"] = bowl_performance_df[\"BowlerName\"].str.replace(\" \", \"\").str.lower()"
   ]
  },
  {
   "cell_type": "code",
   "execution_count": 410,
   "id": "aab5c2b2-7100-47ca-8be9-a8af17901b58",
   "metadata": {},
   "outputs": [
    {
     "name": "stdout",
     "output_type": "stream",
     "text": [
      "(45, 39)\n"
     ]
    },
    {
     "data": {
      "text/plain": [
       "Index(['Id', 'Player_Name', 'Team', 'Credit_Point', 'Role', 'Speciality',\n",
       "       'PlayerKey', 'StrikerName', 'Matches', 'RightHandedBat', 'Nationality',\n",
       "       'TeamCode', 'Innings_Bat', 'Extras', 'TotalRuns', 'Balls', 'Dotballs',\n",
       "       'StrikeRate_Bat', 'DBPercent', 'DBFreq', 'BdryFreq', 'BdryPercent',\n",
       "       'RPSS', 'ScoringBalls', 'Ones_Bat', 'Twos_Bat', 'Threes_Bat',\n",
       "       'Fours_Bat', 'Sixes_Bat', 'Outs', 'NotOuts', 'BattingAveragesss',\n",
       "       'FiftyPlusRuns', 'Centuries', 'DoubleCenturies', 'HighestScore',\n",
       "       'BattingAverage', 'Catches', 'Stumpings'],\n",
       "      dtype='object')"
      ]
     },
     "execution_count": 410,
     "metadata": {},
     "output_type": "execute_result"
    }
   ],
   "source": [
    "# Merge on the normalized keys using a left join to keep all credit_list.csv records\n",
    "merged_bat_df = pd.merge(role_df, bat_performance_df, on=\"PlayerKey\", how=\"left\")\n",
    "merged_bat_df.drop(columns=['PlayerId', 'PlayerDOB', 'TCompetitionID', 'TStrikerID', 'TTeamID', 'TeamName', 'CompetitionID', 'TeamID', 'StrikerID', 'ClientPlayerID'], inplace=True)\n",
    "merged_bat_df.dropna(subset = [\"StrikerName\"],inplace= True)\n",
    "\n",
    "# merged_bat_df = merged_bat_df.add_suffix('_bat')\n",
    "# merged_bat_df.rename(columns = {'PlayerKey_bat': 'PlayerKey'}, inplace=True)\n",
    "\n",
    "print(merged_bat_df.shape)\n",
    "merged_bat_df.columns"
   ]
  },
  {
   "cell_type": "code",
   "execution_count": 411,
   "id": "840f8a32-97f8-4d0c-874e-336cbb815969",
   "metadata": {},
   "outputs": [
    {
     "data": {
      "text/plain": [
       "(45, 35)"
      ]
     },
     "execution_count": 411,
     "metadata": {},
     "output_type": "execute_result"
    }
   ],
   "source": [
    "bat_unique = [\n",
    "    'PlayerKey', 'StrikerName', 'Nationality', 'TeamCode', 'Extras', 'TotalRuns', 'Balls',\n",
    "    'Dotballs', 'DBPercent', 'DBFreq', 'BdryFreq', 'BdryPercent', 'RPSS',\n",
    "    'ScoringBalls', 'Outs', 'NotOuts', 'BattingAveragesss', 'FiftyPlusRuns',\n",
    "    'Centuries', 'DoubleCenturies', 'HighestScore', 'BattingAverage', 'Catches',\n",
    "    'Stumpings', 'Role', 'Ones_Bat', 'Twos_Bat', 'Threes_Bat', 'Fours_Bat', 'Sixes_Bat', \n",
    "    'Credit_Point', 'Innings_Bat', 'Matches', 'RightHandedBat', 'StrikeRate_Bat'\n",
    "]\n",
    "\n",
    "merged_bat_df = merged_bat_df[bat_unique]\n",
    "merged_bat_df.shape"
   ]
  },
  {
   "cell_type": "code",
   "execution_count": 412,
   "id": "b3d77003-f1ab-44b9-95a3-89dd5559edf4",
   "metadata": {},
   "outputs": [
    {
     "data": {
      "text/plain": [
       "(24, 44)"
      ]
     },
     "execution_count": 412,
     "metadata": {},
     "output_type": "execute_result"
    }
   ],
   "source": [
    "merged_bowl_df = pd.merge(role_df, bowl_performance_df, on=\"PlayerKey\", how=\"left\")\n",
    "\n",
    "# Optionally, drop the key column and rearrange if needed\n",
    "merged_bowl_df.drop(columns=['TeamName' ,'Nationality','TeamCode','TeamID', 'CompetitionID', 'BowlerID', 'ClientPlayerID'], inplace=True)\n",
    "merged_bowl_df.dropna(subset=[\"BowlerName\"],inplace = True)\n",
    "\n",
    "# merged_bowl_df = merged_bat_df.add_suffix('_bowl')\n",
    "# merged_bowl_df.rename(columns = {'PlayerKey_bowl': 'PlayerKey'}, inplace=True)\n",
    "merged_bowl_df.shape"
   ]
  },
  {
   "cell_type": "code",
   "execution_count": 413,
   "id": "acb57edd-a44f-4806-ae3c-a1e575da1dbc",
   "metadata": {
    "scrolled": true
   },
   "outputs": [],
   "source": [
    "ball_unique = [\n",
    "    'PlayerKey', 'BowlerName', 'LegalBallsBowled', 'TotalRunsConceded', 'DotBallsBowled',\n",
    "    'DotBallPercent', 'ScoringBallsBowled', 'BowlingAverage', 'BowlingSR',\n",
    "    'BoundaryPercentage', 'BoundaryFrequency', 'EconomyRate', 'OversBowled',\n",
    "    'Wides', 'NoBalls', 'Byes', 'LegBye', 'Wickets', 'InningsRuns',\n",
    "    'InningsWickets', 'MatchRuns', 'MatchWickets', 'BBIW', 'BBMW', 'Maidens',\n",
    "    'MaidenWickets', 'FourWickets', 'FiveWickets', 'TenWickets', 'Role',\n",
    "    'Ones_Bowl', 'Twos_Bowl', 'Threes_Bowl', 'Fours_Bowl', 'Sixes_Bowl', 'Credit_Point', 'Innings_Bowl', 'Matches', 'RightHandedBat', 'StrikeRate_Bowl'\n",
    "]\n",
    "\n",
    "common_cols = [\n",
    "    'Id', 'Player_Name', 'Team', 'Speciality'\n",
    "]\n",
    "\n",
    "merged_bowl_df = merged_bowl_df[ball_unique + common_cols]"
   ]
  },
  {
   "cell_type": "code",
   "execution_count": 414,
   "id": "181a8527-5655-4a48-9be3-c450c5fe3dec",
   "metadata": {},
   "outputs": [
    {
     "name": "stdout",
     "output_type": "stream",
     "text": [
      "(45, 35)\n",
      "(24, 44)\n"
     ]
    }
   ],
   "source": [
    "print(merged_bat_df.shape)\n",
    "print(merged_bowl_df.shape)"
   ]
  },
  {
   "cell_type": "code",
   "execution_count": 415,
   "id": "51e7f9cd-818a-459c-bdcd-6af20a87d63a",
   "metadata": {},
   "outputs": [
    {
     "data": {
      "text/plain": [
       "(49, 78)"
      ]
     },
     "execution_count": 415,
     "metadata": {},
     "output_type": "execute_result"
    }
   ],
   "source": [
    "final_df= pd.merge(merged_bat_df, merged_bowl_df,on=\"PlayerKey\",how=\"outer\")\n",
    "final_df.shape"
   ]
  },
  {
   "cell_type": "code",
   "execution_count": 416,
   "id": "e17c65ef-a56c-40c3-a81e-89a69aa5fba3",
   "metadata": {},
   "outputs": [
    {
     "data": {
      "text/plain": [
       "Index(['PlayerKey', 'StrikerName', 'Nationality', 'TeamCode', 'Extras',\n",
       "       'TotalRuns', 'Balls', 'Dotballs', 'DBPercent', 'DBFreq', 'BdryFreq',\n",
       "       'BdryPercent', 'RPSS', 'ScoringBalls', 'Outs', 'NotOuts',\n",
       "       'BattingAveragesss', 'FiftyPlusRuns', 'Centuries', 'DoubleCenturies',\n",
       "       'HighestScore', 'BattingAverage', 'Catches', 'Stumpings', 'Role_x',\n",
       "       'Ones_Bat', 'Twos_Bat', 'Threes_Bat', 'Fours_Bat', 'Sixes_Bat',\n",
       "       'Credit_Point_x', 'Innings_Bat', 'Matches_x', 'RightHandedBat_x',\n",
       "       'StrikeRate_Bat', 'BowlerName', 'LegalBallsBowled', 'TotalRunsConceded',\n",
       "       'DotBallsBowled', 'DotBallPercent', 'ScoringBallsBowled',\n",
       "       'BowlingAverage', 'BowlingSR', 'BoundaryPercentage',\n",
       "       'BoundaryFrequency', 'EconomyRate', 'OversBowled', 'Wides', 'NoBalls',\n",
       "       'Byes', 'LegBye', 'Wickets', 'InningsRuns', 'InningsWickets',\n",
       "       'MatchRuns', 'MatchWickets', 'BBIW', 'BBMW', 'Maidens', 'MaidenWickets',\n",
       "       'FourWickets', 'FiveWickets', 'TenWickets', 'Role_y', 'Ones_Bowl',\n",
       "       'Twos_Bowl', 'Threes_Bowl', 'Fours_Bowl', 'Sixes_Bowl',\n",
       "       'Credit_Point_y', 'Innings_Bowl', 'Matches_y', 'RightHandedBat_y',\n",
       "       'StrikeRate_Bowl', 'Id', 'Player_Name', 'Team', 'Speciality'],\n",
       "      dtype='object')"
      ]
     },
     "execution_count": 416,
     "metadata": {},
     "output_type": "execute_result"
    }
   ],
   "source": [
    "final_df.columns"
   ]
  },
  {
   "cell_type": "code",
   "execution_count": 417,
   "id": "dc6b6880-b882-465e-ab9b-e0be27f808cf",
   "metadata": {},
   "outputs": [],
   "source": [
    "# final_df[['PlayerKey', 'StrikeRate_x', 'StrikeRate_y']]"
   ]
  },
  {
   "cell_type": "code",
   "execution_count": 418,
   "id": "384496ad-8a42-40c0-97de-00797a5cef3f",
   "metadata": {},
   "outputs": [
    {
     "name": "stdout",
     "output_type": "stream",
     "text": [
      "['PlayerKey', 'StrikerName', 'Nationality', 'TeamCode', 'Extras', 'TotalRuns', 'Balls', 'Dotballs', 'DBPercent', 'DBFreq', 'BdryFreq', 'BdryPercent', 'RPSS', 'ScoringBalls', 'Outs', 'NotOuts', 'BattingAveragesss', 'FiftyPlusRuns', 'Centuries', 'DoubleCenturies', 'HighestScore', 'BattingAverage', 'Catches', 'Stumpings', 'Role', 'Ones_Bat', 'Twos_Bat', 'Threes_Bat', 'Fours_Bat', 'Sixes_Bat', 'Credit_Point', 'Innings_Bat', 'Matches', 'RightHandedBat', 'StrikeRate_Bat', 'BowlerName', 'LegalBallsBowled', 'TotalRunsConceded', 'DotBallsBowled', 'DotBallPercent', 'ScoringBallsBowled', 'BowlingAverage', 'BowlingSR', 'BoundaryPercentage', 'BoundaryFrequency', 'EconomyRate', 'OversBowled', 'Wides', 'NoBalls', 'Byes', 'LegBye', 'Wickets', 'InningsRuns', 'InningsWickets', 'MatchRuns', 'MatchWickets', 'BBIW', 'BBMW', 'Maidens', 'MaidenWickets', 'FourWickets', 'FiveWickets', 'TenWickets', 'Ones_Bowl', 'Twos_Bowl', 'Threes_Bowl', 'Fours_Bowl', 'Sixes_Bowl', 'Innings_Bowl', 'StrikeRate_Bowl', 'Id', 'Player_Name', 'Team', 'Speciality']\n"
     ]
    },
    {
     "data": {
      "text/plain": [
       "(49, 74)"
      ]
     },
     "execution_count": 418,
     "metadata": {},
     "output_type": "execute_result"
    }
   ],
   "source": [
    "# Remove substring and duplicates (preserving order)\n",
    "seen = set()\n",
    "clean_col_name = []\n",
    "for col in final_df.columns:\n",
    "    clean_col = col.replace('_x', '')\n",
    "    clean_col = clean_col.replace('_y', '')\n",
    "    if clean_col not in seen:\n",
    "        clean_col_name.append(clean_col)\n",
    "        seen.add(clean_col)\n",
    "\n",
    "print(clean_col_name)\n",
    "for col in clean_col_name:\n",
    "    # print(col)\n",
    "    if col + '_x' in final_df.columns:\n",
    "        final_df[col] = final_df[col + '_x'].combine_first(final_df[col + '_y'])\n",
    "        final_df.drop(columns = [col + '_x', col + '_y'], inplace=True)\n",
    "\n",
    "final_df.shape"
   ]
  },
  {
   "cell_type": "code",
   "execution_count": 419,
   "id": "86f7b962-748c-40f4-aac0-b2669d055dbc",
   "metadata": {},
   "outputs": [],
   "source": [
    "final_df['TeamCode'] = final_df['TeamCode'].combine_first(final_df['Team'])\n",
    "final_df.drop(columns = ['StrikerName', 'BowlerName', 'Team', 'Nationality', 'Player_Name', 'Id'], inplace=True)"
   ]
  },
  {
   "cell_type": "code",
   "execution_count": null,
   "id": "5bcc21bc-045e-48a2-8548-ba4f2fe1a28b",
   "metadata": {},
   "outputs": [],
   "source": [
    "final_df.to_csv(\"final_data.csv\", index=False)"
   ]
  },
  {
   "cell_type": "code",
   "execution_count": 420,
   "id": "3b0f78ac-3250-48f8-a2fc-cf7122da4c18",
   "metadata": {},
   "outputs": [
    {
     "data": {
      "text/html": [
       "<div>\n",
       "<style scoped>\n",
       "    .dataframe tbody tr th:only-of-type {\n",
       "        vertical-align: middle;\n",
       "    }\n",
       "\n",
       "    .dataframe tbody tr th {\n",
       "        vertical-align: top;\n",
       "    }\n",
       "\n",
       "    .dataframe thead th {\n",
       "        text-align: right;\n",
       "    }\n",
       "</style>\n",
       "<table border=\"1\" class=\"dataframe\">\n",
       "  <thead>\n",
       "    <tr style=\"text-align: right;\">\n",
       "      <th></th>\n",
       "      <th>PlayerKey</th>\n",
       "      <th>StrikeRate_Bat</th>\n",
       "      <th>StrikeRate_Bowl</th>\n",
       "    </tr>\n",
       "  </thead>\n",
       "  <tbody>\n",
       "    <tr>\n",
       "      <th>0</th>\n",
       "      <td>abishekporel</td>\n",
       "      <td>149.71</td>\n",
       "      <td>NaN</td>\n",
       "    </tr>\n",
       "    <tr>\n",
       "      <th>1</th>\n",
       "      <td>akashmadhwal</td>\n",
       "      <td>44.44</td>\n",
       "      <td>NaN</td>\n",
       "    </tr>\n",
       "    <tr>\n",
       "      <th>2</th>\n",
       "      <td>anshulkamboj</td>\n",
       "      <td>100.00</td>\n",
       "      <td>24.00</td>\n",
       "    </tr>\n",
       "    <tr>\n",
       "      <th>3</th>\n",
       "      <td>ashutoshsharma</td>\n",
       "      <td>167.56</td>\n",
       "      <td>NaN</td>\n",
       "    </tr>\n",
       "    <tr>\n",
       "      <th>4</th>\n",
       "      <td>ashwanikumar</td>\n",
       "      <td>NaN</td>\n",
       "      <td>9.00</td>\n",
       "    </tr>\n",
       "    <tr>\n",
       "      <th>5</th>\n",
       "      <td>axarpatel</td>\n",
       "      <td>157.61</td>\n",
       "      <td>37.20</td>\n",
       "    </tr>\n",
       "    <tr>\n",
       "      <th>6</th>\n",
       "      <td>ayushmhatre</td>\n",
       "      <td>181.11</td>\n",
       "      <td>NaN</td>\n",
       "    </tr>\n",
       "    <tr>\n",
       "      <th>7</th>\n",
       "      <td>corbinbosch</td>\n",
       "      <td>146.87</td>\n",
       "      <td>42.00</td>\n",
       "    </tr>\n",
       "    <tr>\n",
       "      <th>8</th>\n",
       "      <td>deepakchahar</td>\n",
       "      <td>148.00</td>\n",
       "      <td>21.00</td>\n",
       "    </tr>\n",
       "    <tr>\n",
       "      <th>9</th>\n",
       "      <td>devonconway</td>\n",
       "      <td>123.68</td>\n",
       "      <td>NaN</td>\n",
       "    </tr>\n",
       "    <tr>\n",
       "      <th>10</th>\n",
       "      <td>dewaldbrevis</td>\n",
       "      <td>163.63</td>\n",
       "      <td>NaN</td>\n",
       "    </tr>\n",
       "    <tr>\n",
       "      <th>11</th>\n",
       "      <td>dhruvjurel</td>\n",
       "      <td>146.47</td>\n",
       "      <td>NaN</td>\n",
       "    </tr>\n",
       "    <tr>\n",
       "      <th>12</th>\n",
       "      <td>dushmanthachameera</td>\n",
       "      <td>50.00</td>\n",
       "      <td>18.00</td>\n",
       "    </tr>\n",
       "    <tr>\n",
       "      <th>13</th>\n",
       "      <td>fafduplessis</td>\n",
       "      <td>128.24</td>\n",
       "      <td>NaN</td>\n",
       "    </tr>\n",
       "    <tr>\n",
       "      <th>14</th>\n",
       "      <td>fazalhaqfarooqi</td>\n",
       "      <td>100.00</td>\n",
       "      <td>NaN</td>\n",
       "    </tr>\n",
       "    <tr>\n",
       "      <th>15</th>\n",
       "      <td>hardikpandya</td>\n",
       "      <td>168.08</td>\n",
       "      <td>12.92</td>\n",
       "    </tr>\n",
       "    <tr>\n",
       "      <th>16</th>\n",
       "      <td>jaspritbumrah</td>\n",
       "      <td>NaN</td>\n",
       "      <td>14.76</td>\n",
       "    </tr>\n",
       "    <tr>\n",
       "      <th>17</th>\n",
       "      <td>karnsharma</td>\n",
       "      <td>100.00</td>\n",
       "      <td>12.00</td>\n",
       "    </tr>\n",
       "    <tr>\n",
       "      <th>18</th>\n",
       "      <td>khaleelahmed</td>\n",
       "      <td>50.00</td>\n",
       "      <td>17.42</td>\n",
       "    </tr>\n",
       "    <tr>\n",
       "      <th>19</th>\n",
       "      <td>klrahul</td>\n",
       "      <td>142.16</td>\n",
       "      <td>NaN</td>\n",
       "    </tr>\n",
       "    <tr>\n",
       "      <th>20</th>\n",
       "      <td>kuldeepyadav</td>\n",
       "      <td>137.50</td>\n",
       "      <td>19.50</td>\n",
       "    </tr>\n",
       "    <tr>\n",
       "      <th>21</th>\n",
       "      <td>maheeshtheekshana</td>\n",
       "      <td>37.03</td>\n",
       "      <td>22.90</td>\n",
       "    </tr>\n",
       "    <tr>\n",
       "      <th>22</th>\n",
       "      <td>matheeshapathirana</td>\n",
       "      <td>NaN</td>\n",
       "      <td>18.33</td>\n",
       "    </tr>\n",
       "    <tr>\n",
       "      <th>23</th>\n",
       "      <td>msdhoni</td>\n",
       "      <td>140.62</td>\n",
       "      <td>NaN</td>\n",
       "    </tr>\n",
       "    <tr>\n",
       "      <th>24</th>\n",
       "      <td>mukeshkumar</td>\n",
       "      <td>NaN</td>\n",
       "      <td>21.00</td>\n",
       "    </tr>\n",
       "    <tr>\n",
       "      <th>25</th>\n",
       "      <td>namandhir</td>\n",
       "      <td>172.34</td>\n",
       "      <td>NaN</td>\n",
       "    </tr>\n",
       "    <tr>\n",
       "      <th>26</th>\n",
       "      <td>noorahmad</td>\n",
       "      <td>31.25</td>\n",
       "      <td>12.90</td>\n",
       "    </tr>\n",
       "    <tr>\n",
       "      <th>27</th>\n",
       "      <td>ntilakvarma</td>\n",
       "      <td>138.98</td>\n",
       "      <td>NaN</td>\n",
       "    </tr>\n",
       "    <tr>\n",
       "      <th>28</th>\n",
       "      <td>ravichandranashwin</td>\n",
       "      <td>90.90</td>\n",
       "      <td>32.40</td>\n",
       "    </tr>\n",
       "    <tr>\n",
       "      <th>29</th>\n",
       "      <td>ravindrajadeja</td>\n",
       "      <td>140.20</td>\n",
       "      <td>24.62</td>\n",
       "    </tr>\n",
       "    <tr>\n",
       "      <th>30</th>\n",
       "      <td>riyanparag</td>\n",
       "      <td>170.58</td>\n",
       "      <td>45.00</td>\n",
       "    </tr>\n",
       "    <tr>\n",
       "      <th>31</th>\n",
       "      <td>rohitsharma</td>\n",
       "      <td>152.28</td>\n",
       "      <td>NaN</td>\n",
       "    </tr>\n",
       "    <tr>\n",
       "      <th>32</th>\n",
       "      <td>ryanrickelton</td>\n",
       "      <td>153.42</td>\n",
       "      <td>NaN</td>\n",
       "    </tr>\n",
       "    <tr>\n",
       "      <th>33</th>\n",
       "      <td>samcurran</td>\n",
       "      <td>135.71</td>\n",
       "      <td>72.00</td>\n",
       "    </tr>\n",
       "    <tr>\n",
       "      <th>34</th>\n",
       "      <td>sameerrizvi</td>\n",
       "      <td>126.31</td>\n",
       "      <td>NaN</td>\n",
       "    </tr>\n",
       "    <tr>\n",
       "      <th>35</th>\n",
       "      <td>sanjusamson</td>\n",
       "      <td>143.58</td>\n",
       "      <td>NaN</td>\n",
       "    </tr>\n",
       "    <tr>\n",
       "      <th>36</th>\n",
       "      <td>shimronhetmyer</td>\n",
       "      <td>146.93</td>\n",
       "      <td>NaN</td>\n",
       "    </tr>\n",
       "    <tr>\n",
       "      <th>37</th>\n",
       "      <td>shivamdube</td>\n",
       "      <td>130.86</td>\n",
       "      <td>NaN</td>\n",
       "    </tr>\n",
       "    <tr>\n",
       "      <th>38</th>\n",
       "      <td>shubhamdubey</td>\n",
       "      <td>167.79</td>\n",
       "      <td>NaN</td>\n",
       "    </tr>\n",
       "    <tr>\n",
       "      <th>39</th>\n",
       "      <td>suryakumaryadav</td>\n",
       "      <td>170.56</td>\n",
       "      <td>NaN</td>\n",
       "    </tr>\n",
       "    <tr>\n",
       "      <th>40</th>\n",
       "      <td>trentboult</td>\n",
       "      <td>66.66</td>\n",
       "      <td>14.05</td>\n",
       "    </tr>\n",
       "    <tr>\n",
       "      <th>41</th>\n",
       "      <td>tristanstubbs</td>\n",
       "      <td>151.46</td>\n",
       "      <td>NaN</td>\n",
       "    </tr>\n",
       "    <tr>\n",
       "      <th>42</th>\n",
       "      <td>tushardeshpande</td>\n",
       "      <td>87.50</td>\n",
       "      <td>24.00</td>\n",
       "    </tr>\n",
       "    <tr>\n",
       "      <th>43</th>\n",
       "      <td>urvilpatel</td>\n",
       "      <td>281.81</td>\n",
       "      <td>NaN</td>\n",
       "    </tr>\n",
       "    <tr>\n",
       "      <th>44</th>\n",
       "      <td>vaibhavsuryavanshi</td>\n",
       "      <td>209.45</td>\n",
       "      <td>NaN</td>\n",
       "    </tr>\n",
       "    <tr>\n",
       "      <th>45</th>\n",
       "      <td>viprajnigam</td>\n",
       "      <td>179.41</td>\n",
       "      <td>18.00</td>\n",
       "    </tr>\n",
       "    <tr>\n",
       "      <th>46</th>\n",
       "      <td>waninduhasaranga</td>\n",
       "      <td>64.28</td>\n",
       "      <td>20.40</td>\n",
       "    </tr>\n",
       "    <tr>\n",
       "      <th>47</th>\n",
       "      <td>willjacks</td>\n",
       "      <td>129.13</td>\n",
       "      <td>14.40</td>\n",
       "    </tr>\n",
       "    <tr>\n",
       "      <th>48</th>\n",
       "      <td>yashasvijaiswal</td>\n",
       "      <td>154.57</td>\n",
       "      <td>NaN</td>\n",
       "    </tr>\n",
       "  </tbody>\n",
       "</table>\n",
       "</div>"
      ],
      "text/plain": [
       "             PlayerKey  StrikeRate_Bat  StrikeRate_Bowl\n",
       "0         abishekporel          149.71              NaN\n",
       "1         akashmadhwal           44.44              NaN\n",
       "2         anshulkamboj          100.00            24.00\n",
       "3       ashutoshsharma          167.56              NaN\n",
       "4         ashwanikumar             NaN             9.00\n",
       "5            axarpatel          157.61            37.20\n",
       "6          ayushmhatre          181.11              NaN\n",
       "7          corbinbosch          146.87            42.00\n",
       "8         deepakchahar          148.00            21.00\n",
       "9          devonconway          123.68              NaN\n",
       "10        dewaldbrevis          163.63              NaN\n",
       "11          dhruvjurel          146.47              NaN\n",
       "12  dushmanthachameera           50.00            18.00\n",
       "13        fafduplessis          128.24              NaN\n",
       "14     fazalhaqfarooqi          100.00              NaN\n",
       "15        hardikpandya          168.08            12.92\n",
       "16       jaspritbumrah             NaN            14.76\n",
       "17          karnsharma          100.00            12.00\n",
       "18        khaleelahmed           50.00            17.42\n",
       "19             klrahul          142.16              NaN\n",
       "20        kuldeepyadav          137.50            19.50\n",
       "21   maheeshtheekshana           37.03            22.90\n",
       "22  matheeshapathirana             NaN            18.33\n",
       "23             msdhoni          140.62              NaN\n",
       "24         mukeshkumar             NaN            21.00\n",
       "25           namandhir          172.34              NaN\n",
       "26           noorahmad           31.25            12.90\n",
       "27         ntilakvarma          138.98              NaN\n",
       "28  ravichandranashwin           90.90            32.40\n",
       "29      ravindrajadeja          140.20            24.62\n",
       "30          riyanparag          170.58            45.00\n",
       "31         rohitsharma          152.28              NaN\n",
       "32       ryanrickelton          153.42              NaN\n",
       "33           samcurran          135.71            72.00\n",
       "34         sameerrizvi          126.31              NaN\n",
       "35         sanjusamson          143.58              NaN\n",
       "36      shimronhetmyer          146.93              NaN\n",
       "37          shivamdube          130.86              NaN\n",
       "38        shubhamdubey          167.79              NaN\n",
       "39     suryakumaryadav          170.56              NaN\n",
       "40          trentboult           66.66            14.05\n",
       "41       tristanstubbs          151.46              NaN\n",
       "42     tushardeshpande           87.50            24.00\n",
       "43          urvilpatel          281.81              NaN\n",
       "44  vaibhavsuryavanshi          209.45              NaN\n",
       "45         viprajnigam          179.41            18.00\n",
       "46    waninduhasaranga           64.28            20.40\n",
       "47           willjacks          129.13            14.40\n",
       "48     yashasvijaiswal          154.57              NaN"
      ]
     },
     "execution_count": 420,
     "metadata": {},
     "output_type": "execute_result"
    }
   ],
   "source": [
    "final_df[['PlayerKey', 'StrikeRate_Bat', 'StrikeRate_Bowl']]"
   ]
  },
  {
   "cell_type": "code",
   "execution_count": 194,
   "id": "9c2567c9-09b8-4941-b30c-5e4ada3dcbe7",
   "metadata": {},
   "outputs": [
    {
     "data": {
      "text/plain": [
       "(49, 67)"
      ]
     },
     "execution_count": 194,
     "metadata": {},
     "output_type": "execute_result"
    }
   ],
   "source": [
    "final_df.shape"
   ]
  },
  {
   "cell_type": "code",
   "execution_count": 175,
   "id": "c9ec2095-6fc4-4709-9d78-1d07fd22800c",
   "metadata": {},
   "outputs": [
    {
     "data": {
      "text/plain": [
       "{'ashwanikumar',\n",
       " 'jaspritbumrah',\n",
       " 'mukeshkumar',\n",
       " 'mustafizurrahman',\n",
       " 'tnatarajan'}"
      ]
     },
     "execution_count": 175,
     "metadata": {},
     "output_type": "execute_result"
    }
   ],
   "source": [
    "set(role_df[role_df['Team'].isin(['MI', 'DC'])]['PlayerKey']) - set(final_df[final_df['TeamCode'].isin(['MI', 'DC'])]['PlayerKey'])"
   ]
  },
  {
   "cell_type": "code",
   "execution_count": null,
   "id": "9a2f1294-3a13-4374-bece-cf4e89caa06a",
   "metadata": {},
   "outputs": [],
   "source": []
  }
 ],
 "metadata": {
  "kernelspec": {
   "display_name": "Python 3 (ipykernel)",
   "language": "python",
   "name": "python3"
  },
  "language_info": {
   "codemirror_mode": {
    "name": "ipython",
    "version": 3
   },
   "file_extension": ".py",
   "mimetype": "text/x-python",
   "name": "python",
   "nbconvert_exporter": "python",
   "pygments_lexer": "ipython3",
   "version": "3.12.4"
  },
  "widgets": {
   "application/vnd.jupyter.widget-state+json": {
    "state": {},
    "version_major": 2,
    "version_minor": 0
   }
  }
 },
 "nbformat": 4,
 "nbformat_minor": 5
}
