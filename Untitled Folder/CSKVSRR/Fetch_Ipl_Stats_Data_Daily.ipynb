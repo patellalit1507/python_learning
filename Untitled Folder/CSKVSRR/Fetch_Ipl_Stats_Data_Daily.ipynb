{
 "cells": [
  {
   "cell_type": "code",
   "execution_count": 36,
   "id": "0c9bb888-27b1-4d52-beee-23e858125ff2",
   "metadata": {},
   "outputs": [],
   "source": [
    "import json\n",
    "import pandas as pd\n",
    "import re\n",
    "import time\n",
    "import requests"
   ]
  },
  {
   "cell_type": "code",
   "execution_count": 42,
   "id": "1bd27585-20da-4d7e-a339-de408d3ffe07",
   "metadata": {},
   "outputs": [
    {
     "name": "stdout",
     "output_type": "stream",
     "text": [
      "https://ipl-stats-sports-mechanic.s3.ap-south-1.amazonaws.com/ipl/feeds/stats/203-toprunsscorers.js?callback=ontoprunsscorers&_=1747861113383\n",
      "https://ipl-stats-sports-mechanic.s3.ap-south-1.amazonaws.com/ipl/feeds/stats/203-mostwickets.js?callback=ontoprunsscorers&_=1747861113383\n"
     ]
    }
   ],
   "source": [
    "# Base URL without the dynamic timestamp part\n",
    "base_batsman_url = \"https://ipl-stats-sports-mechanic.s3.ap-south-1.amazonaws.com/ipl/feeds/stats/203-toprunsscorers.js\"\n",
    "base_bowler_url = \"https://ipl-stats-sports-mechanic.s3.ap-south-1.amazonaws.com/ipl/feeds/stats/203-mostwickets.js\"\n",
    "callback_param = \"ontoprunsscorers\"\n",
    "\n",
    "# Generate current timestamp in milliseconds\n",
    "timestamp_ms = int(time.time() * 1000)\n",
    "\n",
    "# Construct the full URL with dynamic timestamp\n",
    "full_batsman_url = f\"{base_batsman_url}?callback={callback_param}&_={timestamp_ms}\"\n",
    "full_bowler_url = f\"{base_bowler_url}?callback={callback_param}&_={timestamp_ms}\"\n",
    "\n",
    "print(full_batsman_url)\n",
    "print(full_bowler_url)"
   ]
  },
  {
   "cell_type": "code",
   "execution_count": 43,
   "id": "268af104-7514-4601-8664-0eab3c576abb",
   "metadata": {},
   "outputs": [],
   "source": [
    "batsman_response = requests.get(full_batsman_url)\n",
    "if batsman_response.status_code == 200:\n",
    "    batsman_data = batsman_response.text  # Parse JSON response\n",
    "else:\n",
    "    print(f\"Request failed with status code {batsman_response.status_code}\")\n",
    "    # print(batsman_response.text)"
   ]
  },
  {
   "cell_type": "code",
   "execution_count": 44,
   "id": "cab6ba30-9703-439a-89e4-7fc85f70d7e8",
   "metadata": {},
   "outputs": [],
   "source": [
    "batsman_json = json.loads(re.search(r'ontoprunsscorers\\((\\{.*\\})\\)', batsman_data).group(1))\n",
    "batsman_df = pd.DataFrame(batsman_json[\"toprunsscorers\"])\n",
    "\n",
    "batsman_df.drop(columns = ['PlayerId', 'PlayerDOB', 'Nationality', 'TCompetitionID', 'TStrikerID', 'TTeamID', \n",
    "                           'TeamName', 'CompetitionID', 'TeamID', 'StrikerID', 'ClientPlayerID', 'Extras', 'BdryPercent', \n",
    "                           'DBPercent', 'RPSS', 'ScoringBalls', 'Ones', 'Twos', 'Threes', 'NotOuts', 'BattingAveragesss', 'DoubleCenturies'], inplace=True)\n",
    "\n",
    "batsman_df = batsman_df.rename(\n",
    "    columns = {\n",
    "        'Innings': 'Innings_Bat',\n",
    "        'TotalRuns': 'TotalRuns_Bat',\n",
    "        'Balls': 'Balls_played_Bat',\n",
    "        'Dotballs': 'Dotballs_played_Bat',\n",
    "        'StrikeRate': 'StrikeRate_Bat',\n",
    "        'DBFreq': 'Dotball_freq_Bat',\n",
    "        'BdryFreq': 'Boundry_freq_Bat',\n",
    "        'Fours': 'Fours_Bat',\n",
    "        'Sixes': 'Sixes_Bat',\n",
    "        'Outs': 'Outs_Bat',\n",
    "        'FiftyPlusRuns': 'FiftyPlusRuns_Bat',\n",
    "        'Centuries': 'Centuries_Bat',\n",
    "        'HighestScore': 'HighestScore_Bat'\n",
    "    })"
   ]
  },
  {
   "cell_type": "code",
   "execution_count": 45,
   "id": "3b3b4c1d-ea94-4b9f-b095-5420e57592de",
   "metadata": {},
   "outputs": [
    {
     "data": {
      "text/plain": [
       "Index(['StrikerName', 'Matches', 'RightHandedBat', 'TeamCode', 'Innings_Bat',\n",
       "       'TotalRuns_Bat', 'Balls_played_Bat', 'Dotballs_played_Bat',\n",
       "       'StrikeRate_Bat', 'Dotball_freq_Bat', 'Boundry_freq_Bat', 'Fours_Bat',\n",
       "       'Sixes_Bat', 'Outs_Bat', 'FiftyPlusRuns_Bat', 'Centuries_Bat',\n",
       "       'HighestScore_Bat', 'BattingAverage', 'Catches', 'Stumpings'],\n",
       "      dtype='object')"
      ]
     },
     "execution_count": 45,
     "metadata": {},
     "output_type": "execute_result"
    }
   ],
   "source": [
    "batsman_df.columns"
   ]
  },
  {
   "cell_type": "code",
   "execution_count": 46,
   "id": "5c0484ae-0eed-44d6-970e-2ed0e4cb1edb",
   "metadata": {},
   "outputs": [],
   "source": [
    "batsman_df.to_csv(\"batsman_performance.csv\", index=False)"
   ]
  },
  {
   "cell_type": "code",
   "execution_count": 30,
   "id": "dc0914dc-c345-4556-910d-b79000c47c75",
   "metadata": {},
   "outputs": [],
   "source": [
    "bowler_response = requests.get(full_bowler_url)\n",
    "if bowler_response.status_code == 200:\n",
    "    bowler_data = bowler_response.text  # Parse JSON response\n",
    "else:\n",
    "    print(f\"Request failed with status code {bowler_response.status_code}\")\n",
    "    # print(batsman_response.text)"
   ]
  },
  {
   "cell_type": "code",
   "execution_count": 31,
   "id": "05583e84-0420-4002-8c8f-64bb3e2df423",
   "metadata": {},
   "outputs": [],
   "source": [
    "bowler_json = json.loads(re.search(r'onmostwickets\\((\\{.*\\})\\)', bowler_data).group(1))\n",
    "bowler_df = pd.DataFrame(bowler_json[\"mostwickets\"])\n",
    "bowler_df.to_csv(\"bawler_performance.csv\", index=False)"
   ]
  },
  {
   "cell_type": "code",
   "execution_count": null,
   "id": "c7b61d2f-7d5d-4884-a3f4-3cf26138466b",
   "metadata": {},
   "outputs": [],
   "source": []
  }
 ],
 "metadata": {
  "kernelspec": {
   "display_name": "Python 3 (ipykernel)",
   "language": "python",
   "name": "python3"
  },
  "language_info": {
   "codemirror_mode": {
    "name": "ipython",
    "version": 3
   },
   "file_extension": ".py",
   "mimetype": "text/x-python",
   "name": "python",
   "nbconvert_exporter": "python",
   "pygments_lexer": "ipython3",
   "version": "3.12.4"
  },
  "widgets": {
   "application/vnd.jupyter.widget-state+json": {
    "state": {},
    "version_major": 2,
    "version_minor": 0
   }
  }
 },
 "nbformat": 4,
 "nbformat_minor": 5
}
