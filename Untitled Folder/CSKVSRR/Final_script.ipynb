{
 "cells": [
  {
   "cell_type": "code",
   "execution_count": 683,
   "id": "d6c12b3d-2300-4b62-bb96-6ab2177c222d",
   "metadata": {},
   "outputs": [],
   "source": [
    "import json\n",
    "import pandas as pd\n",
    "import re\n",
    "import time\n",
    "import requests\n",
    "import numpy as np"
   ]
  },
  {
   "cell_type": "code",
   "execution_count": 684,
   "id": "f415d250-3cdd-400c-b41e-09d647229985",
   "metadata": {},
   "outputs": [
    {
     "name": "stdout",
     "output_type": "stream",
     "text": [
      "*********** creating batsman url *************\n",
      "*********** creating bowler url **************\n",
      "https://ipl-stats-sports-mechanic.s3.ap-south-1.amazonaws.com/ipl/feeds/stats/203-toprunsscorers.js?callback=ontoprunsscorers&_=1748093401801\n",
      "https://ipl-stats-sports-mechanic.s3.ap-south-1.amazonaws.com/ipl/feeds/stats/203-mostwickets.js?callback=ontoprunsscorers&_=1748093401801\n",
      "********** started fetching data for batsman ************* \n",
      "********** fetched successfully **********\n",
      "extracting data into json\n",
      "********** dropping irrelevant columns **********\n",
      "**** writing data to batsman_performance_file ****\n",
      "********** started fetching data for bowler ************* \n",
      "********** fetched successfully **********\n",
      "extracting bowler data into json\n",
      " dropping irrelevant columns \n",
      " writing data to batsman_performance_file\n"
     ]
    }
   ],
   "source": [
    "# Base URL without the dynamic timestamp part\n",
    "base_batsman_url = \"https://ipl-stats-sports-mechanic.s3.ap-south-1.amazonaws.com/ipl/feeds/stats/203-toprunsscorers.js\"\n",
    "base_bowler_url = \"https://ipl-stats-sports-mechanic.s3.ap-south-1.amazonaws.com/ipl/feeds/stats/203-mostwickets.js\"\n",
    "callback_param = \"ontoprunsscorers\"\n",
    "\n",
    "# Generate current timestamp in milliseconds\n",
    "timestamp_ms = int(time.time() * 1000)\n",
    "print(\"*********** creating batsman url *************\")\n",
    "# Construct the full URL with dynamic timestamp\n",
    "full_batsman_url = f\"{base_batsman_url}?callback={callback_param}&_={timestamp_ms}\"\n",
    "print(\"*********** creating bowler url **************\")\n",
    "full_bowler_url = f\"{base_bowler_url}?callback={callback_param}&_={timestamp_ms}\"\n",
    "\n",
    "print(full_batsman_url)\n",
    "print(full_bowler_url)\n",
    "\n",
    "print(\"********** started fetching data for batsman ************* \")\n",
    "batsman_response = requests.get(full_batsman_url)\n",
    "if batsman_response.status_code == 200:\n",
    "    batsman_data = batsman_response.text  # Parse JSON response\n",
    "    print(\"********** fetched successfully **********\")\n",
    "else:\n",
    "    print(f\"Request failed with status code {batsman_response.status_code}\")\n",
    "    # print(batsman_response.text)\n",
    "\n",
    "print(\"extracting data into json\")\n",
    "batsman_json = json.loads(re.search(r'ontoprunsscorers\\((\\{.*\\})\\)', batsman_data).group(1))\n",
    "batsman_df = pd.DataFrame(batsman_json[\"toprunsscorers\"])\n",
    "\n",
    "print(\"********** dropping irrelevant columns **********\")\n",
    "batsman_df.drop(columns = ['PlayerId','PlayerDOB', 'Nationality', 'TCompetitionID', 'TStrikerID', 'TTeamID', \n",
    "                           'TeamName', 'CompetitionID', 'TeamID', 'StrikerID', 'ClientPlayerID', 'Extras', 'DBFreq', 'BdryFreq',\n",
    "                           'RPSS', 'ScoringBalls', 'Ones', 'Twos', 'Threes', 'NotOuts', 'BattingAveragesss', 'Dotballs', \n",
    "                           'DoubleCenturies', 'HighestScore', 'Centuries', 'Fours', 'Sixes', \"RightHandedBat\",], inplace=True)\n",
    "\n",
    "cols_to_rename_bat = ['Innings', 'TotalRuns', 'StrikeRate', 'Balls',\n",
    "                      'Outs', 'FiftyPlusRuns', 'BdryPercent', 'DBPercent']\n",
    "batsman_df.rename(columns={col: f\"{col}_Bat\" for col in cols_to_rename_bat}, inplace=True)\n",
    "\n",
    "print(\"**** writing data to batsman_performance_file ****\")\n",
    "batsman_df.to_csv(\"batsman_performance.csv\", index=False)\n",
    "\n",
    "\n",
    "print(\"********** started fetching data for bowler ************* \")\n",
    "bowler_response = requests.get(full_bowler_url)\n",
    "if bowler_response.status_code == 200:\n",
    "    bowler_data = bowler_response.text  # Parse JSON response\n",
    "    print(\"********** fetched successfully **********\")\n",
    "    \n",
    "else:\n",
    "    print(f\"Request failed with status code {bowler_response.status_code}\")\n",
    "    # print(batsman_response.text)\n",
    "\n",
    "print(\"extracting bowler data into json\")\n",
    "bowler_json = json.loads(re.search(r'onmostwickets\\((\\{.*\\})\\)', bowler_data).group(1))\n",
    "bowler_df = pd.DataFrame(bowler_json[\"mostwickets\"])\n",
    "\n",
    "print(\" dropping irrelevant columns \")\n",
    "bowler_df = bowler_df.drop(columns = [\n",
    "    'Nationality', 'TeamName','TeamID','CompetitionID', 'LegalBallsBowled', 'DotBallsBowled',\n",
    "    'ScoringBallsBowled', 'Ones', 'Twos', 'Threes', 'Wides', 'NoBalls', 'Byes', 'LegBye', 'InningsRuns', 'BowlingSR',\n",
    "    'Fours', 'Sixes', 'InningsWickets', 'MatchRuns', 'MatchWickets', 'BBIW', 'BBMW', 'Maidens', 'MaidenWickets',\n",
    "    'TenWickets', 'ClientPlayerID', 'FiveWickets'])\n",
    "\n",
    "bowler_df.rename(columns= {\n",
    "    'BowlerID':'PlayerId'\n",
    "},inplace = True)\n",
    "\n",
    "cols_to_rename = ['Innings', 'DotBallPercent', 'BoundaryPercentage', 'Wickets', 'StrikeRate']\n",
    "bowler_df.rename(columns={col: f\"{col}_Bowler\" for col in cols_to_rename}, inplace=True)\n",
    "\n",
    "print(\" writing data to batsman_performance_file\")\n",
    "bowler_df.to_csv(\"bawler_performance.csv\", index=False)"
   ]
  },
  {
   "cell_type": "code",
   "execution_count": 685,
   "id": "bbf548f9-82a5-4513-b74b-9ce37ef0acd3",
   "metadata": {},
   "outputs": [
    {
     "name": "stdout",
     "output_type": "stream",
     "text": [
      "shape of unfiltered df \n",
      "(149, 14) (100, 16)\n",
      "(134, 14) (91, 16)\n"
     ]
    }
   ],
   "source": [
    "# Load the CSV files\n",
    "role_df = pd.read_csv(\"Batsman.csv\")\n",
    "bat_performance_df = pd.read_csv(\"batsman_performance.csv\")\n",
    "bowl_performance_df = pd.read_csv(\"bawler_performance.csv\")\n",
    "print(\"shape of unfiltered df \")\n",
    "print(bat_performance_df.shape, bowl_performance_df.shape)\n",
    "\n",
    "team_list= ['MI', 'DC', 'RR', 'CSK','RCB','LSG','SRH','GT','PBKS']\n",
    "bowl_performance_df = bowl_performance_df[bowl_performance_df.TeamCode.isin(team_list)]\n",
    "bat_performance_df = bat_performance_df[bat_performance_df.TeamCode.isin(team_list)]\n",
    "print(bat_performance_df.shape, bowl_performance_df.shape)"
   ]
  },
  {
   "cell_type": "code",
   "execution_count": 686,
   "id": "1a5360de-a1e3-4c49-8965-29f10b732c05",
   "metadata": {},
   "outputs": [],
   "source": [
    "# Remove spaces from player names in both DataFrames\n",
    "role_df[\"PlayerKey\"] = role_df[\"Player_Name\"].str.replace(\" \", \"\").str.lower()\n",
    "bat_performance_df[\"PlayerKey\"] = bat_performance_df[\"StrikerName\"].str.replace(\" \", \"\").str.lower()\n",
    "bowl_performance_df[\"PlayerKey\"] = bowl_performance_df[\"BowlerName\"].str.replace(\" \", \"\").str.lower()"
   ]
  },
  {
   "cell_type": "code",
   "execution_count": 687,
   "id": "f7c1541b-5caf-476f-87f8-02b772eeda1b",
   "metadata": {},
   "outputs": [
    {
     "data": {
      "text/plain": [
       "(164, 7)"
      ]
     },
     "execution_count": 687,
     "metadata": {},
     "output_type": "execute_result"
    }
   ],
   "source": [
    "role_df.shape"
   ]
  },
  {
   "cell_type": "code",
   "execution_count": 688,
   "id": "aab5c2b2-7100-47ca-8be9-a8af17901b58",
   "metadata": {},
   "outputs": [
    {
     "name": "stdout",
     "output_type": "stream",
     "text": [
      "(129, 21)\n"
     ]
    },
    {
     "data": {
      "text/plain": [
       "Index(['Id', 'Player_Name', 'Team', 'Credit_Point', 'Role', 'Speciality',\n",
       "       'PlayerKey', 'StrikerName', 'Matches', 'TeamCode', 'Innings_Bat',\n",
       "       'TotalRuns_Bat', 'Balls_Bat', 'StrikeRate_Bat', 'DBPercent_Bat',\n",
       "       'BdryPercent_Bat', 'Outs_Bat', 'FiftyPlusRuns_Bat', 'BattingAverage',\n",
       "       'Catches', 'Stumpings'],\n",
       "      dtype='object')"
      ]
     },
     "execution_count": 688,
     "metadata": {},
     "output_type": "execute_result"
    }
   ],
   "source": [
    "# Merge on the normalized keys using a left join to keep all Batsman.csv records\n",
    "merged_bat_df = pd.merge(role_df, bat_performance_df, on=\"PlayerKey\", how=\"inner\")\n",
    "merged_bat_df.dropna(subset = [\"StrikerName\"],inplace= True)\n",
    "print(merged_bat_df.shape)\n",
    "merged_bat_df.columns"
   ]
  },
  {
   "cell_type": "code",
   "execution_count": 689,
   "id": "b3d77003-f1ab-44b9-95a3-89dd5559edf4",
   "metadata": {},
   "outputs": [
    {
     "data": {
      "text/plain": [
       "Index(['Id', 'Player_Name', 'Team', 'Credit_Point', 'Role', 'Speciality',\n",
       "       'PlayerKey', 'BowlerName', 'RightHandedBat', 'TeamCode', 'Matches',\n",
       "       'Innings_Bowler', 'PlayerId', 'TotalRunsConceded',\n",
       "       'DotBallPercent_Bowler', 'BowlingAverage', 'StrikeRate_Bowler',\n",
       "       'BoundaryPercentage_Bowler', 'BoundaryFrequency', 'EconomyRate',\n",
       "       'OversBowled', 'Wickets_Bowler', 'FourWickets'],\n",
       "      dtype='object')"
      ]
     },
     "execution_count": 689,
     "metadata": {},
     "output_type": "execute_result"
    }
   ],
   "source": [
    "merged_bowl_df = pd.merge(role_df, bowl_performance_df, on=\"PlayerKey\", how=\"inner\")\n",
    "merged_bowl_df.columns"
   ]
  },
  {
   "cell_type": "code",
   "execution_count": 690,
   "id": "e305c688-5147-4079-ae5e-4b845c786bb1",
   "metadata": {},
   "outputs": [
    {
     "data": {
      "text/plain": [
       "(83, 23)"
      ]
     },
     "execution_count": 690,
     "metadata": {},
     "output_type": "execute_result"
    }
   ],
   "source": [
    "merged_bowl_df.shape"
   ]
  },
  {
   "cell_type": "code",
   "execution_count": 691,
   "id": "51e7f9cd-818a-459c-bdcd-6af20a87d63a",
   "metadata": {},
   "outputs": [
    {
     "data": {
      "text/plain": [
       "(156, 43)"
      ]
     },
     "execution_count": 691,
     "metadata": {},
     "output_type": "execute_result"
    }
   ],
   "source": [
    "final_df= pd.merge(merged_bat_df, merged_bowl_df,on=\"PlayerKey\",how=\"outer\")\n",
    "final_df.shape"
   ]
  },
  {
   "cell_type": "code",
   "execution_count": 692,
   "id": "e17c65ef-a56c-40c3-a81e-89a69aa5fba3",
   "metadata": {},
   "outputs": [
    {
     "data": {
      "text/plain": [
       "Index(['Id_x', 'Player_Name_x', 'Team_x', 'Credit_Point_x', 'Role_x',\n",
       "       'Speciality_x', 'PlayerKey', 'StrikerName', 'Matches_x', 'TeamCode_x',\n",
       "       'Innings_Bat', 'TotalRuns_Bat', 'Balls_Bat', 'StrikeRate_Bat',\n",
       "       'DBPercent_Bat', 'BdryPercent_Bat', 'Outs_Bat', 'FiftyPlusRuns_Bat',\n",
       "       'BattingAverage', 'Catches', 'Stumpings', 'Id_y', 'Player_Name_y',\n",
       "       'Team_y', 'Credit_Point_y', 'Role_y', 'Speciality_y', 'BowlerName',\n",
       "       'RightHandedBat', 'TeamCode_y', 'Matches_y', 'Innings_Bowler',\n",
       "       'PlayerId', 'TotalRunsConceded', 'DotBallPercent_Bowler',\n",
       "       'BowlingAverage', 'StrikeRate_Bowler', 'BoundaryPercentage_Bowler',\n",
       "       'BoundaryFrequency', 'EconomyRate', 'OversBowled', 'Wickets_Bowler',\n",
       "       'FourWickets'],\n",
       "      dtype='object')"
      ]
     },
     "execution_count": 692,
     "metadata": {},
     "output_type": "execute_result"
    }
   ],
   "source": [
    "final_df.columns"
   ]
  },
  {
   "cell_type": "code",
   "execution_count": 693,
   "id": "dc6b6880-b882-465e-ab9b-e0be27f808cf",
   "metadata": {},
   "outputs": [],
   "source": [
    "# final_df[['PlayerKey', 'StrikeRate_x', 'StrikeRate_y']]"
   ]
  },
  {
   "cell_type": "code",
   "execution_count": 694,
   "id": "384496ad-8a42-40c0-97de-00797a5cef3f",
   "metadata": {},
   "outputs": [
    {
     "name": "stdout",
     "output_type": "stream",
     "text": [
      "['Id', 'Player_Name', 'Team', 'Credit_Point', 'Role', 'Speciality', 'PlayerKey', 'StrikerName', 'Matches', 'TeamCode', 'Innings_Bat', 'TotalRuns_Bat', 'Balls_Bat', 'StrikeRate_Bat', 'DBPercent_Bat', 'BdryPercent_Bat', 'Outs_Bat', 'FiftyPlusRuns_Bat', 'BattingAverage', 'Catches', 'Stumpings', 'BowlerName', 'RightHandedBat', 'Innings_Bowler', 'PlayerId', 'TotalRunsConceded', 'DotBallPercent_Bowler', 'BowlingAverage', 'StrikeRate_Bowler', 'BoundaryPercentage_Bowler', 'BoundaryFrequency', 'EconomyRate', 'OversBowled', 'Wickets_Bowler', 'FourWickets']\n"
     ]
    },
    {
     "data": {
      "text/plain": [
       "(156, 35)"
      ]
     },
     "execution_count": 694,
     "metadata": {},
     "output_type": "execute_result"
    }
   ],
   "source": [
    "# Remove substring and duplicates (preserving order)\n",
    "seen = set()\n",
    "clean_col_name = []\n",
    "for col in final_df.columns:\n",
    "    clean_col = col.replace('_x', '')\n",
    "    clean_col = clean_col.replace('_y', '')\n",
    "    if clean_col not in seen:\n",
    "        clean_col_name.append(clean_col)\n",
    "        seen.add(clean_col)\n",
    "\n",
    "print(clean_col_name)\n",
    "for col in clean_col_name:\n",
    "    # print(col)\n",
    "    if col + '_x' in final_df.columns:\n",
    "        final_df[col] = final_df[col + '_x'].combine_first(final_df[col + '_y'])\n",
    "        final_df.drop(columns = [col + '_x', col + '_y'], inplace=True)\n",
    "\n",
    "final_df.shape"
   ]
  },
  {
   "cell_type": "code",
   "execution_count": 695,
   "id": "7dec7c17-01af-4809-9247-c4542d19c912",
   "metadata": {},
   "outputs": [],
   "source": [
    "final_df['Balls_Bat'] = final_df['Balls_Bat'].replace(0,np.nan)\n",
    "final_df['StrikeRate_Bat'] = final_df['TotalRuns_Bat'] / final_df['Balls_Bat']\n",
    "final_df['SRRI'] = round(final_df['StrikeRate_Bat'] * np.log10((final_df['Balls_Bat'] + 1) * (final_df['Innings_Bat'] + 1)), 2)\n",
    "\n",
    "final_df['DBBI_Bat'] = round((1 - (final_df['DBPercent_Bat']/100)) + (final_df['BdryPercent_Bat']/100)*2, 2)\n",
    "\n",
    "# Optional: Replace NaNs (e.g., if BallsFaced_Bat was 0) with 0 for safe viewing\n",
    "final_df[['StrikeRate_Bat', 'SRRI']] = final_df[['StrikeRate_Bat', 'SRRI']].fillna(0)"
   ]
  },
  {
   "cell_type": "code",
   "execution_count": 696,
   "id": "9302189d-c772-43d4-8a84-b6685193f571",
   "metadata": {},
   "outputs": [],
   "source": [
    "final_df['BRRI'] = round((final_df['Wickets_Bowler']/final_df['Innings_Bowler'])*((6+final_df['DotBallPercent_Bowler'])/(final_df['EconomyRate']*1.5 + final_df['StrikeRate_Bowler'] + final_df['BowlingAverage']*0.5)), 2)\n",
    "\n",
    "final_df['DBBI_Bowler'] = round((final_df['DotBallPercent_Bowler']/100) + (final_df['Wickets_Bowler']/final_df['OversBowled'])*2 - (final_df['BoundaryPercentage_Bowler']/100)*1.5, 2)"
   ]
  },
  {
   "cell_type": "code",
   "execution_count": 697,
   "id": "3bee30e0-534f-4e34-b069-7c8319c0ec7b",
   "metadata": {},
   "outputs": [],
   "source": [
    "final_df.drop(columns =[\"Balls_Bat\", \"Innings_Bat\", \"StrikeRate_Bat\",\n",
    "                       'Wickets_Bowler','Innings_Bowler','DotBallPercent_Bowler','EconomyRate','StrikeRate_Bowler','BowlingAverage',\n",
    "                       'StrikerName', 'BowlerName','Player_Name', 'Id','Team'],\n",
    "              inplace = True)"
   ]
  },
  {
   "cell_type": "code",
   "execution_count": 698,
   "id": "866fc977-3c73-46a5-b003-010687dd23e6",
   "metadata": {},
   "outputs": [
    {
     "data": {
      "text/plain": [
       "Index(['PlayerKey', 'TotalRuns_Bat', 'DBPercent_Bat', 'BdryPercent_Bat',\n",
       "       'Outs_Bat', 'FiftyPlusRuns_Bat', 'BattingAverage', 'Catches',\n",
       "       'Stumpings', 'RightHandedBat', 'PlayerId', 'TotalRunsConceded',\n",
       "       'BoundaryPercentage_Bowler', 'BoundaryFrequency', 'OversBowled',\n",
       "       'FourWickets', 'Credit_Point', 'Role', 'Speciality', 'Matches',\n",
       "       'TeamCode', 'SRRI', 'DBBI_Bat', 'BRRI', 'DBBI_Bowler'],\n",
       "      dtype='object')"
      ]
     },
     "execution_count": 698,
     "metadata": {},
     "output_type": "execute_result"
    }
   ],
   "source": [
    "final_df.columns"
   ]
  },
  {
   "cell_type": "code",
   "execution_count": 702,
   "id": "5bcc21bc-045e-48a2-8548-ba4f2fe1a28b",
   "metadata": {},
   "outputs": [],
   "source": [
    "final_df.to_csv(\"final_data.csv\", index=False)"
   ]
  },
  {
   "cell_type": "code",
   "execution_count": 703,
   "id": "2dda88ff-3489-4c13-9d03-b945dd9e7b7b",
   "metadata": {},
   "outputs": [],
   "source": [
    "def playing_team(team1, team2, role_df, final_df):\n",
    "    \n",
    "    # Construct a name for the match\n",
    "    match_name = f\"{team1}_vs_{team2}\"\n",
    "\n",
    "    # Filter final_df for only the two teams\n",
    "    combined_df = final_df[final_df['TeamCode'].isin([team1, team2])].copy()\n",
    "    print(f\"[INFO] Filtered {len(combined_df)} records from final_df for teams {team1} and {team2}\")\n",
    "\n",
    "\n",
    "    # Identify players present in role_df but missing in final_df\n",
    "    missing_players = set(role_df[role_df['Team'].isin([team1, team2])]['PlayerKey']) - \\\n",
    "                      set(combined_df['PlayerKey'])\n",
    "    print(f\"[INFO] Missing players (in role_df but not in final_df): {missing_players}\")\n",
    "\n",
    "    # Save the result to a CSV\n",
    "    output_filename = f\"{match_name}_data.csv\"\n",
    "    combined_df.to_csv(output_filename, index=False)\n",
    "    print(f\"[INFO] Saved final data to {output_filename}\")\n",
    "    return combined_df\n"
   ]
  },
  {
   "cell_type": "code",
   "execution_count": 707,
   "id": "076a0499-7693-43e7-b903-7283360a5820",
   "metadata": {},
   "outputs": [
    {
     "name": "stdout",
     "output_type": "stream",
     "text": [
      "[INFO] Filtered 33 records from final_df for teams PBKS and DC\n",
      "[INFO] Missing players (in role_df but not in final_df): {'tnatarajan'}\n",
      "[INFO] Saved final data to PBKS_vs_DC_data.csv\n"
     ]
    }
   ],
   "source": [
    "df_t = playing_team('PBKS', 'DC', role_df, final_df)"
   ]
  },
  {
   "cell_type": "code",
   "execution_count": 712,
   "id": "e700f234-b27e-4a3e-93fc-8c62ffd7767a",
   "metadata": {},
   "outputs": [],
   "source": [
    "playing_ls = ['arshdeepsingh', 'ashutoshsharma',\n",
    "              'azmatullahomarzai','fafduplessis',\n",
    "              'harpreetbrar', 'joshinglis', 'karunnair', 'klrahul', 'kuldeepyadav',\n",
    "              'marcojansen', 'marcusstoinis', 'mohitsharma','mukeshkumar',\n",
    "              'mustafizurrahman', 'nehalwadhera', 'prabhsimransingh', 'priyansharya', 'sameerrizvi',\n",
    "              'shashanksingh', 'shreyasiyer',\n",
    "              'tristanstubbs', 'viprajnigam']\n",
    "  "
   ]
  },
  {
   "cell_type": "code",
   "execution_count": 713,
   "id": "41017f41-2941-4fd3-ad57-948c18567944",
   "metadata": {},
   "outputs": [],
   "source": [
    "df_t = df_t[df_t[\"PlayerKey\"].isin(playing_ls)]\n",
    "df_t.to_csv(\"df_t.csv\", index=False)"
   ]
  },
  {
   "cell_type": "code",
   "execution_count": null,
   "id": "9bceb1b7-c68b-4e44-a410-f96b18112771",
   "metadata": {},
   "outputs": [],
   "source": []
  }
 ],
 "metadata": {
  "kernelspec": {
   "display_name": "Python 3 (ipykernel)",
   "language": "python",
   "name": "python3"
  },
  "language_info": {
   "codemirror_mode": {
    "name": "ipython",
    "version": 3
   },
   "file_extension": ".py",
   "mimetype": "text/x-python",
   "name": "python",
   "nbconvert_exporter": "python",
   "pygments_lexer": "ipython3",
   "version": "3.12.4"
  },
  "widgets": {
   "application/vnd.jupyter.widget-state+json": {
    "state": {},
    "version_major": 2,
    "version_minor": 0
   }
  }
 },
 "nbformat": 4,
 "nbformat_minor": 5
}
