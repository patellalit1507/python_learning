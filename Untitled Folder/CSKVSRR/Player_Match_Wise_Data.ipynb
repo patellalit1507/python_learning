{
 "cells": [
  {
   "cell_type": "code",
   "execution_count": 368,
   "id": "b68ae62c-9d8f-48ec-a1a0-e86ebeffa04a",
   "metadata": {},
   "outputs": [],
   "source": [
    "import json\n",
    "import csv\n",
    "import requests\n",
    "import pandas as pd"
   ]
  },
  {
   "cell_type": "code",
   "execution_count": 369,
   "id": "223932f8-3281-4b8a-afd2-d39825edfd75",
   "metadata": {},
   "outputs": [],
   "source": [
    "overall_match = requests.get(\"https://ipl-stats-sports-mechanic.s3.ap-south-1.amazonaws.com/ipl/feeds/203-matchschedule.js?MatchSchedule=_jqjsp&_1748090067395=\")"
   ]
  },
  {
   "cell_type": "code",
   "execution_count": 370,
   "id": "b85cafdb-dead-43c4-bf68-c84004988164",
   "metadata": {},
   "outputs": [
    {
     "name": "stdout",
     "output_type": "stream",
     "text": [
      "[1863, 1862, 1861, 1860, 1859, 1858, 1857, 1973, 1855, 1854, 1853, 1852, 1851, 1850, 1849, 1848, 1847, 1846, 1845, 1844, 1843, 1842, 1841, 1840, 1839, 1838, 1837, 1836, 1835, 1834, 1833, 1832, 1831, 1830, 1829, 1828, 1827, 1826, 1825, 1824, 1823, 1822, 1821, 1820, 1817, 1819, 1818, 1816, 1815, 1814, 1813, 1812, 1811, 1810, 1809, 1808, 1807, 1806, 1805, 1804, 1803, 1802, 1801, 1800, 1799, 1864, 1865, 1866, 1867, 1868, 1869, 1870, 1871, 1872]\n"
     ]
    }
   ],
   "source": [
    "overall_match_json =  json.loads(re.search(r'MatchSchedule\\((\\{.*\\})\\)', overall_match.text).group(1))\n",
    "match_id = [i[\"MatchID\"] for i in overall_match_json[\"Matchsummary\"]]\n",
    "print(match_id)"
   ]
  },
  {
   "cell_type": "code",
   "execution_count": 379,
   "id": "b57fe55b-bf99-47ff-bf56-b60f11d98c07",
   "metadata": {},
   "outputs": [],
   "source": [
    "callback = 'onScoring'"
   ]
  },
  {
   "cell_type": "code",
   "execution_count": 380,
   "id": "8ee63635-4626-4682-809b-c0a0e2d7d3ef",
   "metadata": {},
   "outputs": [],
   "source": [
    "def print_key_tree(data, indent=0):\n",
    "    if isinstance(data, dict):\n",
    "        for key, value in data.items():\n",
    "            print('  ' * indent + f\"- {key}\")\n",
    "            print_key_tree(value, indent + 1)\n",
    "    elif isinstance(data, list):\n",
    "        for i, item in enumerate(data):\n",
    "            print('  ' * indent + f\"[{i}]\")\n",
    "            print_key_tree(item, indent + 1)"
   ]
  },
  {
   "cell_type": "code",
   "execution_count": 381,
   "id": "0ded28c6-57ad-4ad8-bea9-afc05de4a534",
   "metadata": {},
   "outputs": [],
   "source": [
    "def extracting_batting_card(data):\n",
    "    # print(data['Innings1'][\"BattingCard\"])\n",
    "    batting_card_df = pd.DataFrame(data)\n",
    "    drop_col_list = ['PLAYER_ID','AgainstFastPercent','AgainstSpinPercent','WicketNo','MinOver',\n",
    "                     'MinStrikerOver','PlayerImage','PlayingOrder','Ones','Twos','Threes']\n",
    "    \n",
    "    batting_card_df.drop(columns = drop_col_list, inplace = True)\n",
    "    batting_card_df.rename(columns = {\n",
    "        'Player_ID':'PlayerID',\n",
    "        'DotBallPercentage':'DotBallPercentage_Bat',\n",
    "        'DotBallFrequency':'DotBallFrequency_Bat',\n",
    "        'Fours':'Fours_Bat',\n",
    "        'Sixes':'Sixes_Bat',\n",
    "        'BoundaryPercentage':'BoundaryPercentage_Bat',\n",
    "        'BoundaryFrequency':'BoundaryFrequency_Bat',\n",
    "        'StrikeRate':'StrikeRate_Bat',   \n",
    "        'AgainstFast':'AgainstFast_Bat',\n",
    "        'AgainstSpin':'AgainstSpin_Bat'\n",
    "    },inplace = True)\n",
    "    \n",
    "    return batting_card_df"
   ]
  },
  {
   "cell_type": "code",
   "execution_count": 382,
   "id": "52e89b41-3999-4349-a614-a83bb1ca8c4c",
   "metadata": {},
   "outputs": [],
   "source": [
    "def extracting_bowling_card(data):\n",
    "    bowling_card_df = pd.DataFrame(data)\n",
    "    drop_col_list = ['PlayerImageName','PlayerImage','Maidens','Ones','Twos','Threes','Wides','NoBalls']\n",
    "    bowling_card_df.drop(columns = drop_col_list,inplace = True)\n",
    "    bowling_card_df.rename(columns = {\n",
    "        'Runs':'Runs_bat',\n",
    "        'Economy':'Economy_bowl',\n",
    "        'DotBalls':'DotBalls_bowl',\n",
    "        'DBPercent':'DBPercent _bowl',\n",
    "        'Fours':'Fours_bowl',\n",
    "        'Sixes':'Sixes_bowl',\n",
    "        'BdryPercent':'BdryPercent_bowl',\n",
    "        'BdryFreq':'BdryFreq_bowl',\n",
    "        'FourPercent':'FourPercent_bowl',\n",
    "        'SixPercent':'SixPercent_bowl'  \n",
    "    },inplace= True)\n",
    "    \n",
    "    return bowling_card_df\n",
    "    "
   ]
  },
  {
   "cell_type": "code",
   "execution_count": 383,
   "id": "c422d0d5-9fff-4b64-8177-1aa8faeb3617",
   "metadata": {},
   "outputs": [],
   "source": [
    "def remove_sub(final_df):\n",
    "    suffixes = ('_x', '_y')\n",
    "    for col in final_df.columns:\n",
    "        if col.endswith(suffixes[0]):\n",
    "            base_col = col[:-2]\n",
    "            col_x = col\n",
    "            col_y = base_col + suffixes[1]\n",
    "            if col_y in final_df.columns:\n",
    "                # Only combine if the columns represent the same metric\n",
    "                final_df[base_col] = final_df[col_x].combine_first(final_df[col_y])\n",
    "                final_df.drop(columns=[col_x, col_y], inplace=True)\n",
    "    return final_df"
   ]
  },
  {
   "cell_type": "code",
   "execution_count": 384,
   "id": "e9dd014d-2c6d-479d-b291-436361782247",
   "metadata": {},
   "outputs": [],
   "source": [
    "def merge_dfs(df1,df2,key_id):\n",
    "    final_df = df1.merge(df2, on=key_id, how='outer')\n",
    "    final_df = remove_sub(final_df)\n",
    "    # print(final_df[final_df['PlayerID'].isna()])\n",
    "    print(final_df.columns)\n",
    "    return  final_df\n",
    "    "
   ]
  },
  {
   "cell_type": "code",
   "execution_count": null,
   "id": "df6b53a8-0639-4b13-8136-b36f0c8ee7dc",
   "metadata": {},
   "outputs": [],
   "source": [
    "def extract_head_to_head(df1)"
   ]
  },
  {
   "cell_type": "code",
   "execution_count": 385,
   "id": "e4de98a2-4aea-43c6-a43d-dbbb3cedda7d",
   "metadata": {},
   "outputs": [],
   "source": [
    "def fetch_data(match_id):\n",
    "    timestamp_ms = int(time.time() * 1000)\n",
    "    base_inning1_url = f\"https://ipl-stats-sports-mechanic.s3.ap-south-1.amazonaws.com/ipl/feeds/{match_id}-Innings1.js?callback={callback}&_={timestamp_ms}\"\n",
    "    base_inning2_url = f\"https://ipl-stats-sports-mechanic.s3.ap-south-1.amazonaws.com/ipl/feeds/{match_id}-Innings2.js?{callback}=_jqjsp&_{timestamp_ms}=\"\n",
    "                         \n",
    "    print(\"Inning1 Url ----- \",base_inning1_url)\n",
    "    print(\"Inning2 Url ----- \",base_inning2_url)\n",
    "    \n",
    "    print(f\"Fetching data from API call for {match_id}\") \n",
    "    \n",
    "    response1 = requests.get(base_inning1_url)\n",
    "    response2 = requests.get(base_inning2_url)\n",
    "    if response1.status_code == 200 and response2.status_code == 200:\n",
    "        inning1_json =  json.loads(re.search(r'onScoring\\((\\{.*\\})\\)', response1.text).group(1))\n",
    "        inning2_json =  json.loads(re.search(r'onScoring\\((\\{.*\\})\\)', response2.text).group(1))\n",
    "        \n",
    "        # print_key_tree(inning1_json)\n",
    "        df1 = extracting_batting_card(inning1_json['Innings1'][\"BattingCard\"])\n",
    "        df2 = extracting_batting_card(inning2_json['Innings2'][\"BattingCard\"])\n",
    "        df3 = extracting_bowling_card(inning1_json['Innings1'][\"BowlingCard\"])\n",
    "        df4 = extracting_bowling_card(inning2_json['Innings2'][\"BowlingCard\"])\n",
    "                                      \n",
    "        df_bat = pd.concat([df1,df2],ignore_index=True)\n",
    "        df_bowl =pd.concat([df3,df4],ignore_index=True)\n",
    "        final_df = merge_dfs(df_bat,df_bowl,'PlayerID')\n",
    "        final_df.to_csv(f\"Match_data/{match_id}.csv\", index=False)\n",
    "        # print(df_bat[[\"PlayerName\"]])\n",
    "        # print(df_bowl[[\"PlayerName\"]])\n",
    "     \n",
    "    else:\n",
    "        print(\"api call failed with status code\",response1.status_code)\n",
    "    "
   ]
  },
  {
   "cell_type": "code",
   "execution_count": 386,
   "id": "6bff6c8a-4efc-4c4e-a900-9316eb6394b9",
   "metadata": {},
   "outputs": [
    {
     "name": "stdout",
     "output_type": "stream",
     "text": [
      "Inning1 Url -----  https://ipl-stats-sports-mechanic.s3.ap-south-1.amazonaws.com/ipl/feeds/1864-Innings1.js?callback=onScoring&_=1748091876774\n",
      "Inning2 Url -----  https://ipl-stats-sports-mechanic.s3.ap-south-1.amazonaws.com/ipl/feeds/1864-Innings2.js?onScoring=_jqjsp&_1748091876774=\n",
      "Fetching data from API call for 1864\n",
      "api call failed with status code 404\n",
      "Inning1 Url -----  https://ipl-stats-sports-mechanic.s3.ap-south-1.amazonaws.com/ipl/feeds/1865-Innings1.js?callback=onScoring&_=1748091877033\n",
      "Inning2 Url -----  https://ipl-stats-sports-mechanic.s3.ap-south-1.amazonaws.com/ipl/feeds/1865-Innings2.js?onScoring=_jqjsp&_1748091877033=\n",
      "Fetching data from API call for 1865\n",
      "api call failed with status code 404\n",
      "Inning1 Url -----  https://ipl-stats-sports-mechanic.s3.ap-south-1.amazonaws.com/ipl/feeds/1866-Innings1.js?callback=onScoring&_=1748091877432\n",
      "Inning2 Url -----  https://ipl-stats-sports-mechanic.s3.ap-south-1.amazonaws.com/ipl/feeds/1866-Innings2.js?onScoring=_jqjsp&_1748091877432=\n",
      "Fetching data from API call for 1866\n",
      "api call failed with status code 404\n",
      "Inning1 Url -----  https://ipl-stats-sports-mechanic.s3.ap-south-1.amazonaws.com/ipl/feeds/1867-Innings1.js?callback=onScoring&_=1748091877662\n",
      "Inning2 Url -----  https://ipl-stats-sports-mechanic.s3.ap-south-1.amazonaws.com/ipl/feeds/1867-Innings2.js?onScoring=_jqjsp&_1748091877662=\n",
      "Fetching data from API call for 1867\n",
      "api call failed with status code 404\n",
      "Inning1 Url -----  https://ipl-stats-sports-mechanic.s3.ap-south-1.amazonaws.com/ipl/feeds/1868-Innings1.js?callback=onScoring&_=1748091878109\n",
      "Inning2 Url -----  https://ipl-stats-sports-mechanic.s3.ap-south-1.amazonaws.com/ipl/feeds/1868-Innings2.js?onScoring=_jqjsp&_1748091878109=\n",
      "Fetching data from API call for 1868\n",
      "api call failed with status code 404\n",
      "Inning1 Url -----  https://ipl-stats-sports-mechanic.s3.ap-south-1.amazonaws.com/ipl/feeds/1869-Innings1.js?callback=onScoring&_=1748091878347\n",
      "Inning2 Url -----  https://ipl-stats-sports-mechanic.s3.ap-south-1.amazonaws.com/ipl/feeds/1869-Innings2.js?onScoring=_jqjsp&_1748091878347=\n",
      "Fetching data from API call for 1869\n",
      "api call failed with status code 404\n",
      "Inning1 Url -----  https://ipl-stats-sports-mechanic.s3.ap-south-1.amazonaws.com/ipl/feeds/1870-Innings1.js?callback=onScoring&_=1748091878867\n",
      "Inning2 Url -----  https://ipl-stats-sports-mechanic.s3.ap-south-1.amazonaws.com/ipl/feeds/1870-Innings2.js?onScoring=_jqjsp&_1748091878867=\n",
      "Fetching data from API call for 1870\n",
      "api call failed with status code 404\n",
      "Inning1 Url -----  https://ipl-stats-sports-mechanic.s3.ap-south-1.amazonaws.com/ipl/feeds/1871-Innings1.js?callback=onScoring&_=1748091879275\n",
      "Inning2 Url -----  https://ipl-stats-sports-mechanic.s3.ap-south-1.amazonaws.com/ipl/feeds/1871-Innings2.js?onScoring=_jqjsp&_1748091879275=\n",
      "Fetching data from API call for 1871\n",
      "api call failed with status code 404\n",
      "Inning1 Url -----  https://ipl-stats-sports-mechanic.s3.ap-south-1.amazonaws.com/ipl/feeds/1872-Innings1.js?callback=onScoring&_=1748091879612\n",
      "Inning2 Url -----  https://ipl-stats-sports-mechanic.s3.ap-south-1.amazonaws.com/ipl/feeds/1872-Innings2.js?onScoring=_jqjsp&_1748091879612=\n",
      "Fetching data from API call for 1872\n",
      "api call failed with status code 404\n"
     ]
    }
   ],
   "source": [
    "for i in match_id:\n",
    "    fetch_data(i)"
   ]
  },
  {
   "cell_type": "code",
   "execution_count": null,
   "id": "eae94fc2-5f2e-49be-91b4-b04d20f77227",
   "metadata": {},
   "outputs": [],
   "source": [
    "1864,1865,1866,1867,1868,1869,1870,1871,1872"
   ]
  },
  {
   "cell_type": "code",
   "execution_count": null,
   "id": "6be93e09-c420-4e1b-bb2f-4a9dd2ed3378",
   "metadata": {},
   "outputs": [],
   "source": []
  }
 ],
 "metadata": {
  "kernelspec": {
   "display_name": "Python 3 (ipykernel)",
   "language": "python",
   "name": "python3"
  },
  "language_info": {
   "codemirror_mode": {
    "name": "ipython",
    "version": 3
   },
   "file_extension": ".py",
   "mimetype": "text/x-python",
   "name": "python",
   "nbconvert_exporter": "python",
   "pygments_lexer": "ipython3",
   "version": "3.12.4"
  },
  "widgets": {
   "application/vnd.jupyter.widget-state+json": {
    "state": {},
    "version_major": 2,
    "version_minor": 0
   }
  }
 },
 "nbformat": 4,
 "nbformat_minor": 5
}
