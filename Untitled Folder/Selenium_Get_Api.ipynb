{
 "cells": [
  {
   "cell_type": "code",
   "execution_count": 5,
   "id": "8dc75f84-f5a1-4c11-b124-c4f4789c9746",
   "metadata": {},
   "outputs": [],
   "source": [
    "from seleniumwire import webdriver  # <-- use seleniumwire\n",
    "from selenium.webdriver.common.by import By\n",
    "from selenium.webdriver.support.ui import WebDriverWait\n",
    "from selenium.webdriver.support import expected_conditions as EC\n",
    "import time"
   ]
  },
  {
   "cell_type": "code",
   "execution_count": 14,
   "id": "94a812e3-17a7-4e28-96a1-8e98ce548bb3",
   "metadata": {},
   "outputs": [
    {
     "name": "stdout",
     "output_type": "stream",
     "text": [
      "Orange Cap clicked successfully\n",
      "Captured request URL: https://ipl-stats-sports-mechanic.s3.ap-south-1.amazonaws.com/ipl/feeds/stats/203-toprunsscorers.js?callback=ontoprunsscorers&_=1747857358101\n",
      "Response status: 200\n"
     ]
    }
   ],
   "source": [
    "driver = webdriver.Chrome()\n",
    "driver.get(\"https://www.iplt20.com/stats/2025\")\n",
    "driver.maximize_window()\n",
    "\n",
    "wait = WebDriverWait(driver, 15)\n",
    "\n",
    "# Open dropdown\n",
    "dropdown = wait.until(EC.element_to_be_clickable((By.CSS_SELECTOR, \".statsTypeFilter .cSBDisplay\")))\n",
    "dropdown.click()\n",
    "time.sleep(1)\n",
    "\n",
    "orange_cap = wait.until(EC.presence_of_element_located((\n",
    "    By.XPATH, \"//div[contains(@class, 'cSBListItems') and contains(text(), 'Orange Cap')]\"\n",
    ")))\n",
    "driver.execute_script(\"arguments[0].scrollIntoView(true);\", orange_cap)\n",
    "driver.execute_script(\"arguments[0].click();\", orange_cap)\n",
    "\n",
    "print(\"Orange Cap clicked successfully\")\n",
    "\n",
    "# Wait some seconds for network requests to happen\n",
    "time.sleep(3)\n",
    "# Now print only the requests that happened after clicking Orange Cap\n",
    "url_prefix = \"https://ipl-stats-sports-mechanic.s3.ap-south-1.amazonaws.com/ipl/feeds/stats/203-toprunsscorers.js\"\n",
    "\n",
    "# Filter requests matching the prefix\n",
    "matched_requests = [\n",
    "    req for req in driver.requests\n",
    "    if req.response and req.url.startswith(url_prefix)\n",
    "]\n",
    "\n",
    "if matched_requests:\n",
    "    # Get the last such request\n",
    "    last_req = matched_requests[-1]\n",
    "    print(\"Captured request URL:\", last_req.url)\n",
    "    print(\"Response status:\", last_req.response.status_code)\n",
    "driver.quit()"
   ]
  },
  {
   "cell_type": "code",
   "execution_count": null,
   "id": "a372c119-8e23-4b73-9182-5a060002aa66",
   "metadata": {},
   "outputs": [],
   "source": []
  }
 ],
 "metadata": {
  "kernelspec": {
   "display_name": "Python 3 (ipykernel)",
   "language": "python",
   "name": "python3"
  },
  "language_info": {
   "codemirror_mode": {
    "name": "ipython",
    "version": 3
   },
   "file_extension": ".py",
   "mimetype": "text/x-python",
   "name": "python",
   "nbconvert_exporter": "python",
   "pygments_lexer": "ipython3",
   "version": "3.12.4"
  },
  "widgets": {
   "application/vnd.jupyter.widget-state+json": {
    "state": {},
    "version_major": 2,
    "version_minor": 0
   }
  }
 },
 "nbformat": 4,
 "nbformat_minor": 5
}
