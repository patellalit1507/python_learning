{
 "cells": [
  {
   "cell_type": "code",
   "execution_count": 1,
   "id": "f7ca3531-0a84-47e5-b0d7-720fc05bafbb",
   "metadata": {},
   "outputs": [],
   "source": [
    "import json\n",
    "import pandas as pd\n",
    "import re\n",
    "\n",
    "# Extract JSON from batsman_performance.txt\n",
    "with open(\"batsman_performance.txt\", \"r\") as f:\n",
    "    batsman_raw = f.read()\n",
    "batsman_json = json.loads(re.search(r'ontoprunsscorers\\((\\{.*\\})\\)', batsman_raw).group(1))\n",
    "batsman_df = pd.DataFrame(batsman_json[\"toprunsscorers\"])\n",
    "batsman_df.to_csv(\"batsman_performance.csv\", index=False)\n",
    "\n",
    "# Extract JSON from bawler_performance.txt\n",
    "with open(\"bawler_performance.txt\", \"r\") as f:\n",
    "    bowler_raw = f.read()\n",
    "bowler_json = json.loads(re.search(r'onmostwickets\\((\\{.*\\})\\)', bowler_raw).group(1))\n",
    "bowler_df = pd.DataFrame(bowler_json[\"mostwickets\"])\n",
    "bowler_df.to_csv(\"bawler_performance.csv\", index=False)\n"
   ]
  },
  {
   "cell_type": "code",
   "execution_count": 6,
   "id": "2738a1ef-ad70-402a-b1d5-6709abb5065d",
   "metadata": {},
   "outputs": [],
   "source": [
    "import pandas as pd\n",
    "from fuzzywuzzy import process\n",
    "\n",
    "# Load credit list\n",
    "credits_df = pd.read_csv(\"player_credits.csv\")\n",
    "credit_names = credits_df[\"Player Name\"].tolist()\n",
    "\n",
    "# ---------- For Batsman ----------\n",
    "batsman_df = pd.read_csv(\"batsman_performance.csv\")\n",
    "batsman_df[\"Matched Name\"] = batsman_df[\"StrikerName\"].apply(lambda x: process.extractOne(x, credit_names)[0] if process.extractOne(x, credit_names)[1] >= 80 else None)\n",
    "batsman_merged = batsman_df.merge(credits_df, left_on=\"Matched Name\", right_on=\"Player Name\", how=\"inner\")\n",
    "batsman_merged.to_csv(\"batsman_with_credits.csv\", index=False)\n",
    "\n",
    "# ---------- For Bowler ----------\n",
    "bowler_df = pd.read_csv(\"bawler_performance.csv\")\n",
    "bowler_df[\"Matched Name\"] = bowler_df[\"BowlerName\"].apply(lambda x: process.extractOne(x, credit_names)[0] if process.extractOne(x, credit_names)[1] >= 80 else None)\n",
    "bowler_merged = bowler_df.merge(credits_df, left_on=\"Matched Name\", right_on=\"Player Name\", how=\"inner\")\n",
    "bowler_merged.to_csv(\"bowler_with_credits.csv\", index=False)\n"
   ]
  },
  {
   "cell_type": "code",
   "execution_count": 5,
   "id": "7f81b25d-d9f4-4767-8598-54d99a3eb612",
   "metadata": {},
   "outputs": [
    {
     "name": "stdout",
     "output_type": "stream",
     "text": [
      "Collecting fuzzywuzzy[speedup]\n",
      "  Downloading fuzzywuzzy-0.18.0-py2.py3-none-any.whl.metadata (4.9 kB)\n",
      "Collecting python-levenshtein>=0.12 (from fuzzywuzzy[speedup])\n",
      "  Downloading python_levenshtein-0.27.1-py3-none-any.whl.metadata (3.7 kB)\n",
      "Collecting Levenshtein==0.27.1 (from python-levenshtein>=0.12->fuzzywuzzy[speedup])\n",
      "  Downloading levenshtein-0.27.1-cp312-cp312-win_amd64.whl.metadata (3.6 kB)\n",
      "Collecting rapidfuzz<4.0.0,>=3.9.0 (from Levenshtein==0.27.1->python-levenshtein>=0.12->fuzzywuzzy[speedup])\n",
      "  Downloading rapidfuzz-3.13.0-cp312-cp312-win_amd64.whl.metadata (12 kB)\n",
      "Downloading python_levenshtein-0.27.1-py3-none-any.whl (9.4 kB)\n",
      "Downloading levenshtein-0.27.1-cp312-cp312-win_amd64.whl (100 kB)\n",
      "   ---------------------------------------- 0.0/100.7 kB ? eta -:--:--\n",
      "   ---------------- ----------------------- 41.0/100.7 kB 1.9 MB/s eta 0:00:01\n",
      "   ---------------------------------------- 100.7/100.7 kB 1.4 MB/s eta 0:00:00\n",
      "Downloading fuzzywuzzy-0.18.0-py2.py3-none-any.whl (18 kB)\n",
      "Downloading rapidfuzz-3.13.0-cp312-cp312-win_amd64.whl (1.6 MB)\n",
      "   ---------------------------------------- 0.0/1.6 MB ? eta -:--:--\n",
      "   ---------- ----------------------------- 0.4/1.6 MB 8.7 MB/s eta 0:00:01\n",
      "   ---------------------- ----------------- 0.9/1.6 MB 9.6 MB/s eta 0:00:01\n",
      "   ------------------------------- -------- 1.3/1.6 MB 9.1 MB/s eta 0:00:01\n",
      "   ---------------------------------------  1.6/1.6 MB 10.2 MB/s eta 0:00:01\n",
      "   ---------------------------------------- 1.6/1.6 MB 8.5 MB/s eta 0:00:00\n",
      "Installing collected packages: fuzzywuzzy, rapidfuzz, Levenshtein, python-levenshtein\n",
      "Successfully installed Levenshtein-0.27.1 fuzzywuzzy-0.18.0 python-levenshtein-0.27.1 rapidfuzz-3.13.0\n",
      "Note: you may need to restart the kernel to use updated packages.\n"
     ]
    },
    {
     "name": "stderr",
     "output_type": "stream",
     "text": [
      "\n",
      "[notice] A new release of pip is available: 24.0 -> 25.1.1\n",
      "[notice] To update, run: python.exe -m pip install --upgrade pip\n"
     ]
    }
   ],
   "source": [
    "pip install fuzzywuzzy[speedup]"
   ]
  },
  {
   "cell_type": "code",
   "execution_count": 8,
   "id": "f00cf1b3-dc3c-43f8-a55e-83798655f2b2",
   "metadata": {},
   "outputs": [
    {
     "name": "stdout",
     "output_type": "stream",
     "text": [
      "✅ Merged CSV created with default credits where missing.\n"
     ]
    }
   ],
   "source": [
    "import pandas as pd\n",
    "\n",
    "# Load the two CSV files\n",
    "performance_df = pd.read_csv(\"batsman_performance.csv\")\n",
    "credits_df = pd.read_csv(\"player_credits.csv\")  # columns: Player Name, Credit\n",
    "\n",
    "# Merge on StrikerName and Player Name\n",
    "merged_df = performance_df.merge(\n",
    "    credits_df,\n",
    "    left_on='StrikerName',\n",
    "    right_on='Player Name',\n",
    "    how='left'\n",
    ")\n",
    "\n",
    "# Fill missing credit values with default 8\n",
    "merged_df['Credit'] = merged_df['Credit'].fillna(8)\n",
    "\n",
    "# Drop the extra Player Name column (optional)\n",
    "merged_df.drop(columns=['Player Name'], inplace=True)\n",
    "\n",
    "# Save to new CSV\n",
    "merged_df.to_csv(\"merged_batsmen_with_credits.csv\", index=False)\n",
    "\n",
    "print(\"✅ Merged CSV created with default credits where missing.\")\n",
    "\n"
   ]
  },
  {
   "cell_type": "code",
   "execution_count": 10,
   "id": "6b91366b-5710-4b10-818a-d628d5e3763b",
   "metadata": {},
   "outputs": [
    {
     "name": "stdout",
     "output_type": "stream",
     "text": [
      "✅ Merged CSV created with default credits where missing.\n"
     ]
    }
   ],
   "source": [
    "import pandas as pd\n",
    "\n",
    "# Load the two CSV files\n",
    "performance_df = pd.read_csv(\"bawler_performance.csv\")\n",
    "credits_df = pd.read_csv(\"player_credits.csv\")  # columns: Player Name, Credit\n",
    "\n",
    "# Merge on StrikerName and Player Name\n",
    "merged_df = performance_df.merge(\n",
    "    credits_df,\n",
    "    left_on='BowlerName',\n",
    "    right_on='Player Name',\n",
    "    how='left'\n",
    ")\n",
    "\n",
    "# Fill missing credit values with default 8\n",
    "merged_df['Credit'] = merged_df['Credit'].fillna(8)\n",
    "\n",
    "# Drop the extra Player Name column (optional)\n",
    "merged_df.drop(columns=['Player Name'], inplace=True)\n",
    "\n",
    "# Save to new CSV\n",
    "merged_df.to_csv(\"merged_bawler_with_credits.csv\", index=False)\n",
    "\n",
    "print(\"✅ Merged CSV created with default credits where missing.\")\n",
    "\n"
   ]
  },
  {
   "cell_type": "code",
   "execution_count": null,
   "id": "e0122efb-3a5c-48eb-8848-5208d4ce06a5",
   "metadata": {},
   "outputs": [],
   "source": []
  }
 ],
 "metadata": {
  "kernelspec": {
   "display_name": "Python 3 (ipykernel)",
   "language": "python",
   "name": "python3"
  },
  "language_info": {
   "codemirror_mode": {
    "name": "ipython",
    "version": 3
   },
   "file_extension": ".py",
   "mimetype": "text/x-python",
   "name": "python",
   "nbconvert_exporter": "python",
   "pygments_lexer": "ipython3",
   "version": "3.12.4"
  },
  "widgets": {
   "application/vnd.jupyter.widget-state+json": {
    "state": {},
    "version_major": 2,
    "version_minor": 0
   }
  }
 },
 "nbformat": 4,
 "nbformat_minor": 5
}
