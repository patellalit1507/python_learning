{
 "cells": [
  {
   "cell_type": "code",
   "execution_count": 1,
   "id": "f94b9a8d-4d80-4520-8d6b-b40f7793ccf1",
   "metadata": {},
   "outputs": [
    {
     "name": "stdout",
     "output_type": "stream",
     "text": [
      "(1234, 'hello', 6)\n"
     ]
    }
   ],
   "source": [
    "t = 1234, \"hello\", 2+4\n",
    "print(t)"
   ]
  },
  {
   "cell_type": "markdown",
   "id": "ef2ba0c1-99b1-4282-999c-b5310c3f6317",
   "metadata": {},
   "source": [
    "tuple may be nested"
   ]
  },
  {
   "cell_type": "code",
   "execution_count": 2,
   "id": "d2eaf372-8658-4e65-9a65-4360724f58f0",
   "metadata": {},
   "outputs": [],
   "source": [
    "u = t, (1,2,3,4,5)"
   ]
  },
  {
   "cell_type": "code",
   "execution_count": 3,
   "id": "8f7aac4a-38dc-4ce0-86da-f42b7201b675",
   "metadata": {},
   "outputs": [
    {
     "name": "stdout",
     "output_type": "stream",
     "text": [
      "((1234, 'hello', 6), (1, 2, 3, 4, 5))\n"
     ]
    }
   ],
   "source": [
    "print(u)"
   ]
  },
  {
   "cell_type": "markdown",
   "id": "fb021db7-3c0c-4e22-a0e5-29d2b1c35bb5",
   "metadata": {},
   "source": [
    "tuple are immutable"
   ]
  },
  {
   "cell_type": "code",
   "execution_count": 4,
   "id": "39fb6f5c-b07d-43fc-a764-b7437c0292d9",
   "metadata": {},
   "outputs": [
    {
     "ename": "TypeError",
     "evalue": "'tuple' object does not support item assignment",
     "output_type": "error",
     "traceback": [
      "\u001b[1;31m---------------------------------------------------------------------------\u001b[0m",
      "\u001b[1;31mTypeError\u001b[0m                                 Traceback (most recent call last)",
      "Cell \u001b[1;32mIn[4], line 1\u001b[0m\n\u001b[1;32m----> 1\u001b[0m \u001b[43mt\u001b[49m\u001b[43m[\u001b[49m\u001b[38;5;241;43m0\u001b[39;49m\u001b[43m]\u001b[49m \u001b[38;5;241m=\u001b[39m \u001b[38;5;241m888\u001b[39m\n",
      "\u001b[1;31mTypeError\u001b[0m: 'tuple' object does not support item assignment"
     ]
    }
   ],
   "source": [
    "t[0] = 888"
   ]
  },
  {
   "cell_type": "markdown",
   "id": "19174e05-95bb-4353-9742-1b59280bbe27",
   "metadata": {},
   "source": [
    "tuple are immutable but can contain mutable objects"
   ]
  },
  {
   "cell_type": "code",
   "execution_count": 6,
   "id": "d5540175-ff66-4aa7-bf0d-a4cf46654c97",
   "metadata": {},
   "outputs": [],
   "source": [
    "l1 = [1,2,3]\n",
    "l2 = [4,5,6]\n",
    "tup = l1,l2"
   ]
  },
  {
   "cell_type": "code",
   "execution_count": 7,
   "id": "aad488fa-576b-47de-8d49-0f0d9da7f2b1",
   "metadata": {},
   "outputs": [
    {
     "name": "stdout",
     "output_type": "stream",
     "text": [
      "([1, 2, 3], [4, 5, 6])\n"
     ]
    }
   ],
   "source": [
    "print(tup)"
   ]
  },
  {
   "cell_type": "code",
   "execution_count": 8,
   "id": "3d20630b-ff21-40d6-adef-2f4e6d1e4bfe",
   "metadata": {},
   "outputs": [
    {
     "name": "stdout",
     "output_type": "stream",
     "text": [
      "([55, 2, 3], [4, 5, 6])\n"
     ]
    }
   ],
   "source": [
    "l1[0] = 55\n",
    "print(tup)"
   ]
  },
  {
   "cell_type": "code",
   "execution_count": null,
   "id": "64838c19-b4f8-45f2-8ee5-f0a4961ad3a7",
   "metadata": {},
   "outputs": [],
   "source": []
  }
 ],
 "metadata": {
  "kernelspec": {
   "display_name": "Python 3 (ipykernel)",
   "language": "python",
   "name": "python3"
  },
  "language_info": {
   "codemirror_mode": {
    "name": "ipython",
    "version": 3
   },
   "file_extension": ".py",
   "mimetype": "text/x-python",
   "name": "python",
   "nbconvert_exporter": "python",
   "pygments_lexer": "ipython3",
   "version": "3.12.4"
  }
 },
 "nbformat": 4,
 "nbformat_minor": 5
}
