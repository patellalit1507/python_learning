{
 "cells": [
  {
   "cell_type": "markdown",
   "id": "6605526c-318f-41c0-8ded-cc16ea027c58",
   "metadata": {},
   "source": [
    "# List"
   ]
  },
  {
   "cell_type": "code",
   "execution_count": 1,
   "id": "fbeb2304-e393-4513-8f67-3cd392b0b68d",
   "metadata": {},
   "outputs": [],
   "source": [
    "fruits = ['orange', 'apple', 'pear', 'banana', 'kiwi', 'apple', 'banana']"
   ]
  },
  {
   "cell_type": "code",
   "execution_count": 2,
   "id": "d6979d37-e896-4354-a10e-167e7ec954ad",
   "metadata": {},
   "outputs": [
    {
     "data": {
      "text/plain": [
       "2"
      ]
     },
     "execution_count": 2,
     "metadata": {},
     "output_type": "execute_result"
    }
   ],
   "source": [
    "fruits.count('apple')"
   ]
  },
  {
   "cell_type": "code",
   "execution_count": 3,
   "id": "dd9aa924-4496-4367-86e4-8f6ce0e0383f",
   "metadata": {},
   "outputs": [
    {
     "data": {
      "text/plain": [
       "7"
      ]
     },
     "execution_count": 3,
     "metadata": {},
     "output_type": "execute_result"
    }
   ],
   "source": [
    "len(fruits)"
   ]
  },
  {
   "cell_type": "code",
   "execution_count": 4,
   "id": "72e4d80d-63c2-4193-81de-e80f4f7abf37",
   "metadata": {},
   "outputs": [
    {
     "data": {
      "text/plain": [
       "2"
      ]
     },
     "execution_count": 4,
     "metadata": {},
     "output_type": "execute_result"
    }
   ],
   "source": [
    "fruits.index('pear')"
   ]
  },
  {
   "cell_type": "code",
   "execution_count": 5,
   "id": "0b038c5b-8dc6-4a61-9754-f83c675ccfe1",
   "metadata": {},
   "outputs": [
    {
     "data": {
      "text/plain": [
       "6"
      ]
     },
     "execution_count": 5,
     "metadata": {},
     "output_type": "execute_result"
    }
   ],
   "source": [
    "fruits.index('banana', 4)"
   ]
  },
  {
   "cell_type": "code",
   "execution_count": 6,
   "id": "140c4eb7-6175-4d84-8c9e-47b03a8dc6f1",
   "metadata": {},
   "outputs": [],
   "source": [
    "fruits.reverse()"
   ]
  },
  {
   "cell_type": "code",
   "execution_count": 7,
   "id": "2436d456-3af1-4a79-b707-b28e6036af24",
   "metadata": {},
   "outputs": [
    {
     "name": "stdout",
     "output_type": "stream",
     "text": [
      "['banana', 'apple', 'kiwi', 'banana', 'pear', 'apple', 'orange']\n"
     ]
    }
   ],
   "source": [
    "print(fruits)"
   ]
  },
  {
   "cell_type": "markdown",
   "id": "fcef7d02-6158-4f9f-ac33-5458fe0dcdee",
   "metadata": {},
   "source": [
    "# List as stack"
   ]
  },
  {
   "cell_type": "code",
   "execution_count": 12,
   "id": "3b11ac5e-42ad-4a65-885e-2f07475dcf28",
   "metadata": {},
   "outputs": [],
   "source": [
    "stack = [12,23,45]"
   ]
  },
  {
   "cell_type": "code",
   "execution_count": 13,
   "id": "f3d31828-a31f-4e7e-a333-1fa4800ab40e",
   "metadata": {},
   "outputs": [],
   "source": [
    "stack.append(67)"
   ]
  },
  {
   "cell_type": "code",
   "execution_count": 14,
   "id": "0c9c87ec-4334-4f6c-be58-defa74148acd",
   "metadata": {},
   "outputs": [],
   "source": [
    "stack.append(78)"
   ]
  },
  {
   "cell_type": "code",
   "execution_count": 15,
   "id": "688e93de-30c0-4133-9f3c-891c53004f4e",
   "metadata": {},
   "outputs": [
    {
     "name": "stdout",
     "output_type": "stream",
     "text": [
      "[12, 23, 45, 67, 78]\n"
     ]
    }
   ],
   "source": [
    "print(stack)"
   ]
  },
  {
   "cell_type": "code",
   "execution_count": 16,
   "id": "ea004780-bbcd-47e6-9f49-71c703944c6f",
   "metadata": {},
   "outputs": [
    {
     "data": {
      "text/plain": [
       "78"
      ]
     },
     "execution_count": 16,
     "metadata": {},
     "output_type": "execute_result"
    }
   ],
   "source": [
    "stack.pop()"
   ]
  },
  {
   "cell_type": "markdown",
   "id": "faa6e972-16f0-4620-88b4-dddc48cbd61a",
   "metadata": {},
   "source": [
    "# List as queue"
   ]
  },
  {
   "cell_type": "markdown",
   "id": "2074653b-ae8b-41e3-83c1-861f02f72489",
   "metadata": {},
   "source": [
    "### To implement a queue, use collections.deque which was designed to have fast appends and pops from both ends."
   ]
  },
  {
   "cell_type": "code",
   "execution_count": 19,
   "id": "6b186004-9eb8-4daf-811b-b413cb22fd78",
   "metadata": {},
   "outputs": [],
   "source": [
    "from collections import deque"
   ]
  },
  {
   "cell_type": "code",
   "execution_count": 20,
   "id": "7e14f0d2-300c-438c-8876-f94686b0d36e",
   "metadata": {},
   "outputs": [],
   "source": [
    "queue = deque(['amit','sourabh','aayush'])"
   ]
  },
  {
   "cell_type": "code",
   "execution_count": 21,
   "id": "bb56df4e-c278-470c-8cf6-af2ef8622b82",
   "metadata": {},
   "outputs": [],
   "source": [
    "queue.append('lalit')"
   ]
  },
  {
   "cell_type": "code",
   "execution_count": 22,
   "id": "27c61adb-32fb-4b67-aba0-c49f260b32f9",
   "metadata": {},
   "outputs": [
    {
     "name": "stdout",
     "output_type": "stream",
     "text": [
      "deque(['amit', 'sourabh', 'aayush', 'lalit'])\n"
     ]
    }
   ],
   "source": [
    "print(queue)"
   ]
  },
  {
   "cell_type": "code",
   "execution_count": 23,
   "id": "42b7bf29-7194-4eed-b99e-4c9e1550c803",
   "metadata": {},
   "outputs": [
    {
     "data": {
      "text/plain": [
       "'lalit'"
      ]
     },
     "execution_count": 23,
     "metadata": {},
     "output_type": "execute_result"
    }
   ],
   "source": [
    "queue.pop()"
   ]
  },
  {
   "cell_type": "code",
   "execution_count": 24,
   "id": "b6392acd-09bd-4282-a84b-a22ec0f8b691",
   "metadata": {},
   "outputs": [
    {
     "data": {
      "text/plain": [
       "'amit'"
      ]
     },
     "execution_count": 24,
     "metadata": {},
     "output_type": "execute_result"
    }
   ],
   "source": [
    "queue.popleft()"
   ]
  },
  {
   "cell_type": "code",
   "execution_count": 25,
   "id": "ad168009-2970-4b39-8bb2-f3fbf3ae86ec",
   "metadata": {},
   "outputs": [
    {
     "name": "stdout",
     "output_type": "stream",
     "text": [
      "deque(['sourabh', 'aayush'])\n"
     ]
    }
   ],
   "source": [
    "print(queue)"
   ]
  },
  {
   "cell_type": "markdown",
   "id": "8798830d-4e01-471d-9218-e4f280d6a3d5",
   "metadata": {},
   "source": [
    "## List comprehensions"
   ]
  },
  {
   "cell_type": "code",
   "execution_count": 26,
   "id": "02ee980a-96ef-4a75-bdd5-1f8f2ac2487b",
   "metadata": {},
   "outputs": [],
   "source": [
    "squares = [x**2 for x in range(10)]"
   ]
  },
  {
   "cell_type": "code",
   "execution_count": 27,
   "id": "097b91d3-49b4-47fe-abaf-59755e222b6d",
   "metadata": {},
   "outputs": [
    {
     "name": "stdout",
     "output_type": "stream",
     "text": [
      "[0, 1, 4, 9, 16, 25, 36, 49, 64, 81]\n"
     ]
    }
   ],
   "source": [
    "print(squares)"
   ]
  },
  {
   "cell_type": "code",
   "execution_count": 30,
   "id": "629dae27-c47b-4067-8dc7-34265d8bd7f0",
   "metadata": {},
   "outputs": [],
   "source": [
    "combs = [(x,y) for x in [1,3,5] for y in [4,5,6] if x!= y]"
   ]
  },
  {
   "cell_type": "code",
   "execution_count": 31,
   "id": "3c5ef8d5-0b24-4a3e-a7ea-4933690ac2ac",
   "metadata": {},
   "outputs": [
    {
     "name": "stdout",
     "output_type": "stream",
     "text": [
      "[(1, 4), (1, 5), (1, 6), (3, 4), (3, 5), (3, 6), (5, 4), (5, 6)]\n"
     ]
    }
   ],
   "source": [
    "print(combs)"
   ]
  },
  {
   "cell_type": "code",
   "execution_count": 33,
   "id": "8ba79e2c-e52d-469b-a036-ffb086450ec9",
   "metadata": {},
   "outputs": [],
   "source": [
    "vec = [-4, -2, 0, 2, 4]"
   ]
  },
  {
   "cell_type": "code",
   "execution_count": 34,
   "id": "3ebbafe6-673e-4716-a664-13267900ac37",
   "metadata": {},
   "outputs": [
    {
     "name": "stdout",
     "output_type": "stream",
     "text": [
      "[16, 4, 0, 4, 16]\n"
     ]
    }
   ],
   "source": [
    "print([x**2 for x in vec])"
   ]
  },
  {
   "cell_type": "code",
   "execution_count": 35,
   "id": "478e63bc-336d-4a4c-8786-f265ecaae28b",
   "metadata": {},
   "outputs": [
    {
     "name": "stdout",
     "output_type": "stream",
     "text": [
      "[4, 2, 0, 2, 4]\n"
     ]
    }
   ],
   "source": [
    "print([abs(x) for x in vec])"
   ]
  },
  {
   "cell_type": "code",
   "execution_count": 36,
   "id": "f7437cf1-1646-45fc-9b3d-82c374b2a327",
   "metadata": {},
   "outputs": [],
   "source": [
    "vec = [[1,2,3], [4,5,6], [7,8,9]]"
   ]
  },
  {
   "cell_type": "code",
   "execution_count": 37,
   "id": "ae59a4fa-88fe-4fbf-be40-dddcd5daee5d",
   "metadata": {},
   "outputs": [
    {
     "name": "stdout",
     "output_type": "stream",
     "text": [
      "[1, 2, 3, 4, 5, 6, 7, 8, 9]\n"
     ]
    }
   ],
   "source": [
    "print([num for enum in vec for num in enum])"
   ]
  },
  {
   "cell_type": "markdown",
   "id": "ba5ed707-216a-40cd-bc9f-44a7b864b4f4",
   "metadata": {},
   "source": [
    "## Nested list compreshensions"
   ]
  },
  {
   "cell_type": "code",
   "execution_count": 39,
   "id": "42472d81-03a5-4e06-81d5-aebe925450f3",
   "metadata": {},
   "outputs": [],
   "source": [
    "matrix = [\n",
    "    [1, 2, 3, 4],\n",
    "    [5, 6, 7, 8],\n",
    "    [9, 10, 11, 12],\n",
    "]"
   ]
  },
  {
   "cell_type": "markdown",
   "id": "347cf2e5-550c-420a-b211-fad39d42d37f",
   "metadata": {},
   "source": [
    "Comprehensed way"
   ]
  },
  {
   "cell_type": "code",
   "execution_count": 40,
   "id": "62b76f31-38b5-4590-b319-5ae8e0913064",
   "metadata": {},
   "outputs": [
    {
     "name": "stdout",
     "output_type": "stream",
     "text": [
      "[[1, 5, 9], [2, 6, 10], [3, 7, 11], [4, 8, 12]]\n"
     ]
    }
   ],
   "source": [
    "print([[row[i] for row in matrix] for i in range(4)])"
   ]
  },
  {
   "cell_type": "markdown",
   "id": "bd2033be-3a51-437d-a0b8-26f827ea1d22",
   "metadata": {},
   "source": [
    "other way"
   ]
  },
  {
   "cell_type": "code",
   "execution_count": 42,
   "id": "a56d5866-0690-4794-96be-2776591f7724",
   "metadata": {},
   "outputs": [
    {
     "name": "stdout",
     "output_type": "stream",
     "text": [
      "[[1, 5, 9], [2, 6, 10], [3, 7, 11], [4, 8, 12]]\n"
     ]
    }
   ],
   "source": [
    "transpond = [] \n",
    "for i in range(4):\n",
    "    transpond.append([row[i] for row in matrix])\n",
    "\n",
    "print(transpond)"
   ]
  },
  {
   "cell_type": "markdown",
   "id": "4f1fa2f5-fac8-4d77-afac-82aefa99c75d",
   "metadata": {},
   "source": [
    "## del statement"
   ]
  },
  {
   "cell_type": "code",
   "execution_count": 44,
   "id": "219c14d3-fa64-4d52-9d8f-80462f3b4a3a",
   "metadata": {},
   "outputs": [
    {
     "name": "stdout",
     "output_type": "stream",
     "text": [
      "[1, 66.25, 333, 333, 1234.5]\n"
     ]
    }
   ],
   "source": [
    "a = [-1, 1, 66.25, 333, 333, 1234.5]\n",
    "del a[0]\n",
    "print(a)"
   ]
  },
  {
   "cell_type": "code",
   "execution_count": 45,
   "id": "fc72ee9d-06fe-4894-842f-1be0644581f8",
   "metadata": {},
   "outputs": [
    {
     "name": "stdout",
     "output_type": "stream",
     "text": [
      "[1, 66.25, 1234.5]\n"
     ]
    }
   ],
   "source": [
    "del a[2:4]\n",
    "print(a)\n"
   ]
  },
  {
   "cell_type": "code",
   "execution_count": 46,
   "id": "a1cddefe-1ba0-47b9-8e4d-da87580b2706",
   "metadata": {},
   "outputs": [
    {
     "name": "stdout",
     "output_type": "stream",
     "text": [
      "[]\n"
     ]
    }
   ],
   "source": [
    "del a[:]\n",
    "print(a)"
   ]
  },
  {
   "cell_type": "code",
   "execution_count": 48,
   "id": "9aa284ec-1b26-432c-aea9-2d31bf260b67",
   "metadata": {},
   "outputs": [
    {
     "name": "stdout",
     "output_type": "stream",
     "text": [
      "[2, 'lalit', 1.3, 3]\n"
     ]
    }
   ],
   "source": [
    "spr = [2,'lalit', 1.3, 1+2]\n",
    "print(spr)"
   ]
  },
  {
   "cell_type": "code",
   "execution_count": null,
   "id": "5b82796a-c1c1-44bd-a51a-8ea6488a7edb",
   "metadata": {},
   "outputs": [],
   "source": []
  }
 ],
 "metadata": {
  "kernelspec": {
   "display_name": "Python 3 (ipykernel)",
   "language": "python",
   "name": "python3"
  },
  "language_info": {
   "codemirror_mode": {
    "name": "ipython",
    "version": 3
   },
   "file_extension": ".py",
   "mimetype": "text/x-python",
   "name": "python",
   "nbconvert_exporter": "python",
   "pygments_lexer": "ipython3",
   "version": "3.12.4"
  }
 },
 "nbformat": 4,
 "nbformat_minor": 5
}
