{
 "cells": [
  {
   "cell_type": "markdown",
   "id": "bc0149ce-2298-4032-8658-0bde46dc1b10",
   "metadata": {},
   "source": [
    "# Set"
   ]
  },
  {
   "cell_type": "markdown",
   "id": "c8dff32a-c52a-45db-a571-7a47763ceae0",
   "metadata": {},
   "source": [
    "### Python also includes a data type for sets. A set is an unordered collection with no duplicate elements. Basic uses include membership testing and eliminating duplicate entries. Set objects also support mathematical operations like union, intersection, difference, and symmetric difference."
   ]
  },
  {
   "cell_type": "code",
   "execution_count": 1,
   "id": "e038395d-a97d-4c36-9db1-dffe2a5597c3",
   "metadata": {},
   "outputs": [],
   "source": [
    "basket = {'apple', 'orange', 'apple', 'pear', 'orange', 'banana'}"
   ]
  },
  {
   "cell_type": "code",
   "execution_count": 2,
   "id": "34cff626-6e54-47a3-9ab7-cf44bb08c27f",
   "metadata": {},
   "outputs": [
    {
     "name": "stdout",
     "output_type": "stream",
     "text": [
      "{'pear', 'banana', 'apple', 'orange'}\n"
     ]
    }
   ],
   "source": [
    "print(basket)"
   ]
  },
  {
   "cell_type": "markdown",
   "id": "ed8b116b-9304-45a0-b230-f087929ff976",
   "metadata": {},
   "source": [
    "element testing"
   ]
  },
  {
   "cell_type": "code",
   "execution_count": 3,
   "id": "8f8c4ab0-b97f-4dbe-929b-d6fbe73805d4",
   "metadata": {},
   "outputs": [
    {
     "name": "stdout",
     "output_type": "stream",
     "text": [
      "False\n"
     ]
    }
   ],
   "source": [
    "print('hello' in basket)"
   ]
  },
  {
   "cell_type": "code",
   "execution_count": 4,
   "id": "b04e7c56-d314-4cbb-86d0-b4c83a7f3d92",
   "metadata": {},
   "outputs": [
    {
     "name": "stdout",
     "output_type": "stream",
     "text": [
      "True\n"
     ]
    }
   ],
   "source": [
    "print('apple' in basket)"
   ]
  },
  {
   "cell_type": "code",
   "execution_count": 5,
   "id": "f8d3a4d2-f762-458e-ac22-5cd85f9e74cb",
   "metadata": {},
   "outputs": [],
   "source": [
    "a = set('abracadabra')\n",
    "b = set('alacazam')"
   ]
  },
  {
   "cell_type": "code",
   "execution_count": 7,
   "id": "674e2348-0e5b-44ba-b4df-d84fd8acd139",
   "metadata": {},
   "outputs": [
    {
     "name": "stdout",
     "output_type": "stream",
     "text": [
      "{'b', 'a', 'r', 'c', 'd'}\n",
      "{'l', 'a', 'c', 'z', 'm'}\n"
     ]
    }
   ],
   "source": [
    "print(a)\n",
    "print(b)"
   ]
  },
  {
   "cell_type": "markdown",
   "id": "d78398cd-e640-40e3-92a8-f301913e6ff1",
   "metadata": {},
   "source": [
    "We can perform mathematical operations on them"
   ]
  },
  {
   "cell_type": "code",
   "execution_count": 8,
   "id": "bf00f6b4-e369-45ff-a012-15383349d9be",
   "metadata": {},
   "outputs": [
    {
     "name": "stdout",
     "output_type": "stream",
     "text": [
      "{'b', 'r', 'd'}\n"
     ]
    }
   ],
   "source": [
    "print(a-b)"
   ]
  },
  {
   "cell_type": "code",
   "execution_count": 9,
   "id": "53495afa-4590-4f92-bfac-181a14afeab3",
   "metadata": {},
   "outputs": [
    {
     "name": "stdout",
     "output_type": "stream",
     "text": [
      "{'z', 'l', 'm'}\n"
     ]
    }
   ],
   "source": [
    "print(b-a)"
   ]
  },
  {
   "cell_type": "markdown",
   "id": "ec7a5649-66d2-425d-9bd2-c4d757979e1f",
   "metadata": {},
   "source": [
    "letter in a and b or both"
   ]
  },
  {
   "cell_type": "markdown",
   "id": "470630ee-9b32-4efc-aeab-923148f4c4a1",
   "metadata": {},
   "source": [
    "print(a|b)"
   ]
  },
  {
   "cell_type": "markdown",
   "id": "56abf429-0529-4bee-a27d-33c21da4b862",
   "metadata": {},
   "source": [
    "letter in a and b"
   ]
  },
  {
   "cell_type": "code",
   "execution_count": 11,
   "id": "26f4ed66-3442-4294-8aa6-bece48a9ab91",
   "metadata": {},
   "outputs": [
    {
     "name": "stdout",
     "output_type": "stream",
     "text": [
      "{'a', 'c'}\n"
     ]
    }
   ],
   "source": [
    "print(a&b)"
   ]
  },
  {
   "cell_type": "markdown",
   "id": "42eff1d3-3a55-42f3-9357-1dfec4bacbb2",
   "metadata": {},
   "source": [
    "letter in a or b but not in both"
   ]
  },
  {
   "cell_type": "code",
   "execution_count": 13,
   "id": "996a8c51-cb75-4956-8d22-2a9e2ced0015",
   "metadata": {},
   "outputs": [
    {
     "name": "stdout",
     "output_type": "stream",
     "text": [
      "{'r', 'l', 'd', 'b', 'z', 'm'}\n"
     ]
    }
   ],
   "source": [
    "print(a^b)"
   ]
  },
  {
   "cell_type": "markdown",
   "id": "91673b98-7d1d-4158-b944-be17cc866d27",
   "metadata": {},
   "source": [
    "## Set Comprehensions"
   ]
  },
  {
   "cell_type": "code",
   "execution_count": 18,
   "id": "289ca3fe-8dbb-4abc-a5a2-faac48be9507",
   "metadata": {},
   "outputs": [
    {
     "name": "stdout",
     "output_type": "stream",
     "text": [
      "{'e', 'g', 'r', 'd', 's', 'f'}\n"
     ]
    }
   ],
   "source": [
    "set1 = {x for x in 'abcdssddefeggferererf' if x not in 'abc'}\n",
    "print(set1)"
   ]
  },
  {
   "cell_type": "code",
   "execution_count": null,
   "id": "a6129cfc-72d9-4ff8-b777-2e1ebd1e7f2d",
   "metadata": {},
   "outputs": [],
   "source": []
  }
 ],
 "metadata": {
  "kernelspec": {
   "display_name": "Python 3 (ipykernel)",
   "language": "python",
   "name": "python3"
  },
  "language_info": {
   "codemirror_mode": {
    "name": "ipython",
    "version": 3
   },
   "file_extension": ".py",
   "mimetype": "text/x-python",
   "name": "python",
   "nbconvert_exporter": "python",
   "pygments_lexer": "ipython3",
   "version": "3.12.4"
  }
 },
 "nbformat": 4,
 "nbformat_minor": 5
}
