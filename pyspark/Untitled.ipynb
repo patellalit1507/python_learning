{
 "cells": [
  {
   "cell_type": "code",
   "execution_count": 12,
   "id": "d476a4a8-0205-4cc8-89e9-c0395a662bd9",
   "metadata": {},
   "outputs": [],
   "source": [
    "from pyspark.sql import SparkSession"
   ]
  },
  {
   "cell_type": "code",
   "execution_count": 15,
   "id": "e02a88f2-b086-4b01-8672-3b17853bdede",
   "metadata": {},
   "outputs": [],
   "source": [
    "spark = SparkSession.builder.appName(\"word count\").getOrCreate()"
   ]
  },
  {
   "cell_type": "code",
   "execution_count": 18,
   "id": "6bc848fe-c66e-483f-9f59-4edbafe1b35c",
   "metadata": {},
   "outputs": [],
   "source": [
    "df = spark.read.text(\"word.txt\")"
   ]
  },
  {
   "cell_type": "code",
   "execution_count": 21,
   "id": "cb6bce73-f170-46ec-859c-e29472fe0675",
   "metadata": {},
   "outputs": [
    {
     "name": "stdout",
     "output_type": "stream",
     "text": [
      "+-------------------+\n",
      "|              value|\n",
      "+-------------------+\n",
      "|PySpark is powerful|\n",
      "|    PySpark is fast|\n",
      "+-------------------+\n",
      "\n"
     ]
    }
   ],
   "source": [
    "df.show()"
   ]
  },
  {
   "cell_type": "code",
   "execution_count": 22,
   "id": "67e522da-033d-4383-8736-bf1403717b48",
   "metadata": {},
   "outputs": [
    {
     "data": {
      "text/html": [
       "\n",
       "            <div>\n",
       "                <p><b>SparkSession - in-memory</b></p>\n",
       "                \n",
       "        <div>\n",
       "            <p><b>SparkContext</b></p>\n",
       "\n",
       "            <p><a href=\"http://NTLalitPatel:4040\">Spark UI</a></p>\n",
       "\n",
       "            <dl>\n",
       "              <dt>Version</dt>\n",
       "                <dd><code>v3.5.5</code></dd>\n",
       "              <dt>Master</dt>\n",
       "                <dd><code>local</code></dd>\n",
       "              <dt>AppName</dt>\n",
       "                <dd><code>WordCountApp</code></dd>\n",
       "            </dl>\n",
       "        </div>\n",
       "        \n",
       "            </div>\n",
       "        "
      ],
      "text/plain": [
       "<pyspark.sql.session.SparkSession at 0x2973762b380>"
      ]
     },
     "execution_count": 22,
     "metadata": {},
     "output_type": "execute_result"
    }
   ],
   "source": [
    "spark"
   ]
  },
  {
   "cell_type": "code",
   "execution_count": 27,
   "id": "1de4c518-71f7-440a-afec-8537d5ba7452",
   "metadata": {},
   "outputs": [],
   "source": [
    "data = spark.read.csv(\"data.csv\", header = \"True\",inferSchema = \"True\")"
   ]
  },
  {
   "cell_type": "code",
   "execution_count": 28,
   "id": "98b64d51-d657-47ac-a36a-e32c4e7acb5c",
   "metadata": {},
   "outputs": [
    {
     "name": "stdout",
     "output_type": "stream",
     "text": [
      "+-----------+-----------+----------+------+----------+---------+\n",
      "|employee_id|       name|department|salary| join_date|is_active|\n",
      "+-----------+-----------+----------+------+----------+---------+\n",
      "|        101|Alice Brown|        IT| 85000|2019-06-10|     true|\n",
      "|        102|  Bob Smith|        HR| 65000|2020-01-15|     true|\n",
      "|        103|Charlie Lee|   Finance| 72000|2018-11-01|    false|\n",
      "|        104|Diana Green|        IT| 92000|2021-09-05|     true|\n",
      "|        105| Evan White| Marketing| 60000|2022-03-19|     true|\n",
      "|        106|Fiona Black|        HR| 68000|2020-07-23|    false|\n",
      "+-----------+-----------+----------+------+----------+---------+\n",
      "\n"
     ]
    }
   ],
   "source": [
    "data.show()"
   ]
  },
  {
   "cell_type": "code",
   "execution_count": 29,
   "id": "6e1a2359-d348-4896-aa8e-56129a99a08c",
   "metadata": {},
   "outputs": [
    {
     "name": "stdout",
     "output_type": "stream",
     "text": [
      "root\n",
      " |-- employee_id: integer (nullable = true)\n",
      " |-- name: string (nullable = true)\n",
      " |-- department: string (nullable = true)\n",
      " |-- salary: integer (nullable = true)\n",
      " |-- join_date: date (nullable = true)\n",
      " |-- is_active: boolean (nullable = true)\n",
      "\n"
     ]
    }
   ],
   "source": [
    "data.printSchema()"
   ]
  },
  {
   "cell_type": "code",
   "execution_count": null,
   "id": "98dda61c-7e25-46d7-8f00-146bd631016e",
   "metadata": {},
   "outputs": [],
   "source": []
  }
 ],
 "metadata": {
  "kernelspec": {
   "display_name": "Python 3 (ipykernel)",
   "language": "python",
   "name": "python3"
  },
  "language_info": {
   "codemirror_mode": {
    "name": "ipython",
    "version": 3
   },
   "file_extension": ".py",
   "mimetype": "text/x-python",
   "name": "python",
   "nbconvert_exporter": "python",
   "pygments_lexer": "ipython3",
   "version": "3.12.4"
  },
  "widgets": {
   "application/vnd.jupyter.widget-state+json": {
    "state": {},
    "version_major": 2,
    "version_minor": 0
   }
  }
 },
 "nbformat": 4,
 "nbformat_minor": 5
}
