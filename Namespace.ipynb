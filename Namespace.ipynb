{
 "cells": [
  {
   "cell_type": "markdown",
   "id": "6a12f571-cb20-43af-b4a0-2adecc0165c5",
   "metadata": {},
   "source": [
    "### (Local → Enclosing → Global → Built-in)\n"
   ]
  },
  {
   "cell_type": "code",
   "execution_count": 6,
   "id": "991e243e-6058-45c1-be3c-ee18b1168a7a",
   "metadata": {},
   "outputs": [
    {
     "name": "stdout",
     "output_type": "stream",
     "text": [
      "After local assignment: test spam\n",
      "After nonlocal assignment: nonlocal spam\n",
      "After global assignment: nonlocal spam\n",
      "in global spam global spam\n"
     ]
    }
   ],
   "source": [
    "def scope_test():\n",
    "    \n",
    "    def do_local():\n",
    "        spam = \"local spam\"   # New local variable created (inner function)\n",
    "\n",
    "    def do_nonlocal():\n",
    "        nonlocal spam         # Refers to outer function variable\n",
    "        spam = \"nonlocal spam\"\n",
    "\n",
    "    def do_global():\n",
    "        global spam           # Refers to global variable\n",
    "        spam = \"global spam\"\n",
    "\n",
    "    spam = \"test spam\"        # This is local to scope_test()\n",
    "\n",
    "    do_local()                # Does nothing to outer 'spam'\n",
    "    print(\"After local assignment:\", spam)\n",
    "\n",
    "    do_nonlocal()             # Changes outer 'spam'\n",
    "    print(\"After nonlocal assignment:\", spam)\n",
    "\n",
    "    do_global()               # Changes global 'spam'\n",
    "    print(\"After global assignment:\", spam)\n",
    "\n",
    "scope_test()\n",
    "print(\"in global spam\", spam)"
   ]
  },
  {
   "cell_type": "code",
   "execution_count": null,
   "id": "7472653e-d8e2-4040-855c-be2cc0099b5e",
   "metadata": {},
   "outputs": [],
   "source": []
  }
 ],
 "metadata": {
  "kernelspec": {
   "display_name": "Python 3 (ipykernel)",
   "language": "python",
   "name": "python3"
  },
  "language_info": {
   "codemirror_mode": {
    "name": "ipython",
    "version": 3
   },
   "file_extension": ".py",
   "mimetype": "text/x-python",
   "name": "python",
   "nbconvert_exporter": "python",
   "pygments_lexer": "ipython3",
   "version": "3.12.4"
  }
 },
 "nbformat": 4,
 "nbformat_minor": 5
}
