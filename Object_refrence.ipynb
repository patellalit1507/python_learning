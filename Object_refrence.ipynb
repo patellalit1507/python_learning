{
 "cells": [
  {
   "cell_type": "code",
   "execution_count": 3,
   "id": "2f23b2da-2019-44b7-bac7-5191d120d8a1",
   "metadata": {},
   "outputs": [
    {
     "name": "stdout",
     "output_type": "stream",
     "text": [
      "11 inside the method\n",
      "10 outside the method\n"
     ]
    }
   ],
   "source": [
    "def method(a):\n",
    "    a+= 1\n",
    "    print(f\"{a} inside the method\")\n",
    "\n",
    "a =10\n",
    "method(a)\n",
    "print(f\"{a} outside the method\" )"
   ]
  },
  {
   "cell_type": "code",
   "execution_count": null,
   "id": "db9cde02-bfa9-4c4a-a55b-e6210935d164",
   "metadata": {},
   "outputs": [],
   "source": []
  }
 ],
 "metadata": {
  "kernelspec": {
   "display_name": "Python 3 (ipykernel)",
   "language": "python",
   "name": "python3"
  },
  "language_info": {
   "codemirror_mode": {
    "name": "ipython",
    "version": 3
   },
   "file_extension": ".py",
   "mimetype": "text/x-python",
   "name": "python",
   "nbconvert_exporter": "python",
   "pygments_lexer": "ipython3",
   "version": "3.12.4"
  },
  "widgets": {
   "application/vnd.jupyter.widget-state+json": {
    "state": {},
    "version_major": 2,
    "version_minor": 0
   }
  }
 },
 "nbformat": 4,
 "nbformat_minor": 5
}
